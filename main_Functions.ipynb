{
 "cells": [
  {
   "cell_type": "markdown",
   "metadata": {},
   "source": [
    "###### Andrés Genta\n",
    "# Functions"
   ]
  },
  {
   "cell_type": "markdown",
   "metadata": {},
   "source": [
    "On this lab we will put to practice some of the concepts we have learned on this past few days.\n",
    "\n",
    "`NOTE: On this lab you should try to write all the functions yourself using only the most basic of python syntax and without functions such as len, count, sum, max, min, in, etc. Give it a try. 🧑🏻‍💻👩🏻‍💻`\n",
    "\n",
    "The cell after each exercise contains a few tests to check if your function works as expected."
   ]
  },
  {
   "cell_type": "code",
   "execution_count": 197,
   "metadata": {
    "tags": []
   },
   "outputs": [],
   "source": [
    "from mod.testing import *\n",
    "import unittest"
   ]
  },
  {
   "cell_type": "markdown",
   "metadata": {},
   "source": [
    "## 1. Write a function that returns the greater of two numbers"
   ]
  },
  {
   "cell_type": "code",
   "execution_count": 5,
   "metadata": {
    "tags": []
   },
   "outputs": [],
   "source": [
    "def greater(n1,n2):\n",
    "    if n1>n2:\n",
    "        return n1\n",
    "    elif n1==n2:\n",
    "        pass\n",
    "    else:\n",
    "        return n2"
   ]
  },
  {
   "cell_type": "code",
   "execution_count": 6,
   "metadata": {
    "tags": []
   },
   "outputs": [
    {
     "data": {
      "text/plain": [
       "6"
      ]
     },
     "execution_count": 6,
     "metadata": {},
     "output_type": "execute_result"
    }
   ],
   "source": [
    "greater(6,5)"
   ]
  },
  {
   "cell_type": "code",
   "execution_count": null,
   "metadata": {},
   "outputs": [],
   "source": [
    "# This will test your function \n",
    "test_greater(greater):"
   ]
  },
  {
   "cell_type": "markdown",
   "metadata": {},
   "source": [
    "## 2. Now write a function that returns the largest element on a list"
   ]
  },
  {
   "cell_type": "code",
   "execution_count": 18,
   "metadata": {
    "tags": []
   },
   "outputs": [],
   "source": [
    "lst = [1,2,3,4,5,66,41,9]\n",
    "def greatest(lista):\n",
    "    lista.sort()\n",
    "    return lista[-1]\n",
    "    "
   ]
  },
  {
   "cell_type": "code",
   "execution_count": 19,
   "metadata": {
    "tags": []
   },
   "outputs": [
    {
     "data": {
      "text/plain": [
       "7"
      ]
     },
     "execution_count": 19,
     "metadata": {},
     "output_type": "execute_result"
    }
   ],
   "source": [
    "listaa=[7,2,6]\n",
    "greatest(listaa)"
   ]
  },
  {
   "cell_type": "code",
   "execution_count": null,
   "metadata": {},
   "outputs": [],
   "source": [
    "# This will test your function\n",
    "test_greatest(greatest)"
   ]
  },
  {
   "cell_type": "markdown",
   "metadata": {},
   "source": [
    "## 3. Write a function that sums all the elements on a list"
   ]
  },
  {
   "cell_type": "code",
   "execution_count": 166,
   "metadata": {
    "tags": []
   },
   "outputs": [
    {
     "data": {
      "text/plain": [
       "13"
      ]
     },
     "execution_count": 166,
     "metadata": {},
     "output_type": "execute_result"
    }
   ],
   "source": [
    "def sum_all(lista3): #Usando la recursión\n",
    "    if lista3==[]: #Si la lista está vacía, devuelve 0 (pues la suma de los elementos es nula) y finalizaría la recursión\n",
    "        return 0   \n",
    "    return lista3[0] + sum_all(lista3[1:])\n",
    "sum_all([2,6,5]) #Prueba "
   ]
  },
  {
   "cell_type": "code",
   "execution_count": null,
   "metadata": {},
   "outputs": [],
   "source": [
    "# This will test your function \n",
    "test_sum(sum_all)"
   ]
  },
  {
   "cell_type": "markdown",
   "metadata": {},
   "source": [
    "## 4. Write another function that multiplies all the elements on a list"
   ]
  },
  {
   "cell_type": "code",
   "execution_count": 169,
   "metadata": {},
   "outputs": [
    {
     "data": {
      "text/plain": [
       "12"
      ]
     },
     "execution_count": 169,
     "metadata": {},
     "output_type": "execute_result"
    }
   ],
   "source": [
    "def mult_all(lista4):  #Nuevamente con recursión\n",
    "    if lista4==[] or lista4[0]==0:\n",
    "        return True\n",
    "    else:\n",
    "        return lista4[0] * mult_all(lista4[1:])\n",
    "lista4=[2,3,2]    \n",
    "mult_all(lista4)"
   ]
  },
  {
   "cell_type": "code",
   "execution_count": null,
   "metadata": {},
   "outputs": [],
   "source": [
    "# This will test your function \n",
    "test_mult(mult_all)"
   ]
  },
  {
   "cell_type": "markdown",
   "metadata": {},
   "source": [
    "## 5. Now combine those two ideas and write a function that receives a list and either \"+\" or \"*\" and outputs acordingly"
   ]
  },
  {
   "cell_type": "code",
   "execution_count": 107,
   "metadata": {},
   "outputs": [
    {
     "name": "stdout",
     "output_type": "stream",
     "text": [
      "Sum of elements in the list: 15\n",
      "Product of elements in the list: 120\n"
     ]
    }
   ],
   "source": [
    "def oper_all(lst, operator):\n",
    "    if operator not in ('+', '*'):\n",
    "        raise ValueError(\"Invalid operator. Use '+' or '*'.\")\n",
    "\n",
    "    base_value = 0 if operator == '+' else 1\n",
    "   \n",
    "    def recursive_operation(sublist):\n",
    "        if not sublist:\n",
    "            return base_value\n",
    "        return sublist[0] + recursive_operation(sublist[1:]) if operator == '+' else sublist[0] * recursive_operation(sublist[1:])\n",
    "\n",
    "    result = recursive_operation(lst)\n",
    "    return result\n",
    "\n",
    "#Ejemplo\n",
    "my_list = [1, 2, 3, 4, 5]\n",
    "\n",
    "result_addition = oper_all(my_list, '+')\n",
    "print(\"Sum of elements in the list:\", result_addition)\n",
    "\n",
    "result_multiplication = oper_all(my_list, '*')\n",
    "print(\"Product of elements in the list:\", result_multiplication)"
   ]
  },
  {
   "cell_type": "code",
   "execution_count": null,
   "metadata": {},
   "outputs": [],
   "source": [
    "# This will test your function \n",
    "test_operations(oper_all)"
   ]
  },
  {
   "cell_type": "markdown",
   "metadata": {},
   "source": [
    "## 6. Write a function that returns the factorial of a number."
   ]
  },
  {
   "cell_type": "code",
   "execution_count": 117,
   "metadata": {},
   "outputs": [],
   "source": [
    "#factorial formula\n",
    "#n! = n * ( n - 1 ) *...*1\n",
    "\n",
    "# This code defines a function called \"factorial\" which takes an input \"n\". The function uses a for loop to iterate through the range of numbers \n",
    "# from 1 to n+1. For each number in that range, it multiplies the current value of x by the number in the range. At the end of the loop, \n",
    "# the function returns the final value of x, which will be the factorial of the input number \"n\".\n",
    "\n",
    "# The Factorial of a positive integer n is the product of all positive integers less than or equal to n. \n",
    "# For example, the factorial of 6 (written \"6!\") is 6 * 5 * 4 * 3 * 2 * 1 = 720.\n",
    "\n",
    "# So this function takes an input of any positive integer, and returns the factorial of that number."
   ]
  },
  {
   "cell_type": "code",
   "execution_count": 176,
   "metadata": {},
   "outputs": [],
   "source": [
    "# your code here, name the function factorial"
   ]
  },
  {
   "cell_type": "code",
   "execution_count": 181,
   "metadata": {
    "tags": []
   },
   "outputs": [
    {
     "data": {
      "text/plain": [
       "6"
      ]
     },
     "execution_count": 181,
     "metadata": {},
     "output_type": "execute_result"
    }
   ],
   "source": [
    "from functools import reduce  #Lo hice usando lo aprendido en la clase de Lambda, Maps, Filter, Reduce. No se si es válido, pero usé una función y el lab es de funciones.\n",
    "product = reduce(lambda a, b: a * b, [1,2,3][0:3])\n",
    "product"
   ]
  },
  {
   "cell_type": "code",
   "execution_count": null,
   "metadata": {},
   "outputs": [],
   "source": [
    "# This will test your function \n",
    "test_factorial(factorial)"
   ]
  },
  {
   "cell_type": "markdown",
   "metadata": {},
   "source": [
    "## 7. Write a function that takes a list and returns a list of the unique values.\n",
    "\n",
    "`NOTE: You cannot use set. 🤔`"
   ]
  },
  {
   "cell_type": "code",
   "execution_count": 194,
   "metadata": {
    "tags": []
   },
   "outputs": [
    {
     "name": "stdout",
     "output_type": "stream",
     "text": [
      "Unique values in the list: [1, 2, 3, 4, 5]\n"
     ]
    }
   ],
   "source": [
    "def unique_values(lst, unique_list=None):\n",
    "    # Initialize unique_list to an empty list if not provided\n",
    "    if unique_list is None:\n",
    "        unique_list = []\n",
    "\n",
    "    # Base case: if the list is empty, return the unique_list\n",
    "    if not lst:\n",
    "        return unique_list\n",
    "\n",
    "    # Check if the first element is not in unique_list\n",
    "    if lst[0] not in unique_list:\n",
    "        unique_list.append(lst[0])\n",
    "\n",
    "    # Recursive call with the rest of the list\n",
    "    return unique_values(lst[1:], unique_list)\n",
    "my_list = [1, 2, 2, 3, 4, 4, 5]\n",
    "result = unique_values(my_list)\n",
    "print(\"Unique values in the list:\", result)"
   ]
  },
  {
   "cell_type": "code",
   "execution_count": null,
   "metadata": {},
   "outputs": [],
   "source": [
    "# This will test your function \n",
    "test_unique(unique)"
   ]
  },
  {
   "cell_type": "markdown",
   "metadata": {},
   "source": [
    "## 8. Write a function that returns the mode of a list, i.e.: the element that appears the most times.\n",
    "`NOTE: You should not use count... 🧐`"
   ]
  },
  {
   "cell_type": "code",
   "execution_count": 201,
   "metadata": {},
   "outputs": [
    {
     "data": {
      "text/plain": [
       "3"
      ]
     },
     "execution_count": 201,
     "metadata": {},
     "output_type": "execute_result"
    }
   ],
   "source": [
    "def mode(lista8):\n",
    "    sums = {}\n",
    "    for i in lista8:\n",
    "        if i in sums:\n",
    "            sums[i]+=1\n",
    "        else:\n",
    "            sums[i] = 1\n",
    "    maxModes = [[-1, -1]]\n",
    "    for j in sums:\n",
    "        if sums[j] > maxModes[0][0]:\n",
    "            maxModes = [[sums[j], j]]\n",
    "        elif sums[j] == maxModes[0][0]:\n",
    "            maxModes.append([sums[j], j])\n",
    "    indices = 0\n",
    "    for k in maxModes:\n",
    "        indices+=1\n",
    "    if indices == 1:\n",
    "        return maxModes[0][1]\n",
    "    else:\n",
    "        thisSum = 0\n",
    "        for l in maxModes:\n",
    "            thisSum+=l[1]\n",
    "        return float(thisSum)/indices\n",
    "mode([1,3,6,2,3]) #Ejemplo"
   ]
  },
  {
   "cell_type": "code",
   "execution_count": null,
   "metadata": {},
   "outputs": [],
   "source": [
    "# This will test your function \n",
    "test_mode(mode_counter)"
   ]
  },
  {
   "cell_type": "markdown",
   "metadata": {},
   "source": [
    "## 9. Write a function that calculates the standard deviation of a list.\n",
    "`NOTE: Do not use any libraries or already built functions. 😉`"
   ]
  },
  {
   "cell_type": "code",
   "execution_count": 230,
   "metadata": {},
   "outputs": [
    {
     "data": {
      "text/plain": [
       "1.3437096247164249"
      ]
     },
     "execution_count": 230,
     "metadata": {},
     "output_type": "execute_result"
    }
   ],
   "source": [
    "def st_dev(lista9):\n",
    "    prom=sum_all(lista9)/len(lista9)\n",
    "    v=[]\n",
    "    for i in lista9:\n",
    "        v.append((i-prom)**2)\n",
    "    prom2=sum_all(v)/len(v)\n",
    "    standard_deviation=prom2**0.5\n",
    "    return standard_deviation\n",
    "\n",
    "lista9=[5,6,7,4,4,3]\n",
    "st_dev(lista9)    "
   ]
  },
  {
   "cell_type": "code",
   "execution_count": null,
   "metadata": {},
   "outputs": [],
   "source": [
    "# This will test your function \n",
    "test_stdev(st_dev)"
   ]
  },
  {
   "cell_type": "markdown",
   "metadata": {},
   "source": [
    "## 10. Write a function to check if a string is a pangram, i.e.: if it contains all the letters of the alphabet at least once. Mind that the strings may contain characters that are not letters."
   ]
  },
  {
   "cell_type": "code",
   "execution_count": 299,
   "metadata": {},
   "outputs": [
    {
     "name": "stdout",
     "output_type": "stream",
     "text": [
      "El string s SÍ es un pangram\n"
     ]
    }
   ],
   "source": [
    "s=\"11111abcdefghij2223334563klmnñopqrstuvwxyz\"\n",
    "unicos_de_s = unique_values(s)  #Usé la función del ejercicio 7 porque si el string \"unicos_de_s\" no tiene elementos repetidos, son más de 27 elementos(cantidad de letras en del abecedario en español) y además estan todos en \"todas_las_letras\", entonces \"s\" es un pangram\n",
    "v=[]\n",
    "todas_las_letras=\"abcdefghijklmnñopqrstuvwxyz\"\n",
    "for i in unicos_de_s:\n",
    "    if i in todas_las_letras and i.isalpha:\n",
    "        v.append(i)\n",
    "            \n",
    "if len(v)>=27:\n",
    "    print(\"El string s SÍ es un pangram\")\n",
    "else:\n",
    "    print(\"El string s NO es un pangram\")"
   ]
  },
  {
   "cell_type": "code",
   "execution_count": null,
   "metadata": {},
   "outputs": [],
   "source": [
    "# This will test your function \n",
    "test_pangram(pangram)"
   ]
  },
  {
   "cell_type": "markdown",
   "metadata": {},
   "source": [
    "## 11. Write a function that receives a string of comma separated words and returns a string of comma separated words sorted alphabetically.\n",
    "\n",
    "`NOTE: You may use sorted but not split and definitely no join! 🤪`"
   ]
  },
  {
   "cell_type": "code",
   "execution_count": 108,
   "metadata": {
    "tags": []
   },
   "outputs": [
    {
     "name": "stdout",
     "output_type": "stream",
     "text": [
      "['h', 'o', 'l', 'a']\n",
      "['c', 'h', 'a', 'u']\n",
      "['o']\n"
     ]
    },
    {
     "data": {
      "text/plain": [
       "['h', 'o', 'l', 'a', 'c', 'h', 'a', 'u', 'o', 'k']"
      ]
     },
     "execution_count": 108,
     "metadata": {},
     "output_type": "execute_result"
    }
   ],
   "source": [
    "st='hola,chau,ok'\n",
    "v=[]\n",
    "b=[]\n",
    "c=[]\n",
    "for i in st:\n",
    "    v.append(i)\n",
    "    if i==\",\":\n",
    "        break        \n",
    "for i in st[len(v):]:\n",
    "    b.append(i)\n",
    "    if i==\",\":\n",
    "        break\n",
    "for i in st[len(v+b):]:\n",
    "    c.append(i)\n",
    "    \n",
    "v.remove(v[-1])\n",
    "b.remove(b[-1])\n",
    "c.remove(c[-1])\n",
    "print(v)\n",
    "print(b)\n",
    "print(c)\n",
    "total=v+b+c\n",
    "total.append(st[-1])\n",
    "total\n",
    "\n",
    "\n"
   ]
  },
  {
   "cell_type": "code",
   "execution_count": 105,
   "metadata": {
    "tags": []
   },
   "outputs": [
    {
     "name": "stdout",
     "output_type": "stream",
     "text": [
      "Sorted CSV string: apple,banana,grape,orange\n"
     ]
    }
   ],
   "source": [
    "def sort_alpha(csv_string):\n",
    "    words = []\n",
    "    word = \"\"\n",
    "\n",
    "    for char in csv_string:\n",
    "        if char == \",\":\n",
    "            words.append(word)\n",
    "            word = \"\"\n",
    "        else:\n",
    "            word += char\n",
    "\n",
    "    if word:\n",
    "        words.append(word)\n",
    "\n",
    "    sorted_words = sorted(words)\n",
    "    sorted_csv_string = \",\".join(sorted_words)\n",
    "\n",
    "    return sorted_csv_string\n",
    "\n",
    "# Example usage:\n",
    "input_csv_string = \"orange,banana,apple,grape\"\n",
    "result = sort_alpha(input_csv_string)\n",
    "print(\"Sorted CSV string:\", result)"
   ]
  },
  {
   "cell_type": "code",
   "execution_count": null,
   "metadata": {},
   "outputs": [],
   "source": [
    "# This will test your function \n",
    "test_alpha(sort_alpha)"
   ]
  },
  {
   "cell_type": "markdown",
   "metadata": {},
   "source": [
    "## 12. Write a function to check if a given password is strong (at least 8 characters, at least one lower case, at least one upper case, at least one number and at least one special character). It should output True if strong and False if not."
   ]
  },
  {
   "cell_type": "code",
   "execution_count": 106,
   "metadata": {},
   "outputs": [
    {
     "name": "stdout",
     "output_type": "stream",
     "text": [
      "Is the password strong? True\n"
     ]
    }
   ],
   "source": [
    "import re\n",
    "\n",
    "def is_strong_password(password):\n",
    "    # Check length\n",
    "    if len(password) < 8:\n",
    "        return False\n",
    "\n",
    "    # Check for at least one lowercase letter\n",
    "    if not any(char.islower() for char in password):\n",
    "        return False\n",
    "\n",
    "    # Check for at least one uppercase letter\n",
    "    if not any(char.isupper() for char in password):\n",
    "        return False\n",
    "\n",
    "    # Check for at least one digit\n",
    "    if not any(char.isdigit() for char in password):\n",
    "        return False\n",
    "\n",
    "    # Check for at least one special character (non-alphanumeric)\n",
    "    if not re.search(r'[!@#$%^&*(),.?\":{}|<>]', password):\n",
    "        return False\n",
    "\n",
    "    # Password meets all criteria\n",
    "    return True\n",
    "\n",
    "# Example usage:\n",
    "password_example = \"StrongP@ssw0rd\"\n",
    "result = is_strong_password(password_example)\n",
    "print(\"Is the password strong?\", result)"
   ]
  },
  {
   "cell_type": "code",
   "execution_count": null,
   "metadata": {},
   "outputs": [],
   "source": []
  }
 ],
 "metadata": {
  "kernelspec": {
   "display_name": "Python 3 (ipykernel)",
   "language": "python",
   "name": "python3"
  },
  "language_info": {
   "codemirror_mode": {
    "name": "ipython",
    "version": 3
   },
   "file_extension": ".py",
   "mimetype": "text/x-python",
   "name": "python",
   "nbconvert_exporter": "python",
   "pygments_lexer": "ipython3",
   "version": "3.11.5"
  },
  "vscode": {
   "interpreter": {
    "hash": "aee8b7b246df8f9039afb4144a1f6fd8d2ca17a180786b69acc140d282b71a49"
   }
  }
 },
 "nbformat": 4,
 "nbformat_minor": 4
}
