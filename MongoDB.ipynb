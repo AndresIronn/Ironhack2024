{
 "cells": [
  {
   "cell_type": "markdown",
   "metadata": {},
   "source": [
    "# Advanced Querying Mongo"
   ]
  },
  {
   "cell_type": "markdown",
   "metadata": {},
   "source": [
    "Importing libraries and setting up connection with \"companies\" collection. As in class, call it `c`"
   ]
  },
  {
   "cell_type": "code",
   "execution_count": 30,
   "metadata": {},
   "outputs": [],
   "source": [
    "from pymongo import MongoClient\n",
    "client = MongoClient(\"localhost:27017\")"
   ]
  },
  {
   "cell_type": "code",
   "execution_count": 31,
   "metadata": {},
   "outputs": [],
   "source": [
    "db=client[\"Ironhack\"]"
   ]
  },
  {
   "cell_type": "code",
   "execution_count": 32,
   "metadata": {},
   "outputs": [
    {
     "data": {
      "text/plain": [
       "['shoes', 'Restaurants', 'Companies']"
      ]
     },
     "execution_count": 32,
     "metadata": {},
     "output_type": "execute_result"
    }
   ],
   "source": [
    "db\n",
    "db.list_collection_names()"
   ]
  },
  {
   "cell_type": "code",
   "execution_count": 33,
   "metadata": {},
   "outputs": [],
   "source": [
    "c=db.get_collection(\"Companies\")"
   ]
  },
  {
   "cell_type": "code",
   "execution_count": 34,
   "metadata": {},
   "outputs": [
    {
     "data": {
      "text/plain": [
       "dict"
      ]
     },
     "execution_count": 34,
     "metadata": {},
     "output_type": "execute_result"
    }
   ],
   "source": [
    "type(c.find_one())"
   ]
  },
  {
   "cell_type": "markdown",
   "metadata": {
    "scrolled": true
   },
   "source": [
    "#### En la app MongoDB Compass, encontré términos como founded_year, founded_month, ipo.valuation_amount, etc)."
   ]
  },
  {
   "cell_type": "markdown",
   "metadata": {},
   "source": [
    "### 1. All the companies whose name match 'Babelgum'. Retrieve only their `name` field."
   ]
  },
  {
   "cell_type": "code",
   "execution_count": 35,
   "metadata": {},
   "outputs": [
    {
     "name": "stdout",
     "output_type": "stream",
     "text": [
      "[{'name': 'Babelgum'}]\n"
     ]
    }
   ],
   "source": [
    "Babel=list(c.find({\"name\":\"Babelgum\"},{\"_id\":0,\"name\":1,}))\n",
    "print(Babel)"
   ]
  },
  {
   "cell_type": "markdown",
   "metadata": {},
   "source": [
    "### 2. All the companies that have more than 5000 employees. Limit the search to 20 companies and sort them by **number of employees**."
   ]
  },
  {
   "cell_type": "code",
   "execution_count": 36,
   "metadata": {},
   "outputs": [
    {
     "name": "stdout",
     "output_type": "stream",
     "text": [
      "[{'name': 'Siemens'}, {'name': 'IBM'}, {'name': 'Toyota'}, {'name': 'PayPal'}, {'name': 'Nippon Telegraph and Telephone Corporation'}, {'name': 'Samsung Electronics'}, {'name': 'Accenture'}, {'name': 'Tata Consultancy Services'}, {'name': 'Flextronics International'}, {'name': 'Safeway'}, {'name': 'Sony'}, {'name': 'LG'}, {'name': 'Ford'}, {'name': 'Boeing'}, {'name': 'Digital Equipment Corporation'}, {'name': 'Nokia'}, {'name': 'MItsubishi Electric'}, {'name': 'MItsubishi Electric'}, {'name': 'Comcast'}, {'name': 'Bertelsmann'}]\n"
     ]
    }
   ],
   "source": [
    "filterr={\"number_of_employees\":{\"$gte\":5000}}\n",
    "projection={ \"_id\":0,\"name\":1}\n",
    "empresas=list(c.find(filterr,projection).sort(\"number_of_employees\", -1).limit(20))\n",
    "print(empresas)"
   ]
  },
  {
   "cell_type": "markdown",
   "metadata": {},
   "source": [
    "### 3. All the companies founded between 2000 and 2005, both years included. Retrieve only the `name` and `founded_year` fields."
   ]
  },
  {
   "cell_type": "code",
   "execution_count": 37,
   "metadata": {},
   "outputs": [
    {
     "name": "stdout",
     "output_type": "stream",
     "text": [
      "[{'name': 'Wetpaint', 'founded_year': 2005}, {'name': 'Zoho', 'founded_year': 2005}, {'name': 'Digg', 'founded_year': 2004}, {'name': 'Facebook', 'founded_year': 2004}, {'name': 'Omnidrive', 'founded_year': 2005}]\n"
     ]
    }
   ],
   "source": [
    "filterr={\"founded_year\": {\"$gte\": 2000, \"$lte\": 2005}}\n",
    "projection={\"_id\": 0, \"name\": 1, \"founded_year\": 1}\n",
    "compss=list(c.find(filterr, projection).limit(5))\n",
    "print(compss)"
   ]
  },
  {
   "cell_type": "markdown",
   "metadata": {},
   "source": [
    "### 4. All the companies that had a Valuation Amount of more than 100.000.000 and have been founded before 2010. Retrieve only the `name` and `ipo` fields."
   ]
  },
  {
   "cell_type": "code",
   "execution_count": 38,
   "metadata": {},
   "outputs": [
    {
     "name": "stdout",
     "output_type": "stream",
     "text": [
      "[{'name': 'Facebook', 'ipo': {'valuation_amount': 104000000000, 'valuation_currency_code': 'USD', 'pub_year': 2012, 'pub_month': 5, 'pub_day': 18, 'stock_symbol': 'NASDAQ:FB'}}, {'name': 'Twitter', 'ipo': {'valuation_amount': 18100000000, 'valuation_currency_code': 'USD', 'pub_year': 2013, 'pub_month': 11, 'pub_day': 7, 'stock_symbol': 'NYSE:TWTR'}}, {'name': 'Yelp', 'ipo': {'valuation_amount': 1300000000, 'valuation_currency_code': 'USD', 'pub_year': 2012, 'pub_month': 3, 'pub_day': 2, 'stock_symbol': 'NYSE:YELP'}}, {'name': 'LinkedIn', 'ipo': {'valuation_amount': 9310000000, 'valuation_currency_code': 'USD', 'pub_year': 2011, 'pub_month': 7, 'pub_day': 20, 'stock_symbol': 'NYSE:LNKD'}}, {'name': 'Amazon', 'ipo': {'valuation_amount': 100000000000, 'valuation_currency_code': 'USD', 'pub_year': 1997, 'pub_month': 5, 'pub_day': None, 'stock_symbol': 'NASDAQ:AMZN'}}]\n"
     ]
    }
   ],
   "source": [
    "filterr={\"ipo.valuation_amount\": {\"$gt\": 100000000}, \"founded_year\": {\"$lt\": 2010}}\n",
    "projection={\"_id\": 0, \"name\": 1, \"ipo\": 1}\n",
    "compa=list(c.find(filterr, projection))\n",
    "print(compa[:5])"
   ]
  },
  {
   "cell_type": "markdown",
   "metadata": {},
   "source": [
    "### 5. All the companies that have less than 1000 employees and have been founded before 2005. Order them by the number of employees and limit the search to 10 companies."
   ]
  },
  {
   "cell_type": "code",
   "execution_count": 39,
   "metadata": {},
   "outputs": [
    {
     "name": "stdout",
     "output_type": "stream",
     "text": [
      "[{'name': 'Infinera Corporation', 'number_of_employees': 974}, {'name': 'NorthPoint Communications Group', 'number_of_employees': 948}, {'name': '888 Holdings', 'number_of_employees': 931}, {'name': 'Forrester Research', 'number_of_employees': 903}, {'name': 'SonicWALL', 'number_of_employees': 900}, {'name': 'Webmetrics', 'number_of_employees': 900}, {'name': 'Cornerstone OnDemand', 'number_of_employees': 881}, {'name': 'ZoomInfo', 'number_of_employees': 800}, {'name': 'Cvent', 'number_of_employees': 800}, {'name': 'Buongiorno', 'number_of_employees': 800}]\n"
     ]
    }
   ],
   "source": [
    "cond1={\"number_of_employees\":{\"$lt\":1000}}\n",
    "cond2={\"founded_year\":{\"$lte\":2000}}\n",
    "projection = {\"name\": 1, \"number_of_employees\": 1, \"_id\": 0}\n",
    "companies = list(c.find({\"$and\":[cond1, cond2]}, projection).sort(\"number_of_employees\", -1).limit(10))\n",
    "print(companies)"
   ]
  },
  {
   "cell_type": "markdown",
   "metadata": {},
   "source": [
    "### 6. All the companies that don't include the `partners` field."
   ]
  },
  {
   "cell_type": "code",
   "execution_count": 40,
   "metadata": {},
   "outputs": [
    {
     "data": {
      "text/plain": [
       "[{}]"
      ]
     },
     "execution_count": 40,
     "metadata": {},
     "output_type": "execute_result"
    }
   ],
   "source": [
    "filterr={\"partners\":{\"$exists\":False}}\n",
    "projection={\"_id\":0,\"name\":1}\n",
    "empresas_sin=list(c.find(filterr,projection))\n",
    "empresas_sin"
   ]
  },
  {
   "cell_type": "markdown",
   "metadata": {},
   "source": [
    "### 7. All the companies that have a null type of value on the `category_code` field."
   ]
  },
  {
   "cell_type": "code",
   "execution_count": 41,
   "metadata": {},
   "outputs": [
    {
     "name": "stdout",
     "output_type": "stream",
     "text": [
      "[{'name': 'Collective', 'category_code': None}, {'name': 'Snimmer', 'category_code': None}, {'name': 'KoolIM', 'category_code': None}, {'name': 'Level9 Media', 'category_code': None}, {'name': 'VidKing', 'category_code': None}]\n"
     ]
    }
   ],
   "source": [
    "filterr={\"category_code\":None}\n",
    "projection={\"_id\":0,\"name\":1,\"category_code\":1}\n",
    "nulas=list(c.find(filterr,projection))\n",
    "print(nulas[:5])"
   ]
  },
  {
   "cell_type": "markdown",
   "metadata": {},
   "source": [
    "### 8. All the companies that have at least 100 employees but less than 1000. Retrieve only the `name` and `number of employees` fields."
   ]
  },
  {
   "cell_type": "code",
   "execution_count": 42,
   "metadata": {},
   "outputs": [
    {
     "name": "stdout",
     "output_type": "stream",
     "text": [
      "[{'name': 'AdventNet', 'number_of_employees': 600}, {'name': 'AddThis', 'number_of_employees': 120}, {'name': 'OpenX', 'number_of_employees': 305}, {'name': 'LifeLock', 'number_of_employees': 644}, {'name': 'Jajah', 'number_of_employees': 110}]\n"
     ]
    }
   ],
   "source": [
    "cond1={\"number_of_employees\":{\"$gte\":100}}\n",
    "cond2={\"number_of_employees\":{\"$lte\":1000}}\n",
    "projection={\"_id\":0, \"name\":1, \"number_of_employees\":1}\n",
    "\n",
    "compas=list(c.find({\"$and\":[cond1, cond2]}, projection))\n",
    "print(compas[:5])"
   ]
  },
  {
   "cell_type": "markdown",
   "metadata": {},
   "source": [
    "### 9. Order all the companies by their IPO price in a descending order."
   ]
  },
  {
   "cell_type": "code",
   "execution_count": 43,
   "metadata": {},
   "outputs": [
    {
     "name": "stdout",
     "output_type": "stream",
     "text": [
      "[{'name': 'GREE', 'ipo': {'valuation_amount': 108960000000}}, {'name': 'Facebook', 'ipo': {'valuation_amount': 104000000000}}, {'name': 'Amazon', 'ipo': {'valuation_amount': 100000000000}}, {'name': 'Twitter', 'ipo': {'valuation_amount': 18100000000}}, {'name': 'Groupon', 'ipo': {'valuation_amount': 12800000000}}]\n"
     ]
    }
   ],
   "source": [
    "projection={\"_id\":0,\"name\":1,\"ipo.valuation_amount\":1}\n",
    "ipos=list(c.find({},projection).sort(\"ipo.valuation_amount\",-1))\n",
    "print(ipos[:5])"
   ]
  },
  {
   "cell_type": "markdown",
   "metadata": {},
   "source": [
    "### 10. Retrieve the 10 companies with more employees, order by the `number of employees`"
   ]
  },
  {
   "cell_type": "code",
   "execution_count": 44,
   "metadata": {},
   "outputs": [
    {
     "data": {
      "text/plain": [
       "[{'name': 'Siemens', 'number_of_employees': 405000},\n",
       " {'name': 'IBM', 'number_of_employees': 388000},\n",
       " {'name': 'Toyota', 'number_of_employees': 320000},\n",
       " {'name': 'PayPal', 'number_of_employees': 300000},\n",
       " {'name': 'Nippon Telegraph and Telephone Corporation',\n",
       "  'number_of_employees': 227000},\n",
       " {'name': 'Samsung Electronics', 'number_of_employees': 221726},\n",
       " {'name': 'Accenture', 'number_of_employees': 205000},\n",
       " {'name': 'Tata Consultancy Services', 'number_of_employees': 200300},\n",
       " {'name': 'Flextronics International', 'number_of_employees': 200000},\n",
       " {'name': 'Safeway', 'number_of_employees': 186000}]"
      ]
     },
     "execution_count": 44,
     "metadata": {},
     "output_type": "execute_result"
    }
   ],
   "source": [
    "list(c.find({},{\"_id\":0, \"name\":1, \"number_of_employees\":1}).sort(\"number_of_employees\",-1).limit(10))"
   ]
  },
  {
   "cell_type": "markdown",
   "metadata": {},
   "source": [
    "### 11. All the companies founded on the second semester of the year. Limit your search to 1000 companies."
   ]
  },
  {
   "cell_type": "code",
   "execution_count": 45,
   "metadata": {},
   "outputs": [
    {
     "data": {
      "text/plain": [
       "[{'name': 'Wetpaint', 'founded_month': 10},\n",
       " {'name': 'Zoho', 'founded_month': 9},\n",
       " {'name': 'Digg', 'founded_month': 10},\n",
       " {'name': 'Omnidrive', 'founded_month': 11},\n",
       " {'name': 'eBay', 'founded_month': 9},\n",
       " {'name': 'Joost', 'founded_month': 10}]"
      ]
     },
     "execution_count": 45,
     "metadata": {},
     "output_type": "execute_result"
    }
   ],
   "source": [
    "list(c.find({\"founded_month\":{\"$gt\":6}},{\"_id\":0, \"name\":1, \"founded_month\":1}).limit(6))\n",
    "#No puse limit 1000 porque se complica para visualizar el notebook (sería cambiar el 6 por 1000)."
   ]
  },
  {
   "cell_type": "markdown",
   "metadata": {},
   "source": [
    "### 12. All the companies founded before 2000 that have an acquisition amount of more than 10.000.00"
   ]
  },
  {
   "cell_type": "code",
   "execution_count": 46,
   "metadata": {},
   "outputs": [
    {
     "data": {
      "text/plain": [
       "[{'name': 'Postini',\n",
       "  'founded_year': 1999,\n",
       "  'acquisition': {'price_amount': 625000000}},\n",
       " {'name': 'SideStep',\n",
       "  'founded_year': 1999,\n",
       "  'acquisition': {'price_amount': 180000000}},\n",
       " {'name': 'Recipezaar',\n",
       "  'founded_year': 1999,\n",
       "  'acquisition': {'price_amount': 25000000}}]"
      ]
     },
     "execution_count": 46,
     "metadata": {},
     "output_type": "execute_result"
    }
   ],
   "source": [
    "cond1={\"founded_year\":{\"$lt\":2000}}\n",
    "cond2={\"acquisition.price_amount\":{\"$gt\":10000000}}\n",
    "list(c.find({\"$and\":[cond1, cond2]},{\"_id\":0, \"name\":1, \"founded_year\":1, \"acquisition.price_amount\":1}).limit(3))"
   ]
  },
  {
   "cell_type": "markdown",
   "metadata": {},
   "source": [
    "### 13. All the companies that have been acquired after 2010, order by the acquisition amount, and retrieve only their `name` and `acquisition` field."
   ]
  },
  {
   "cell_type": "code",
   "execution_count": 47,
   "metadata": {},
   "outputs": [
    {
     "name": "stdout",
     "output_type": "stream",
     "text": [
      "[{'name': 'T-Mobile', 'acquisition': {'price_amount': 39000000000, 'price_currency_code': 'USD', 'term_code': None, 'source_url': 'http://techcrunch.com/2011/03/20/in-the-race-for-more-spectrum-att-is-acquiring-t-mobile-for-39-billion/', 'source_description': 'In The Race For More Spectrum, AT&T Is Acquiring T-Mobile For $39 Billion', 'acquired_year': 2011, 'acquired_month': 3, 'acquired_day': 20, 'acquiring_company': {'name': 'AT&T', 'permalink': 'at-t'}}}, {'name': 'Goodrich Corporation', 'acquisition': {'price_amount': 18400000000, 'price_currency_code': 'USD', 'term_code': None, 'source_url': 'http://www.masshightech.com/stories/2011/09/19/daily37-UTC-shells-out-184-billion-for-Goodrich.html', 'source_description': 'UTC shells out $18.4 billion for Goodrich', 'acquired_year': 2011, 'acquired_month': 9, 'acquired_day': 22, 'acquiring_company': {'name': 'United Technologies', 'permalink': 'united-technologies'}}}]\n"
     ]
    }
   ],
   "source": [
    "filterr = {\n",
    "    \"acquisition.acquired_year\": {\"$gt\": 2010}\n",
    "}\n",
    "projection = {\"_id\": 0,\"name\": 1, \"acquisition\": 1}\n",
    "companies = list(c.find(filterr, projection).sort(\"acquisition.price_amount\", -1))\n",
    "print(companies[:2])"
   ]
  },
  {
   "cell_type": "markdown",
   "metadata": {},
   "source": [
    "### 14. Order the companies by their `founded year`, retrieving only their `name` and `founded year`."
   ]
  },
  {
   "cell_type": "code",
   "execution_count": 48,
   "metadata": {},
   "outputs": [
    {
     "data": {
      "text/plain": [
       "[{'name': 'Fixya', 'founded_year': 2013},\n",
       " {'name': 'Wamba', 'founded_year': 2013},\n",
       " {'name': 'Fluc', 'founded_year': 2013},\n",
       " {'name': 'Gimigo', 'founded_year': 2013},\n",
       " {'name': 'iBazar', 'founded_year': 2013},\n",
       " {'name': 'Advaliant', 'founded_year': 2013}]"
      ]
     },
     "execution_count": 48,
     "metadata": {},
     "output_type": "execute_result"
    }
   ],
   "source": [
    "list(c.find({}, {\"_id\": 0, \"name\": 1, \"founded_year\": 1}).sort(\"founded_year\", -1).limit(6))"
   ]
  },
  {
   "cell_type": "markdown",
   "metadata": {},
   "source": [
    "### 15. All the companies that have been founded on the first seven days of the month, including the seventh. Sort them by their `acquisition price` in a descending order. Limit the search to 10 documents."
   ]
  },
  {
   "cell_type": "code",
   "execution_count": 49,
   "metadata": {},
   "outputs": [
    {
     "data": {
      "text/plain": [
       "[{'name': 'Netscape', 'founded_day': 4},\n",
       " {'name': 'PayPal', 'founded_day': 1},\n",
       " {'name': 'Zappos', 'founded_day': 1},\n",
       " {'name': 'Alibaba', 'founded_day': 1},\n",
       " {'name': 'Postini', 'founded_day': 2}]"
      ]
     },
     "execution_count": 49,
     "metadata": {},
     "output_type": "execute_result"
    }
   ],
   "source": [
    "list(c.find({\"founded_day\":{\"$lte\":7}},{\"_id\":0, \"name\":1, \"founded_day\":1}).sort(\"acquisition.price_amount\",-1).limit(5))"
   ]
  },
  {
   "cell_type": "markdown",
   "metadata": {},
   "source": [
    "### 16. All the companies on the 'web' `category` that have more than 4000 employees. Sort them by the amount of employees in ascending order."
   ]
  },
  {
   "cell_type": "code",
   "execution_count": 50,
   "metadata": {},
   "outputs": [
    {
     "data": {
      "text/plain": [
       "[{'name': 'Expedia', 'number_of_employees': 4400},\n",
       " {'name': 'AOL', 'number_of_employees': 8000},\n",
       " {'name': 'Webkinz', 'number_of_employees': 8657}]"
      ]
     },
     "execution_count": 50,
     "metadata": {},
     "output_type": "execute_result"
    }
   ],
   "source": [
    "filterr={\"category_code\":\"web\",\"number_of_employees\":{\"$gt\":4000}}\n",
    "projection={\"_id\":0,\"name\":1,\"number_of_employees\":1}\n",
    "web_=list(c.find(filterr,projection).sort(\"number_of_employees\",1).limit(3))\n",
    "web_"
   ]
  },
  {
   "cell_type": "markdown",
   "metadata": {},
   "source": [
    "### 17. All the companies whose acquisition amount is more than 10.000.000, and currency is 'EUR'."
   ]
  },
  {
   "cell_type": "code",
   "execution_count": 51,
   "metadata": {},
   "outputs": [
    {
     "name": "stdout",
     "output_type": "stream",
     "text": [
      "[{'name': 'ZYB'}, {'name': 'Apertio'}]\n"
     ]
    }
   ],
   "source": [
    "cond1={\"acquisition.price_currency_code\":\"EUR\"}\n",
    "cond2={\"acquisition.price_amount\":{\"$gt\":10000000}}\n",
    "projection={\"_id\":0, \"name\":1}\n",
    "\n",
    "eurr=list(c.find({\"$and\":[cond1, cond2]}, projection).limit(2))\n",
    "print(eurr)"
   ]
  },
  {
   "cell_type": "markdown",
   "metadata": {},
   "source": [
    "### 18. All the companies that have been acquired on the first trimester of the year. Limit the search to 10 companies, and retrieve only their `name` and `acquisition` fields."
   ]
  },
  {
   "cell_type": "code",
   "execution_count": 52,
   "metadata": {},
   "outputs": [
    {
     "data": {
      "text/plain": [
       "[{'name': 'Kyte',\n",
       "  'acquisition': {'price_amount': None,\n",
       "   'price_currency_code': 'USD',\n",
       "   'term_code': None,\n",
       "   'source_url': 'http://techcrunch.com/2011/01/31/exclusive-kit-digital-acquires-kickapps-kewego-and-kyte-for-77-2-million/',\n",
       "   'source_description': 'KIT digital Acquires KickApps, Kewego AND Kyte For $77.2 Million',\n",
       "   'acquired_year': 2011,\n",
       "   'acquired_month': 1,\n",
       "   'acquired_day': 31,\n",
       "   'acquiring_company': {'name': 'KIT digital', 'permalink': 'kit-digital'}}},\n",
       " {'name': 'NetRatings',\n",
       "  'acquisition': {'price_amount': 327000000,\n",
       "   'price_currency_code': 'USD',\n",
       "   'term_code': 'cash',\n",
       "   'source_url': 'http://login.vnuemedia.com/hr/login/login_subscribe.jsp?id=0oqDem1gYIfIclz9i2%2Ffqj5NxCp2AC5DPbVnyT2da8GyV2mXjasabE128n69OrmcAh52%2FGE3pSG%2F%0AEKRYD9vh9EhrJrxukmUzh532fSMTZXL42gwPB80UWVtF1NwJ5UZSM%2BCkLU1mpYBoHFgiH%2Fi0f6Ax%0A9yMIVxt47t%2BHamhEQ0nkOEK24L',\n",
       "   'source_description': 'Nielsen buys rest of NetRatings',\n",
       "   'acquired_year': 2007,\n",
       "   'acquired_month': 2,\n",
       "   'acquired_day': None,\n",
       "   'acquiring_company': {'name': 'Nielsen', 'permalink': 'nielsen'}}}]"
      ]
     },
     "execution_count": 52,
     "metadata": {},
     "output_type": "execute_result"
    }
   ],
   "source": [
    "filterr={\"acquisition.acquired_month\":{\"$lte\":3}}\n",
    "projection={\"_id\":0,\"name\":1,\"acquisition\":1}\n",
    "tri_=list(c.find(filterr,projection).limit(2))\n",
    "tri_\n",
    "#Puse limit 2 en lugar de 10, para no ocupar tanto espacio."
   ]
  },
  {
   "cell_type": "markdown",
   "metadata": {},
   "source": [
    "# Bonus\n",
    "### 19. All the companies that have been founded between 2000 and 2010, but have not been acquired before 2011."
   ]
  },
  {
   "cell_type": "code",
   "execution_count": 53,
   "metadata": {},
   "outputs": [
    {
     "data": {
      "text/plain": [
       "[{'name': 'Wetpaint',\n",
       "  'founded_year': 2005,\n",
       "  'acquisition': {'price_amount': 30000000,\n",
       "   'price_currency_code': 'USD',\n",
       "   'term_code': 'cash_and_stock',\n",
       "   'source_url': 'http://allthingsd.com/20131216/viggle-tries-to-bulk-up-its-social-tv-business-by-buying-wetpaint/?mod=atdtweet',\n",
       "   'source_description': ' Viggle Tries to Bulk Up Its Social TV Business by Buying Wetpaint',\n",
       "   'acquired_year': 2013,\n",
       "   'acquired_month': 12,\n",
       "   'acquired_day': 16,\n",
       "   'acquiring_company': {'name': 'Viggle', 'permalink': 'viggle'}}},\n",
       " {'name': 'Digg',\n",
       "  'founded_year': 2004,\n",
       "  'acquisition': {'price_amount': 500000,\n",
       "   'price_currency_code': 'USD',\n",
       "   'term_code': None,\n",
       "   'source_url': 'http://techcrunch.com/2012/07/12/betaworks-acquires-digg/',\n",
       "   'source_description': 'Betaworks Acquires Digg (TechCrunch)',\n",
       "   'acquired_year': 2012,\n",
       "   'acquired_month': 7,\n",
       "   'acquired_day': 12,\n",
       "   'acquiring_company': {'name': 'betaworks', 'permalink': 'betaworks'}}}]"
      ]
     },
     "execution_count": 53,
     "metadata": {},
     "output_type": "execute_result"
    }
   ],
   "source": [
    "filterr={\"founded_year\":{\"$gte\":2000,\"$lte\":2010},\"acquisition.acquired_year\":{\"$gte\":2011}}\n",
    "projection={\"_id\":0,\"name\":1,\"founded_year\":1,\"acquisition\":1}\n",
    "\n",
    "LosDosMil=list(c.find(filterr,projection).limit(2))\n",
    "LosDosMil"
   ]
  },
  {
   "cell_type": "markdown",
   "metadata": {},
   "source": [
    "### BONUSASSO 20. All the companies that have been 'deadpooled' after the third year. \n",
    "Tip: You should use a new operator. Try to search WHERE the solution is. "
   ]
  },
  {
   "cell_type": "code",
   "execution_count": 54,
   "metadata": {},
   "outputs": [
    {
     "data": {
      "text/plain": [
       "[{'name': 'Babelgum', 'founded_year': 2007, 'deadpooled_year': 2013},\n",
       " {'name': 'Thoof', 'founded_year': 2006, 'deadpooled_year': 2013},\n",
       " {'name': 'Mercora', 'founded_year': None, 'deadpooled_year': 2008},\n",
       " {'name': 'Wesabe', 'founded_year': 2005, 'deadpooled_year': 2010},\n",
       " {'name': 'Stickam', 'founded_year': 2006, 'deadpooled_year': 2013}]"
      ]
     },
     "execution_count": 54,
     "metadata": {},
     "output_type": "execute_result"
    }
   ],
   "source": [
    "fin=list(c.find({\"$where\": \"this.deadpooled_year - this.founded_year > 3\"},         #Encontré en Stack Overflow algo así.\n",
    "            {\"_id\": 0, \"name\":1, \"deadpooled_year\":1, \"founded_year\":1}).limit(5))\n",
    "fin "
   ]
  }
 ],
 "metadata": {
  "kernelspec": {
   "display_name": "Python 3 (ipykernel)",
   "language": "python",
   "name": "python3"
  },
  "language_info": {
   "codemirror_mode": {
    "name": "ipython",
    "version": 3
   },
   "file_extension": ".py",
   "mimetype": "text/x-python",
   "name": "python",
   "nbconvert_exporter": "python",
   "pygments_lexer": "ipython3",
   "version": "3.11.7"
  }
 },
 "nbformat": 4,
 "nbformat_minor": 4
}
