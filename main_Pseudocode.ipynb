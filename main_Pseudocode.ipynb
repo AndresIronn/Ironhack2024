{
 "cells": [
  {
   "cell_type": "markdown",
   "metadata": {},
   "source": [
    "###### Andrés Genta\n",
    "# PSEUDOCODE\n",
    "\n",
    "(Please dont kill me)"
   ]
  },
  {
   "cell_type": "markdown",
   "metadata": {},
   "source": [
    "In this lab, you will work to find any solution(hopefully the easiest) to complete this exercises. \n",
    "\n",
    "The second 1 is a BONUS\n",
    "\n",
    "Any further question please ask me or Sandra"
   ]
  },
  {
   "cell_type": "markdown",
   "metadata": {},
   "source": [
    "## EXERCISE 1: RANDOM GUESS OF A NUMBER\n",
    "\n",
    "The user must give you the start and final number. Your code must be developed to select a random number between this 2. If your selection is too high/low you must give a hint to the user: The number is too high/low. Finally, when the user selects the correct number you must return a \"Congratulations etc\" and the number of guesses needed to find the number. \n",
    "\n",
    "IF YOU TRY IT AND YOU FIND THE NUMBER FIRST GUESS, PLEASE SEND A SCREENSHOT VIA SLACK `(MANDATORY)`"
   ]
  },
  {
   "cell_type": "code",
   "execution_count": null,
   "metadata": {
    "tags": []
   },
   "outputs": [],
   "source": [
    "import random\n",
    "\n",
    "def guess_number():\n",
    "    primero = int(input(\"Ingrese un número entero: \"))\n",
    "    segundo = int(input(\"Ingrese otro número entero mayor al anterior: \"))\n",
    "    cpu = random.randint(primero, segundo)\n",
    "    intentos = 0\n",
    "    while True:\n",
    "        elija = int(input(\"Elija un número entero entre los 2 anteriores: \"))\n",
    "        intentos += 1\n",
    "\n",
    "        if elija > segundo or elija < primero:\n",
    "            print(\"Tu elección está fuera del rango. Inténtalo otra vez.\")\n",
    "        elif elija > cpu:\n",
    "            print(\"Tu elección es demasiado alta\")\n",
    "        elif elija < cpu:\n",
    "            print(\"Tu elección es demasiado baja\")\n",
    "        else:\n",
    "            print(f\"Ganaste y has intentado {intentos} intento/s\")\n",
    "            break\n",
    "\n",
    "\n",
    "guess_number()"
   ]
  },
  {
   "cell_type": "markdown",
   "metadata": {},
   "source": [
    "## EXERCISE 2 (OPTIONAL): LET'S DEVELOP R-P-S"
   ]
  },
  {
   "cell_type": "markdown",
   "metadata": {},
   "source": [
    "Let's develop the code used in class: The R-P-S (Example below)\n",
    "The main problem with this code is that whoever wins a round, wins the match: The user must select the number of rounds needed to win the match. Enjoy!"
   ]
  },
  {
   "cell_type": "code",
   "execution_count": 2,
   "metadata": {},
   "outputs": [],
   "source": [
    "def rps(): \n",
    "    import random\n",
    "    opciones=[\"tijera\", \"piedra\", \"papel\"]\n",
    "    user=input(\"Un dos tres, piedra papel tijera un dos tres YA: \").lower()\n",
    "    cpu=random.choice(opciones)\n",
    "\n",
    "    while True:\n",
    "        if user in opciones: \n",
    "            break\n",
    "        else: \n",
    "            user=input(\"ESO NO VALE. Dime otra cosa: \")\n",
    "    print(f\"Tú has elegido {user} y la máquina ha elegido {cpu}\")\n",
    "    if (user==\"tijera\" and cpu==\"papel\") or (user==\"papel\" and cpu==\"piedra\") or (user==\"piedra\" and cpu==\"tijera\"):\n",
    "        print(\"Has ganado!!\")\n",
    "        return \"Ganador\"\n",
    "    elif user==cpu:\n",
    "        print(\"Empate!\")\n",
    "        return \"Empate\"\n",
    "\n",
    "    else: \n",
    "        print(\"Has perdido!\")\n",
    "        return \"Perdedor\""
   ]
  },
  {
   "cell_type": "code",
   "execution_count": 3,
   "metadata": {
    "tags": []
   },
   "outputs": [
    {
     "name": "stdin",
     "output_type": "stream",
     "text": [
      "Un dos tres, piedra papel tijera un dos tres YA:  piedra\n"
     ]
    },
    {
     "name": "stdout",
     "output_type": "stream",
     "text": [
      "Tú has elegido piedra y la máquina ha elegido tijera\n",
      "Has ganado!!\n"
     ]
    },
    {
     "data": {
      "text/plain": [
       "'Ganador'"
      ]
     },
     "execution_count": 3,
     "metadata": {},
     "output_type": "execute_result"
    }
   ],
   "source": [
    "rps()"
   ]
  },
  {
   "cell_type": "code",
   "execution_count": null,
   "metadata": {},
   "outputs": [],
   "source": []
  }
 ],
 "metadata": {
  "kernelspec": {
   "display_name": "Python 3 (ipykernel)",
   "language": "python",
   "name": "python3"
  },
  "language_info": {
   "codemirror_mode": {
    "name": "ipython",
    "version": 3
   },
   "file_extension": ".py",
   "mimetype": "text/x-python",
   "name": "python",
   "nbconvert_exporter": "python",
   "pygments_lexer": "ipython3",
   "version": "3.11.5"
  }
 },
 "nbformat": 4,
 "nbformat_minor": 4
}
