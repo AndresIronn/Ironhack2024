{
 "cells": [
  {
   "cell_type": "markdown",
   "metadata": {},
   "source": [
    "###### Andrés Genta\n",
    "# OOP\n",
    "\n",
    "In this lab we will put into practice what we have seen in class.\n",
    "\n",
    "`NOTE: It is split in two different Exercises: Do NOT try to change the order as the idea is to build a class from scratch using all the steps on each exercise` \n",
    "\n",
    "Good Luck! "
   ]
  },
  {
   "cell_type": "markdown",
   "metadata": {},
   "source": [
    "## Exercise 1: Car Class\n",
    "\n",
    "Use the original code below to start with the exercise: "
   ]
  },
  {
   "cell_type": "code",
   "execution_count": 1,
   "metadata": {
    "tags": []
   },
   "outputs": [],
   "source": [
    "class Car:\n",
    "    def __init__(self, color): \n",
    "        self.color = color"
   ]
  },
  {
   "cell_type": "markdown",
   "metadata": {},
   "source": [
    "### 1.1: Basic Info\n",
    "\n",
    "- This class Car is incomplete. We need to have more attributes, in this case we will need the user to add the Brand of the car (p.e. Fiat, Volvo, etc\") and the number of wheels (always 4). Build the first function called info, where it should print all the information of the car.\n",
    "- Try using the upper, capitalize or lower methods of strings to make the print look realistic. "
   ]
  },
  {
   "cell_type": "code",
   "execution_count": 1,
   "metadata": {
    "tags": []
   },
   "outputs": [],
   "source": [
    "class Car:\n",
    "    def __init__(self, color,brand,wheels=4): \n",
    "        self.color = color\n",
    "        self.brand=brand\n",
    "        self.wheels=wheels\n",
    "    \n",
    "    def info(self):\n",
    "        print(f\"Información del auto:\")\n",
    "        print(f\"Color: {self.color.capitalize()}\")\n",
    "        print(f\"Brand: {self.brand.capitalize()}\")\n",
    "        print(f\"Number of Wheels: {self.wheels}\")"
   ]
  },
  {
   "cell_type": "code",
   "execution_count": 3,
   "metadata": {
    "tags": []
   },
   "outputs": [
    {
     "name": "stdout",
     "output_type": "stream",
     "text": [
      "Información del auto:\n",
      "Color: Green\n",
      "Brand: Lamborghini\n",
      "Number of Wheels: 4\n"
     ]
    }
   ],
   "source": [
    "#Ejemplo de prueba\n",
    "lambo = Car(color=\"green\", brand=\"lamborghini\")\n",
    "lambo.info()"
   ]
  },
  {
   "cell_type": "markdown",
   "metadata": {},
   "source": [
    "### 1.2: Turn On/Off\n",
    "\n",
    "- Set a new attribute called `engine`. In it there will only be two options, ON and OFF. Originally, this new attribute will be OFF as the car engine will be OFF. \n",
    "- Create two more methods called `encender` and `apagar`. Take into consideration that if the car is ON and you try the encender, a message should be printed: \"No se puede encender "
   ]
  },
  {
   "cell_type": "code",
   "execution_count": 16,
   "metadata": {
    "tags": []
   },
   "outputs": [],
   "source": [
    "class Car:\n",
    "    def __init__(self, color, brand, wheels=4):\n",
    "        self.color = color\n",
    "        self.brand = brand\n",
    "        self.engine = \"OFF\"  #Inicialmente el auto está apagado\n",
    "        self.wheels = wheels  \n",
    "\n",
    "    def encender(self):\n",
    "        if self.engine == \"OFF\":\n",
    "            print(\"Prendiendo el motor\")\n",
    "            self.engine = \"ON\"\n",
    "        else:\n",
    "            print(\"No se puede prender el motor porque ya está prendido.\")\n",
    "\n",
    "    def apagar(self):\n",
    "        if self.engine == \"ON\":\n",
    "            print(\"Apagando el motor\")\n",
    "            self.engine = \"OFF\"\n",
    "        else:\n",
    "            print(\"No se puede apagar el motor porque ya está apagado.\")\n",
    "            \n",
    "    def info(self):\n",
    "        print(f\"Información del auto:\")\n",
    "        print(f\"Color: {self.color.capitalize()}\")\n",
    "        print(f\"Brand: {self.brand.capitalize()}\")\n",
    "        print(f\"Engine: {self.engine}\")\n",
    "        print(f\"Number of Wheels: {self.wheels}\")\n",
    "\n"
   ]
  },
  {
   "cell_type": "code",
   "execution_count": 17,
   "metadata": {
    "tags": []
   },
   "outputs": [
    {
     "name": "stdout",
     "output_type": "stream",
     "text": [
      "Prendiendo el motor...\n",
      "Información del auto:\n",
      "Color: Grey\n",
      "Brand: Rolls royce\n",
      "Engine: ON\n",
      "Number of Wheels: 4\n"
     ]
    }
   ],
   "source": [
    "rolls = Car(color=\"grey\", brand=\"Rolls Royce\")\n",
    "rolls.encender()  \n",
    "rolls.info()"
   ]
  },
  {
   "cell_type": "code",
   "execution_count": 18,
   "metadata": {
    "tags": []
   },
   "outputs": [
    {
     "name": "stdout",
     "output_type": "stream",
     "text": [
      "No se puede prender el motor porque ya está prendido.\n"
     ]
    }
   ],
   "source": [
    "rolls.encender()"
   ]
  },
  {
   "cell_type": "code",
   "execution_count": 19,
   "metadata": {
    "tags": []
   },
   "outputs": [
    {
     "name": "stdout",
     "output_type": "stream",
     "text": [
      "Apagando el motor...\n"
     ]
    }
   ],
   "source": [
    "rolls.apagar()"
   ]
  },
  {
   "cell_type": "code",
   "execution_count": 20,
   "metadata": {
    "tags": []
   },
   "outputs": [
    {
     "name": "stdout",
     "output_type": "stream",
     "text": [
      "No se puede apagar el motor porque ya está apagado.\n"
     ]
    }
   ],
   "source": [
    "rolls.apagar()"
   ]
  },
  {
   "cell_type": "markdown",
   "metadata": {
    "tags": []
   },
   "source": [
    "### 1.3 Accelerate/reduce/break\n",
    "\n",
    "Here we are going to set a new attribute: `speed`. The original speed of each vehicle must be 0. We will then add three methods: acelerar, reducir and frenar. `acelerar` will increase the speed, `reducir` will reduce it and `frenar` will take it back to 0 again. \n",
    "Extra conditions: \n",
    "\n",
    "Try tu use the logic to know some basic interactions between this methods and the methods seen in 1.2. First try it yourself before revealing the hidden information!\n",
    "\n",
    "\n",
    "<details>\n",
    "    <summary> Expand the box to see the logic between methods </summary>\n",
    "    \n",
    "- The engine must be ON to use this 3 new method\n",
    "\n",
    "- If the speed is different to 0, you can not use the `apagar` method\n",
    "\n",
    "- If you use `reducir` to a number that makes the speed in negative numbers, you can not use reducir.  \n",
    "\n",
    "- To avoid using the `__dict__`, add the speed and the engine state as new info in the `info` method\n",
    "\n",
    "- For both `acelerar` and `reducir`, everytime you use this method you must send an argument (how much is the car accelerating and reducing everytime you call this function)\n",
    "\n",
    "</details>\n"
   ]
  },
  {
   "cell_type": "code",
   "execution_count": 4,
   "metadata": {
    "tags": []
   },
   "outputs": [],
   "source": [
    "class Car:\n",
    "    def __init__(self, color, brand, wheels=4):\n",
    "        self.color = color\n",
    "        self.brand = brand\n",
    "        self.engine = \"OFF\"  #Inicialmente el auto está apagado\n",
    "        self.speed=0\n",
    "        self.wheels = wheels  \n",
    "\n",
    "    def encender(self):\n",
    "        if self.engine == \"OFF\":\n",
    "            print(\"Prendiendo el motor\")\n",
    "            self.engine = \"ON\"\n",
    "        else:\n",
    "            print(\"No se puede prender el motor porque ya está prendido.\")\n",
    "\n",
    "    def apagar(self):\n",
    "        if self.engine == \"ON\" and self.speed == 0:\n",
    "            print(\"Apagando el motor\")\n",
    "            self.engine = \"OFF\"\n",
    "        elif self.engine == \"ON\" and self.speed != 0:\n",
    "            print(\"No se puede apagar el motor mientras el auto esté en movimiento.\")\n",
    "        else:\n",
    "            print(\"No se puede apagar el motor porque ya está apagado o el auto está en movimiento.\")\n",
    "\n",
    "           \n",
    "    def acelerar(self,valor):         \n",
    "        if self.engine==\"ON\":\n",
    "            print(\"El auto está acelerando\")\n",
    "            self.speed=self.speed+valor\n",
    "        else:\n",
    "            print(\"No se puede acelerar el auto estando apagado\")                  \n",
    "        \n",
    "    def reducir(self, valor):\n",
    "        if self.engine ==\"ON\" and self.speed>= valor>= 0:\n",
    "            print(f\"El auto está desacelerando en {valor} unidades.\")\n",
    "            self.speed=self.speed-valor\n",
    "        elif self.engine==\"OFF\":\n",
    "            print(\"No se puede desacelerar un auto apagado.\")\n",
    "        elif self.engine ==\"ON\" and self.speed<valor:\n",
    "            print(f\"No se puede desacelerar en {valor} unidades. La velocidad no puede ser negativa.\")\n",
    "        else:\n",
    "            print(\"El auto no puede tener velocidad negativa o mayor a la velocidad actual.\")    \n",
    "                  \n",
    "    def frenar(self):\n",
    "        if self.engine==\"ON\":\n",
    "            print(\"El auto está frenando\")\n",
    "            self.speed=0\n",
    "        else:\n",
    "            print(\"No se puede frenar un auto apagado\")      \n",
    "               \n",
    "            \n",
    "    def info(self):\n",
    "        print(f\"Información del auto:\")\n",
    "        print(f\"Color: {self.color.capitalize()}\")\n",
    "        print(f\"Brand: {self.brand.capitalize()}\")\n",
    "        print(f\"Engine: {self.engine}\")\n",
    "        print(f\"Speed: {self.speed}\")\n",
    "        print(f\"Number of Wheels: {self.wheels}\")"
   ]
  },
  {
   "cell_type": "code",
   "execution_count": 3,
   "metadata": {
    "tags": []
   },
   "outputs": [],
   "source": [
    "#Try combos with this same car!\n",
    "bmw=Car(\"rojo\", \"BMW\")"
   ]
  },
  {
   "cell_type": "code",
   "execution_count": 5,
   "metadata": {
    "tags": []
   },
   "outputs": [
    {
     "name": "stdout",
     "output_type": "stream",
     "text": [
      "Información del auto:\n",
      "Color: Rojo\n",
      "Brand: Bmw\n",
      "Engine: OFF\n",
      "Speed: 0\n",
      "Number of Wheels: 4\n",
      "Prendiendo el motor\n",
      "Información del auto:\n",
      "Color: Rojo\n",
      "Brand: Bmw\n",
      "Engine: ON\n",
      "Speed: 0\n",
      "Number of Wheels: 4\n"
     ]
    }
   ],
   "source": [
    "#Try all the combinations you like and see if it works!\n",
    "\n",
    "bmw.info()\n",
    "bmw.encender()\n",
    "bmw.info()\n",
    "\n"
   ]
  },
  {
   "cell_type": "code",
   "execution_count": 6,
   "metadata": {
    "tags": []
   },
   "outputs": [
    {
     "name": "stdout",
     "output_type": "stream",
     "text": [
      "El auto está acelerando\n",
      "Información del auto:\n",
      "Color: Rojo\n",
      "Brand: Bmw\n",
      "Engine: ON\n",
      "Speed: 5\n",
      "Number of Wheels: 4\n"
     ]
    }
   ],
   "source": [
    "bmw.acelerar(5)\n",
    "bmw.info()\n",
    "\n"
   ]
  },
  {
   "cell_type": "code",
   "execution_count": 7,
   "metadata": {
    "tags": []
   },
   "outputs": [
    {
     "name": "stdout",
     "output_type": "stream",
     "text": [
      "El auto está desacelerando en 4 unidades.\n",
      "Información del auto:\n",
      "Color: Rojo\n",
      "Brand: Bmw\n",
      "Engine: ON\n",
      "Speed: 1\n",
      "Number of Wheels: 4\n"
     ]
    }
   ],
   "source": [
    "bmw.reducir(4)\n",
    "bmw.info()"
   ]
  },
  {
   "cell_type": "code",
   "execution_count": 8,
   "metadata": {
    "tags": []
   },
   "outputs": [
    {
     "name": "stdout",
     "output_type": "stream",
     "text": [
      "No se puede apagar el motor mientras el auto esté en movimiento.\n",
      "El auto está frenando\n",
      "Apagando el motor\n"
     ]
    }
   ],
   "source": [
    "bmw.apagar()\n",
    "bmw.frenar()\n",
    "bmw.apagar()"
   ]
  },
  {
   "cell_type": "markdown",
   "metadata": {},
   "source": [
    "### 1.4 Maximum Speed\n",
    "\n",
    "We will now set a new parameter the user should introduce: `max_speed`. If the user do NOT set this parameter, the **default value** should be 120\n",
    "\n",
    "(the code should work for both Car(\"blue\", \"FIAT\") and Car(\"purple\", \"Mini\", 130) )\n",
    "\n",
    "The only thing that must change from the previous code is that your speed can NEVER be over the limit of the car. If you try to accelerate more, the speed of the car will be max_speed. "
   ]
  },
  {
   "cell_type": "code",
   "execution_count": 1,
   "metadata": {
    "tags": []
   },
   "outputs": [],
   "source": [
    "class Car:\n",
    "    def __init__(self, color, brand,max_speed=120, wheels=4):\n",
    "        self.color = color\n",
    "        self.brand = brand\n",
    "        self.engine = \"OFF\"  #Inicialmente el auto está apagado\n",
    "        self.speed=0\n",
    "        self.max_speed=max_speed\n",
    "        self.wheels = wheels  \n",
    "\n",
    "    def encender(self):\n",
    "        if self.engine == \"OFF\":\n",
    "            print(\"Prendiendo el motor\")\n",
    "            self.engine = \"ON\"\n",
    "        else:\n",
    "            print(\"No se puede prender el motor porque ya está prendido.\")\n",
    "\n",
    "    def apagar(self):\n",
    "        if self.engine == \"ON\" and self.speed == 0:\n",
    "            print(\"Apagando el motor\")\n",
    "            self.engine = \"OFF\"\n",
    "        elif self.engine == \"ON\" and self.speed != 0:\n",
    "            print(\"No se puede apagar el motor mientras el auto esté en movimiento.\")\n",
    "        else:\n",
    "            print(\"No se puede apagar el motor porque ya está apagado o el auto está en movimiento.\")\n",
    "\n",
    "           \n",
    "    def acelerar(self,valor):         \n",
    "        if self.engine==\"ON\" and self.max_speed>(self.speed+valor):\n",
    "            print(\"El auto está acelerando\")\n",
    "            self.speed=self.speed+valor\n",
    "        else:\n",
    "            print(\"No se puede acelerar porque el auto está apagado o porque no se cumple la condición de las velocidades\")\n",
    "        \n",
    "    def reducir(self, valor):\n",
    "        if self.engine ==\"ON\" and self.speed>= valor>= 0:\n",
    "            print(f\"El auto está desacelerando en {valor} unidades.\")\n",
    "            self.speed=self.speed-valor\n",
    "        elif self.engine==\"OFF\":\n",
    "            print(\"No se puede desacelerar un auto apagado.\")\n",
    "        elif self.engine ==\"ON\" and self.speed<valor:\n",
    "            print(f\"No se puede desacelerar en {valor} unidades. La velocidad no puede ser negativa.\")\n",
    "        else:\n",
    "            print(\"El auto no puede tener velocidad negativa o mayor a la velocidad actual.\")    \n",
    "                  \n",
    "    def frenar(self):\n",
    "        if self.engine==\"ON\":\n",
    "            print(\"El auto está frenando\")\n",
    "            self.speed=0\n",
    "        else:\n",
    "            print(\"No se puede frenar un auto apagado\")      \n",
    "               \n",
    "            \n",
    "    def info(self):\n",
    "        print(f\"Información del auto:\")\n",
    "        print(f\"Color: {self.color.capitalize()}\")\n",
    "        print(f\"Brand: {self.brand.capitalize()}\")\n",
    "        print(f\"Engine: {self.engine}\")\n",
    "        print(f\"Speed: {self.speed}\")\n",
    "        print(f\"Number of Wheels: {self.wheels}\")"
   ]
  },
  {
   "cell_type": "code",
   "execution_count": 2,
   "metadata": {
    "tags": []
   },
   "outputs": [
    {
     "name": "stdout",
     "output_type": "stream",
     "text": [
      "Información del auto:\n",
      "Color: Red\n",
      "Brand: Fiat\n",
      "Engine: OFF\n",
      "Speed: 0\n",
      "Number of Wheels: 4\n",
      "Prendiendo el motor\n",
      "Información del auto:\n",
      "Color: Red\n",
      "Brand: Fiat\n",
      "Engine: ON\n",
      "Speed: 0\n",
      "Number of Wheels: 4\n"
     ]
    }
   ],
   "source": [
    "#try the code here: \n",
    "fiat=Car(\"red\", \"Fiat\", 130)\n",
    "fiat.info()\n",
    "fiat.encender()\n",
    "fiat.info()\n"
   ]
  },
  {
   "cell_type": "code",
   "execution_count": 3,
   "metadata": {
    "tags": []
   },
   "outputs": [
    {
     "name": "stdout",
     "output_type": "stream",
     "text": [
      "El auto está acelerando\n",
      "Información del auto:\n",
      "Color: Red\n",
      "Brand: Fiat\n",
      "Engine: ON\n",
      "Speed: 5\n",
      "Number of Wheels: 4\n"
     ]
    }
   ],
   "source": [
    "fiat.acelerar(5)\n",
    "fiat.info()"
   ]
  },
  {
   "cell_type": "code",
   "execution_count": 5,
   "metadata": {
    "tags": []
   },
   "outputs": [
    {
     "name": "stdout",
     "output_type": "stream",
     "text": [
      "El auto está acelerando\n",
      "Información del auto:\n",
      "Color: Red\n",
      "Brand: Fiat\n",
      "Engine: ON\n",
      "Speed: 105\n",
      "Number of Wheels: 4\n"
     ]
    }
   ],
   "source": [
    "fiat.acelerar(100)\n",
    "fiat.info()"
   ]
  },
  {
   "cell_type": "code",
   "execution_count": 6,
   "metadata": {
    "tags": []
   },
   "outputs": [
    {
     "name": "stdout",
     "output_type": "stream",
     "text": [
      "No se puede acelerar porque el auto está apagado o porque no se cumple la condición de las velocidades\n",
      "Información del auto:\n",
      "Color: Red\n",
      "Brand: Fiat\n",
      "Engine: ON\n",
      "Speed: 105\n",
      "Number of Wheels: 4\n"
     ]
    }
   ],
   "source": [
    "fiat.acelerar(50)\n",
    "fiat.info()"
   ]
  },
  {
   "cell_type": "markdown",
   "metadata": {},
   "source": [
    "## Exercise 2: Inheritance\n",
    "\n",
    "Let's recover this example set in our class: "
   ]
  },
  {
   "cell_type": "code",
   "execution_count": 7,
   "metadata": {
    "tags": []
   },
   "outputs": [],
   "source": [
    "class Staff ():\n",
    "        \n",
    "    def __init__ (self, name, fname):\n",
    "        self.name = name.capitalize()\n",
    "        self.fname = fname\n",
    "        \n",
    "        # Default\n",
    "        self.time_off = 20\n",
    "        \n",
    "        #Default: as a result\n",
    "        self.email = self.name.lower() + \".\" + self.fname.lower() + \"@ironhack.com\"\n",
    "        \n",
    "        self.hobbies = []\n",
    "        \n",
    "    \n",
    "    def introduce (self):\n",
    "        return f\"Hello, my name is {self.name}!\"\n",
    "    \n",
    "    def takes_days_off (self, number):\n",
    "        if self.time_off-number >= 0:\n",
    "            self.time_off -= number\n",
    "            return f\"Now you have {self.time_off} days off available\"\n",
    "        else:\n",
    "            return f\"Sorry, you ran out of days. Your total time_off available is {self.time_off}\"\n",
    "    \n",
    "    def hobbies_function (self, *hob): #passing an optional argument\n",
    "        if hob:\n",
    "            for i in hob:\n",
    "                self.hobbies.append(i)\n",
    "                print(f\"We added: {self.hobbies[-1]}\")\n",
    "            return self.hobbies_function()\n",
    "        else:\n",
    "            new = \", \".join([i for i in self.hobbies])\n",
    "            return f\"My hobbies are: {new}\""
   ]
  },
  {
   "cell_type": "markdown",
   "metadata": {},
   "source": [
    "### 2.1 Class Variable\n",
    "\n",
    "Create a class variable (attribute shared by everybody in the organization). This class variable will `company`, and it should be always **Ironhack**"
   ]
  },
  {
   "cell_type": "code",
   "execution_count": 10,
   "metadata": {
    "tags": []
   },
   "outputs": [],
   "source": [
    "class Staff ():\n",
    "    company=\"Ironhack\"\n",
    "        \n",
    "    def __init__ (self, name, fname):\n",
    "        self.name = name.capitalize()\n",
    "        self.fname = fname\n",
    "        \n",
    "        # Default\n",
    "        self.time_off = 20\n",
    "        \n",
    "        #Default: as a result\n",
    "        self.email = self.name.lower() + \".\" + self.fname.lower() + \"@ironhack.com\"\n",
    "        \n",
    "        self.hobbies = []\n",
    "        \n",
    "    \n",
    "    def introduce (self):\n",
    "        return f\"Hello, my name is {self.name}!\"\n",
    "    \n",
    "    def takes_days_off (self, number):\n",
    "        if self.time_off-number >= 0:\n",
    "            self.time_off -= number\n",
    "            return f\"Now you have {self.time_off} days off available\"\n",
    "        else:\n",
    "            return f\"Sorry, you ran out of days. Your total time_off available is {self.time_off}\"\n",
    "    \n",
    "    def hobbies_function (self, *hob): #passing an optional argument\n",
    "        if hob:\n",
    "            for i in hob:\n",
    "                self.hobbies.append(i)\n",
    "                print(f\"We added: {self.hobbies[-1]}\")\n",
    "            return self.hobbies_function()\n",
    "        else:\n",
    "            new = \", \".join([i for i in self.hobbies])\n",
    "            return f\"My hobbies are: {new}\""
   ]
  },
  {
   "cell_type": "markdown",
   "metadata": {},
   "source": [
    "### 2.2 Info Method\n",
    "\n",
    "As in the previous exercise, set a method to know all the information related with each person: Name, Surname, Time_Off Available, Mail, hobbies and Company"
   ]
  },
  {
   "cell_type": "code",
   "execution_count": 10,
   "metadata": {
    "tags": []
   },
   "outputs": [],
   "source": [
    "class Staff ():\n",
    "    company=\"Ironhack\"\n",
    "        \n",
    "    def __init__ (self, name, fname):\n",
    "        self.name = name.capitalize()\n",
    "        self.fname = fname\n",
    "        \n",
    "        # Default\n",
    "        self.time_off = 20\n",
    "        \n",
    "        #Default: as a result\n",
    "        self.email = self.name.lower() + \".\" + self.fname.lower() + \"@ironhack.com\"\n",
    "        \n",
    "        self.hobbies = []\n",
    "        \n",
    "    \n",
    "    def introduce (self):\n",
    "        return f\"Hello, my name is {self.name}!\"\n",
    "    \n",
    "    def takes_days_off (self, number):\n",
    "        if self.time_off-number >= 0:\n",
    "            self.time_off -= number\n",
    "            return f\"Now you have {self.time_off} days off available\"\n",
    "        else:\n",
    "            return f\"Sorry, you ran out of days. Your total time_off available is {self.time_off}\"\n",
    "    \n",
    "    def hobbies_function (self, *hob): #passing an optional argument\n",
    "        if hob:\n",
    "            for i in hob:\n",
    "                self.hobbies.append(i)\n",
    "                print(f\"We added: {self.hobbies[-1]}\")\n",
    "            return self.hobbies_function()\n",
    "        else:\n",
    "            new = \", \".join([i for i in self.hobbies])\n",
    "            return f\"My hobbies are: {new}\"\n",
    "    def info(self):\n",
    "        info = f\"Name: {self.name}\\nSurname: {self.fname}\\nTime_Off Available: {self.time_off} days\\nMail: {self.email}\\nHobbies: {', '.join(self.hobbies)}\\nCompany: {self.company}\"\n",
    "        return info"
   ]
  },
  {
   "cell_type": "code",
   "execution_count": 11,
   "metadata": {
    "tags": []
   },
   "outputs": [
    {
     "name": "stdout",
     "output_type": "stream",
     "text": [
      "We added: Basketball\n",
      "We added: Board Games\n",
      "We added: Coding\n"
     ]
    },
    {
     "data": {
      "text/plain": [
       "'Name: Gonzalo\\nSurname: Quesada\\nTime_Off Available: 15 days\\nMail: gonzalo.quesada@ironhack.com\\nHobbies: Basketball, Board Games, Coding\\nCompany: Ironhack'"
      ]
     },
     "execution_count": 11,
     "metadata": {},
     "output_type": "execute_result"
    }
   ],
   "source": [
    "bestteacherever=Staff(\"Gonzalo\", \"Quesada\")\n",
    "bestteacherever.hobbies_function(\"Basketball\", \"Board Games\", \"Coding\")\n",
    "bestteacherever.takes_days_off(5)\n",
    "bestteacherever.info()\n"
   ]
  },
  {
   "cell_type": "markdown",
   "metadata": {},
   "source": [
    "### 2.3 Inheritance\n",
    "\n",
    "Now suppose the Marketing department works differently, but inside the organization. In other words, Staff will be the Parent Class and Marketing the Child. The differences are: \n",
    "\n",
    "- The mail must end with .mktg (for example, instead of laura.molas@ironhack.com it should be laura.molas.mktg@ironhack.com)\n",
    "- The total days they have of time_off is 30 (Lucky them...)\n",
    "- In addition, in the `introduce` method, they should salute the same as in Staff BUT adding that they are from the Marketing dpt. "
   ]
  },
  {
   "cell_type": "code",
   "execution_count": 17,
   "metadata": {
    "tags": []
   },
   "outputs": [],
   "source": [
    "class Marketing(Staff):\n",
    "    def __init__(self, name, fname):\n",
    "        super().__init__(name, fname)\n",
    "        self.time_off = 30  \n",
    "\n",
    "    def introduce(self):\n",
    "        base_intro = super().introduce()\n",
    "        return f\"{base_intro} I am from the Marketing department.\"\n",
    "\n",
    "    def update_email(self):\n",
    "        self.email = self.name.lower() + \".\" + self.fname.lower() + \".mktg@ironhack.com\"\n",
    "        "
   ]
  },
  {
   "cell_type": "code",
   "execution_count": 18,
   "metadata": {
    "tags": []
   },
   "outputs": [
    {
     "name": "stdout",
     "output_type": "stream",
     "text": [
      "We added: Photography\n",
      "We added: Animals\n"
     ]
    },
    {
     "data": {
      "text/plain": [
       "'Hello, my name is Laura! I am from the Marketing department.'"
      ]
     },
     "execution_count": 18,
     "metadata": {},
     "output_type": "execute_result"
    }
   ],
   "source": [
    "#Try if your Class is well defined with this example: \n",
    "mktg=Marketing(\"Laura\", \"Molas\")\n",
    "mktg.hobbies_function(\"Photography\", \"Animals\")\n",
    "mktg.info()\n",
    "mktg.introduce()"
   ]
  }
 ],
 "metadata": {
  "kernelspec": {
   "display_name": "Python 3 (ipykernel)",
   "language": "python",
   "name": "python3"
  },
  "language_info": {
   "codemirror_mode": {
    "name": "ipython",
    "version": 3
   },
   "file_extension": ".py",
   "mimetype": "text/x-python",
   "name": "python",
   "nbconvert_exporter": "python",
   "pygments_lexer": "ipython3",
   "version": "3.11.5"
  }
 },
 "nbformat": 4,
 "nbformat_minor": 4
}
