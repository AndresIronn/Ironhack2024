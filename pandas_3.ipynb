{
 "cells": [
  {
   "cell_type": "markdown",
   "metadata": {},
   "source": [
    "###### Andrés Genta\n",
    "# PANDAS LAB - Continuation of the EuroLeague Case Study\n",
    "## Let's compare the competitions!\n",
    "\n",
    "![](https://eurospects.com/wp-content/uploads/2018/10/eurocupeuroleague.png)\n",
    "\n",
    "First of all, we must \n",
    "\n",
    "- Import the actual.csv Dataset. This dataset will be the CSV of the result obtained in class.\n",
    "- Import ec23.xlsx. This dataset correspond to the import the dataset corresponding to Eurocup. Don't worry, this time the Excel will be cleaned (almost)\n",
    "\n",
    "<details>\n",
    "    <summary> Lab results </summary>\n",
    "\n",
    "![](https://media1.tenor.com/m/lx2WSGRk8bcAAAAC/pulp-fiction-john-travolta.gif)\n",
    "\n",
    "PERO QUÉ OS HABÉIS CREÍDO\n",
    "\n",
    "</details>"
   ]
  },
  {
   "cell_type": "code",
   "execution_count": 38,
   "metadata": {},
   "outputs": [],
   "source": [
    "#pip install openpyxl\n",
    "# In case there is an error with this .xlsx document opening, install this library"
   ]
  },
  {
   "cell_type": "code",
   "execution_count": 6,
   "metadata": {
    "tags": []
   },
   "outputs": [
    {
     "name": "stdout",
     "output_type": "stream",
     "text": [
      "Requirement already satisfied: openpyxl in c:\\users\\agent\\anaconda3\\lib\\site-packages (3.0.10)\n",
      "Requirement already satisfied: et_xmlfile in c:\\users\\agent\\anaconda3\\lib\\site-packages (from openpyxl) (1.1.0)\n"
     ]
    }
   ],
   "source": [
    "!pip install openpyxl"
   ]
  },
  {
   "cell_type": "code",
   "execution_count": 7,
   "metadata": {
    "tags": []
   },
   "outputs": [],
   "source": [
    "import pandas as pd\n",
    "import numpy as np\n",
    "import os"
   ]
  },
  {
   "cell_type": "code",
   "execution_count": 8,
   "metadata": {
    "tags": []
   },
   "outputs": [
    {
     "data": {
      "text/html": [
       "<div>\n",
       "<style scoped>\n",
       "    .dataframe tbody tr th:only-of-type {\n",
       "        vertical-align: middle;\n",
       "    }\n",
       "\n",
       "    .dataframe tbody tr th {\n",
       "        vertical-align: top;\n",
       "    }\n",
       "\n",
       "    .dataframe thead th {\n",
       "        text-align: right;\n",
       "    }\n",
       "</style>\n",
       "<table border=\"1\" class=\"dataframe\">\n",
       "  <thead>\n",
       "    <tr style=\"text-align: right;\">\n",
       "      <th></th>\n",
       "      <th>Unnamed: 0</th>\n",
       "      <th>fecha</th>\n",
       "      <th>ronda</th>\n",
       "      <th>local</th>\n",
       "      <th>visitante</th>\n",
       "      <th>localscore</th>\n",
       "      <th>roadscore</th>\n",
       "      <th>Winner</th>\n",
       "      <th>Ganador</th>\n",
       "      <th>plusminus</th>\n",
       "    </tr>\n",
       "  </thead>\n",
       "  <tbody>\n",
       "    <tr>\n",
       "      <th>0</th>\n",
       "      <td>0</td>\n",
       "      <td>2024-01-31T21:00:00</td>\n",
       "      <td>17</td>\n",
       "      <td>Dreamland Gran Canaria</td>\n",
       "      <td>U-BT Cluj-Napoca</td>\n",
       "      <td>111</td>\n",
       "      <td>113.0</td>\n",
       "      <td>Visitante</td>\n",
       "      <td>113.0</td>\n",
       "      <td>-2.0</td>\n",
       "    </tr>\n",
       "    <tr>\n",
       "      <th>1</th>\n",
       "      <td>1</td>\n",
       "      <td>2024-01-31T20:00:00</td>\n",
       "      <td>17</td>\n",
       "      <td>Dolomiti Energia Trento</td>\n",
       "      <td>Buducnost VOLI Podgorica</td>\n",
       "      <td>78</td>\n",
       "      <td>97.0</td>\n",
       "      <td>Visitante</td>\n",
       "      <td>97.0</td>\n",
       "      <td>-19.0</td>\n",
       "    </tr>\n",
       "    <tr>\n",
       "      <th>2</th>\n",
       "      <td>2</td>\n",
       "      <td>2024-01-31T19:30:00</td>\n",
       "      <td>17</td>\n",
       "      <td>ratiopharm Ulm</td>\n",
       "      <td>Aris Midea Thessaloniki</td>\n",
       "      <td>66</td>\n",
       "      <td>86.0</td>\n",
       "      <td>Visitante</td>\n",
       "      <td>86.0</td>\n",
       "      <td>-20.0</td>\n",
       "    </tr>\n",
       "    <tr>\n",
       "      <th>3</th>\n",
       "      <td>3</td>\n",
       "      <td>2024-01-31T18:30:00</td>\n",
       "      <td>17</td>\n",
       "      <td>Cedevita Olimpija Ljubljana</td>\n",
       "      <td>London Lions</td>\n",
       "      <td>85</td>\n",
       "      <td>92.0</td>\n",
       "      <td>Visitante</td>\n",
       "      <td>92.0</td>\n",
       "      <td>-7.0</td>\n",
       "    </tr>\n",
       "    <tr>\n",
       "      <th>4</th>\n",
       "      <td>4</td>\n",
       "      <td>2024-01-31T18:00:00</td>\n",
       "      <td>17</td>\n",
       "      <td>Turk Telekom Ankara</td>\n",
       "      <td>Mincidelice JL Bourg en Bresse</td>\n",
       "      <td>64</td>\n",
       "      <td>68.0</td>\n",
       "      <td>Visitante</td>\n",
       "      <td>68.0</td>\n",
       "      <td>-4.0</td>\n",
       "    </tr>\n",
       "    <tr>\n",
       "      <th>...</th>\n",
       "      <td>...</td>\n",
       "      <td>...</td>\n",
       "      <td>...</td>\n",
       "      <td>...</td>\n",
       "      <td>...</td>\n",
       "      <td>...</td>\n",
       "      <td>...</td>\n",
       "      <td>...</td>\n",
       "      <td>...</td>\n",
       "      <td>...</td>\n",
       "    </tr>\n",
       "    <tr>\n",
       "      <th>168</th>\n",
       "      <td>165</td>\n",
       "      <td>2023-10-04T18:00:00</td>\n",
       "      <td>1</td>\n",
       "      <td>U-BT Cluj-Napoca</td>\n",
       "      <td>Turk Telekom Ankara</td>\n",
       "      <td>80</td>\n",
       "      <td>71.0</td>\n",
       "      <td>Local</td>\n",
       "      <td>80.0</td>\n",
       "      <td>9.0</td>\n",
       "    </tr>\n",
       "    <tr>\n",
       "      <th>169</th>\n",
       "      <td>166</td>\n",
       "      <td>2023-10-04T18:00:00</td>\n",
       "      <td>1</td>\n",
       "      <td>Prometey Slobozhanske</td>\n",
       "      <td>Veolia Towers Hamburg</td>\n",
       "      <td>97</td>\n",
       "      <td>77.0</td>\n",
       "      <td>Local</td>\n",
       "      <td>97.0</td>\n",
       "      <td>20.0</td>\n",
       "    </tr>\n",
       "    <tr>\n",
       "      <th>170</th>\n",
       "      <td>167</td>\n",
       "      <td>2023-10-03T20:30:00</td>\n",
       "      <td>1</td>\n",
       "      <td>Paris Basketball</td>\n",
       "      <td>Wolves Vilnius</td>\n",
       "      <td>105</td>\n",
       "      <td>78.0</td>\n",
       "      <td>Local</td>\n",
       "      <td>105.0</td>\n",
       "      <td>27.0</td>\n",
       "    </tr>\n",
       "    <tr>\n",
       "      <th>171</th>\n",
       "      <td>168</td>\n",
       "      <td>2023-10-03T19:30:00</td>\n",
       "      <td>1</td>\n",
       "      <td>ratiopharm Ulm</td>\n",
       "      <td>Dolomiti Energia Trento</td>\n",
       "      <td>80</td>\n",
       "      <td>70.0</td>\n",
       "      <td>Local</td>\n",
       "      <td>80.0</td>\n",
       "      <td>10.0</td>\n",
       "    </tr>\n",
       "    <tr>\n",
       "      <th>172</th>\n",
       "      <td>169</td>\n",
       "      <td>2023-10-03T19:00:00</td>\n",
       "      <td>1</td>\n",
       "      <td>Hapoel Shlomo Tel Aviv</td>\n",
       "      <td>Cedevita Olimpija Ljubljana</td>\n",
       "      <td>100</td>\n",
       "      <td>73.0</td>\n",
       "      <td>Local</td>\n",
       "      <td>100.0</td>\n",
       "      <td>27.0</td>\n",
       "    </tr>\n",
       "  </tbody>\n",
       "</table>\n",
       "<p>173 rows × 10 columns</p>\n",
       "</div>"
      ],
      "text/plain": [
       "     Unnamed: 0                fecha  ronda                        local  \\\n",
       "0             0  2024-01-31T21:00:00     17       Dreamland Gran Canaria   \n",
       "1             1  2024-01-31T20:00:00     17      Dolomiti Energia Trento   \n",
       "2             2  2024-01-31T19:30:00     17               ratiopharm Ulm   \n",
       "3             3  2024-01-31T18:30:00     17  Cedevita Olimpija Ljubljana   \n",
       "4             4  2024-01-31T18:00:00     17          Turk Telekom Ankara   \n",
       "..          ...                  ...    ...                          ...   \n",
       "168         165  2023-10-04T18:00:00      1             U-BT Cluj-Napoca   \n",
       "169         166  2023-10-04T18:00:00      1        Prometey Slobozhanske   \n",
       "170         167  2023-10-03T20:30:00      1             Paris Basketball   \n",
       "171         168  2023-10-03T19:30:00      1               ratiopharm Ulm   \n",
       "172         169  2023-10-03T19:00:00      1       Hapoel Shlomo Tel Aviv   \n",
       "\n",
       "                          visitante  localscore  roadscore     Winner  \\\n",
       "0                  U-BT Cluj-Napoca         111      113.0  Visitante   \n",
       "1          Buducnost VOLI Podgorica          78       97.0  Visitante   \n",
       "2           Aris Midea Thessaloniki          66       86.0  Visitante   \n",
       "3                      London Lions          85       92.0  Visitante   \n",
       "4    Mincidelice JL Bourg en Bresse          64       68.0  Visitante   \n",
       "..                              ...         ...        ...        ...   \n",
       "168             Turk Telekom Ankara          80       71.0      Local   \n",
       "169           Veolia Towers Hamburg          97       77.0      Local   \n",
       "170                  Wolves Vilnius         105       78.0      Local   \n",
       "171         Dolomiti Energia Trento          80       70.0      Local   \n",
       "172     Cedevita Olimpija Ljubljana         100       73.0      Local   \n",
       "\n",
       "     Ganador  plusminus  \n",
       "0      113.0       -2.0  \n",
       "1       97.0      -19.0  \n",
       "2       86.0      -20.0  \n",
       "3       92.0       -7.0  \n",
       "4       68.0       -4.0  \n",
       "..       ...        ...  \n",
       "168     80.0        9.0  \n",
       "169     97.0       20.0  \n",
       "170    105.0       27.0  \n",
       "171     80.0       10.0  \n",
       "172    100.0       27.0  \n",
       "\n",
       "[173 rows x 10 columns]"
      ]
     },
     "execution_count": 8,
     "metadata": {},
     "output_type": "execute_result"
    }
   ],
   "source": [
    "#A veces se me complica con los paths y tengo que hacer estas cosas\n",
    "desktop_path=os.path.join(os.path.expanduser(\"~\"), \"Desktop\")\n",
    "elteams=pd.read_csv(os.path.join(desktop_path, \"datasets\", \"actual.csv\"))\n",
    "ecteams=pd.read_excel(os.path.join(desktop_path, \"datasets\", \"ec2023.xlsx\"), index_col=False)\n",
    "ecteams"
   ]
  },
  {
   "cell_type": "markdown",
   "metadata": {},
   "source": [
    "Let's analyze the EuroCup Dataframe! Is there any cleaning needed? Remember the basics: \n",
    "- Drop Null Values\n",
    "- Drop Duplicate Rows\n",
    "- Drop Strange Columns if you see any"
   ]
  },
  {
   "cell_type": "markdown",
   "metadata": {
    "tags": []
   },
   "source": [
    "### **EUROCUP**"
   ]
  },
  {
   "cell_type": "markdown",
   "metadata": {},
   "source": [
    "### Drop null values"
   ]
  },
  {
   "cell_type": "code",
   "execution_count": 9,
   "metadata": {
    "tags": []
   },
   "outputs": [
    {
     "data": {
      "text/plain": [
       "Unnamed: 0    0\n",
       "fecha         0\n",
       "ronda         0\n",
       "local         0\n",
       "visitante     0\n",
       "localscore    0\n",
       "roadscore     1\n",
       "Winner        0\n",
       "Ganador       1\n",
       "plusminus     1\n",
       "dtype: int64"
      ]
     },
     "execution_count": 9,
     "metadata": {},
     "output_type": "execute_result"
    }
   ],
   "source": [
    "ecteams.isna().sum() "
   ]
  },
  {
   "cell_type": "markdown",
   "metadata": {
    "tags": []
   },
   "source": [
    "Se puede observar que hay 3 valores nulos. Veamos en qué fila/s están para ver cómo tratarlos:"
   ]
  },
  {
   "cell_type": "code",
   "execution_count": 10,
   "metadata": {
    "tags": []
   },
   "outputs": [
    {
     "name": "stdout",
     "output_type": "stream",
     "text": [
      "     roadscore  Ganador  plusminus\n",
      "142        NaN      NaN        NaN\n"
     ]
    }
   ],
   "source": [
    "print(ecteams.loc[ecteams.isnull().any(axis=1), ecteams.isnull().any()])\n"
   ]
  },
  {
   "cell_type": "code",
   "execution_count": 11,
   "metadata": {
    "tags": []
   },
   "outputs": [
    {
     "data": {
      "text/html": [
       "<div>\n",
       "<style scoped>\n",
       "    .dataframe tbody tr th:only-of-type {\n",
       "        vertical-align: middle;\n",
       "    }\n",
       "\n",
       "    .dataframe tbody tr th {\n",
       "        vertical-align: top;\n",
       "    }\n",
       "\n",
       "    .dataframe thead th {\n",
       "        text-align: right;\n",
       "    }\n",
       "</style>\n",
       "<table border=\"1\" class=\"dataframe\">\n",
       "  <thead>\n",
       "    <tr style=\"text-align: right;\">\n",
       "      <th></th>\n",
       "      <th>Unnamed: 0</th>\n",
       "      <th>fecha</th>\n",
       "      <th>ronda</th>\n",
       "      <th>local</th>\n",
       "      <th>visitante</th>\n",
       "      <th>localscore</th>\n",
       "      <th>roadscore</th>\n",
       "      <th>Winner</th>\n",
       "      <th>Ganador</th>\n",
       "      <th>plusminus</th>\n",
       "    </tr>\n",
       "  </thead>\n",
       "  <tbody>\n",
       "    <tr>\n",
       "      <th>142</th>\n",
       "      <td>139</td>\n",
       "      <td>2023-10-24T19:30:00</td>\n",
       "      <td>4</td>\n",
       "      <td>Veolia Towers Hamburg</td>\n",
       "      <td>Hapoel Shlomo Tel Aviv</td>\n",
       "      <td>72</td>\n",
       "      <td>NaN</td>\n",
       "      <td>Visitante</td>\n",
       "      <td>NaN</td>\n",
       "      <td>NaN</td>\n",
       "    </tr>\n",
       "  </tbody>\n",
       "</table>\n",
       "</div>"
      ],
      "text/plain": [
       "     Unnamed: 0                fecha  ronda                  local  \\\n",
       "142         139  2023-10-24T19:30:00      4  Veolia Towers Hamburg   \n",
       "\n",
       "                  visitante  localscore  roadscore     Winner  Ganador  \\\n",
       "142  Hapoel Shlomo Tel Aviv          72        NaN  Visitante      NaN   \n",
       "\n",
       "     plusminus  \n",
       "142        NaN  "
      ]
     },
     "execution_count": 11,
     "metadata": {},
     "output_type": "execute_result"
    }
   ],
   "source": [
    "ecteams.iloc[142:143]"
   ]
  },
  {
   "cell_type": "markdown",
   "metadata": {},
   "source": [
    "Busqué en internet y el resultado del partido fue 72-111. Se podría ver de cambiar los valores de NaN pero voy a borrar la fila ya que la letra del Lab lo pide."
   ]
  },
  {
   "cell_type": "code",
   "execution_count": 12,
   "metadata": {
    "tags": []
   },
   "outputs": [
    {
     "name": "stdout",
     "output_type": "stream",
     "text": [
      "<class 'pandas.core.frame.DataFrame'>\n",
      "RangeIndex: 173 entries, 0 to 172\n",
      "Data columns (total 10 columns):\n",
      " #   Column      Non-Null Count  Dtype  \n",
      "---  ------      --------------  -----  \n",
      " 0   Unnamed: 0  173 non-null    int64  \n",
      " 1   fecha       173 non-null    object \n",
      " 2   ronda       173 non-null    int64  \n",
      " 3   local       173 non-null    object \n",
      " 4   visitante   173 non-null    object \n",
      " 5   localscore  173 non-null    int64  \n",
      " 6   roadscore   172 non-null    float64\n",
      " 7   Winner      173 non-null    object \n",
      " 8   Ganador     172 non-null    float64\n",
      " 9   plusminus   172 non-null    float64\n",
      "dtypes: float64(3), int64(3), object(4)\n",
      "memory usage: 13.6+ KB\n"
     ]
    }
   ],
   "source": [
    "ecteams.info()"
   ]
  },
  {
   "cell_type": "code",
   "execution_count": 13,
   "metadata": {
    "tags": []
   },
   "outputs": [],
   "source": [
    "ecteams.dropna(inplace=True) #Eliminé la fila 142"
   ]
  },
  {
   "cell_type": "code",
   "execution_count": 14,
   "metadata": {
    "tags": []
   },
   "outputs": [
    {
     "data": {
      "text/html": [
       "<div>\n",
       "<style scoped>\n",
       "    .dataframe tbody tr th:only-of-type {\n",
       "        vertical-align: middle;\n",
       "    }\n",
       "\n",
       "    .dataframe tbody tr th {\n",
       "        vertical-align: top;\n",
       "    }\n",
       "\n",
       "    .dataframe thead th {\n",
       "        text-align: right;\n",
       "    }\n",
       "</style>\n",
       "<table border=\"1\" class=\"dataframe\">\n",
       "  <thead>\n",
       "    <tr style=\"text-align: right;\">\n",
       "      <th></th>\n",
       "      <th>Unnamed: 0</th>\n",
       "      <th>fecha</th>\n",
       "      <th>ronda</th>\n",
       "      <th>local</th>\n",
       "      <th>visitante</th>\n",
       "      <th>localscore</th>\n",
       "      <th>roadscore</th>\n",
       "      <th>Winner</th>\n",
       "      <th>Ganador</th>\n",
       "      <th>plusminus</th>\n",
       "    </tr>\n",
       "  </thead>\n",
       "  <tbody>\n",
       "    <tr>\n",
       "      <th>141</th>\n",
       "      <td>139</td>\n",
       "      <td>2023-10-24T19:30:00</td>\n",
       "      <td>4</td>\n",
       "      <td>Veolia Towers Hamburg</td>\n",
       "      <td>Hapoel Shlomo Tel Aviv</td>\n",
       "      <td>72</td>\n",
       "      <td>111.0</td>\n",
       "      <td>Visitante</td>\n",
       "      <td>111.0</td>\n",
       "      <td>-39.0</td>\n",
       "    </tr>\n",
       "    <tr>\n",
       "      <th>143</th>\n",
       "      <td>140</td>\n",
       "      <td>2023-10-24T18:00:00</td>\n",
       "      <td>4</td>\n",
       "      <td>Wolves Vilnius</td>\n",
       "      <td>Besiktas Emlakjet Istanbul</td>\n",
       "      <td>90</td>\n",
       "      <td>88.0</td>\n",
       "      <td>Local</td>\n",
       "      <td>90.0</td>\n",
       "      <td>2.0</td>\n",
       "    </tr>\n",
       "  </tbody>\n",
       "</table>\n",
       "</div>"
      ],
      "text/plain": [
       "     Unnamed: 0                fecha  ronda                  local  \\\n",
       "141         139  2023-10-24T19:30:00      4  Veolia Towers Hamburg   \n",
       "143         140  2023-10-24T18:00:00      4         Wolves Vilnius   \n",
       "\n",
       "                      visitante  localscore  roadscore     Winner  Ganador  \\\n",
       "141      Hapoel Shlomo Tel Aviv          72      111.0  Visitante    111.0   \n",
       "143  Besiktas Emlakjet Istanbul          90       88.0      Local     90.0   \n",
       "\n",
       "     plusminus  \n",
       "141      -39.0  \n",
       "143        2.0  "
      ]
     },
     "execution_count": 14,
     "metadata": {},
     "output_type": "execute_result"
    }
   ],
   "source": [
    "ecteams.iloc[141:143]"
   ]
  },
  {
   "cell_type": "code",
   "execution_count": 15,
   "metadata": {
    "tags": []
   },
   "outputs": [
    {
     "name": "stdout",
     "output_type": "stream",
     "text": [
      "<class 'pandas.core.frame.DataFrame'>\n",
      "Index: 172 entries, 0 to 172\n",
      "Data columns (total 10 columns):\n",
      " #   Column      Non-Null Count  Dtype  \n",
      "---  ------      --------------  -----  \n",
      " 0   Unnamed: 0  172 non-null    int64  \n",
      " 1   fecha       172 non-null    object \n",
      " 2   ronda       172 non-null    int64  \n",
      " 3   local       172 non-null    object \n",
      " 4   visitante   172 non-null    object \n",
      " 5   localscore  172 non-null    int64  \n",
      " 6   roadscore   172 non-null    float64\n",
      " 7   Winner      172 non-null    object \n",
      " 8   Ganador     172 non-null    float64\n",
      " 9   plusminus   172 non-null    float64\n",
      "dtypes: float64(3), int64(3), object(4)\n",
      "memory usage: 14.8+ KB\n"
     ]
    }
   ],
   "source": [
    "ecteams.info() #Ahora quedó bien"
   ]
  },
  {
   "cell_type": "markdown",
   "metadata": {},
   "source": [
    "### Drop duplicate rows"
   ]
  },
  {
   "cell_type": "code",
   "execution_count": 16,
   "metadata": {
    "tags": []
   },
   "outputs": [
    {
     "data": {
      "text/html": [
       "<div>\n",
       "<style scoped>\n",
       "    .dataframe tbody tr th:only-of-type {\n",
       "        vertical-align: middle;\n",
       "    }\n",
       "\n",
       "    .dataframe tbody tr th {\n",
       "        vertical-align: top;\n",
       "    }\n",
       "\n",
       "    .dataframe thead th {\n",
       "        text-align: right;\n",
       "    }\n",
       "</style>\n",
       "<table border=\"1\" class=\"dataframe\">\n",
       "  <thead>\n",
       "    <tr style=\"text-align: right;\">\n",
       "      <th></th>\n",
       "      <th>Unnamed: 0</th>\n",
       "      <th>fecha</th>\n",
       "      <th>ronda</th>\n",
       "      <th>local</th>\n",
       "      <th>visitante</th>\n",
       "      <th>localscore</th>\n",
       "      <th>roadscore</th>\n",
       "      <th>Winner</th>\n",
       "      <th>Ganador</th>\n",
       "      <th>plusminus</th>\n",
       "    </tr>\n",
       "  </thead>\n",
       "  <tbody>\n",
       "    <tr>\n",
       "      <th>80</th>\n",
       "      <td>79</td>\n",
       "      <td>2023-12-05T19:30:00</td>\n",
       "      <td>10</td>\n",
       "      <td>Veolia Towers Hamburg</td>\n",
       "      <td>Prometey Slobozhanske</td>\n",
       "      <td>83</td>\n",
       "      <td>97.0</td>\n",
       "      <td>Visitante</td>\n",
       "      <td>97.0</td>\n",
       "      <td>-14.0</td>\n",
       "    </tr>\n",
       "    <tr>\n",
       "      <th>99</th>\n",
       "      <td>97</td>\n",
       "      <td>2023-11-21T19:30:00</td>\n",
       "      <td>8</td>\n",
       "      <td>Mincidelice JL Bourg en Bresse</td>\n",
       "      <td>Turk Telekom Ankara</td>\n",
       "      <td>86</td>\n",
       "      <td>67.0</td>\n",
       "      <td>Local</td>\n",
       "      <td>86.0</td>\n",
       "      <td>19.0</td>\n",
       "    </tr>\n",
       "  </tbody>\n",
       "</table>\n",
       "</div>"
      ],
      "text/plain": [
       "    Unnamed: 0                fecha  ronda                           local  \\\n",
       "80          79  2023-12-05T19:30:00     10           Veolia Towers Hamburg   \n",
       "99          97  2023-11-21T19:30:00      8  Mincidelice JL Bourg en Bresse   \n",
       "\n",
       "                visitante  localscore  roadscore     Winner  Ganador  \\\n",
       "80  Prometey Slobozhanske          83       97.0  Visitante     97.0   \n",
       "99    Turk Telekom Ankara          86       67.0      Local     86.0   \n",
       "\n",
       "    plusminus  \n",
       "80      -14.0  \n",
       "99       19.0  "
      ]
     },
     "execution_count": 16,
     "metadata": {},
     "output_type": "execute_result"
    }
   ],
   "source": [
    "duplicadas=ecteams.duplicated()\n",
    "datos_duplicados = ecteams[duplicadas]\n",
    "datos_duplicados"
   ]
  },
  {
   "cell_type": "code",
   "execution_count": 17,
   "metadata": {
    "tags": []
   },
   "outputs": [],
   "source": [
    "ecteams.drop_duplicates(inplace=True)"
   ]
  },
  {
   "cell_type": "markdown",
   "metadata": {},
   "source": [
    "### Drop strange columns if you see any"
   ]
  },
  {
   "cell_type": "markdown",
   "metadata": {},
   "source": [
    "Voy a borrar la columna Unnamed: 0, ya que no aporta información: "
   ]
  },
  {
   "cell_type": "code",
   "execution_count": 18,
   "metadata": {},
   "outputs": [
    {
     "data": {
      "text/html": [
       "<div>\n",
       "<style scoped>\n",
       "    .dataframe tbody tr th:only-of-type {\n",
       "        vertical-align: middle;\n",
       "    }\n",
       "\n",
       "    .dataframe tbody tr th {\n",
       "        vertical-align: top;\n",
       "    }\n",
       "\n",
       "    .dataframe thead th {\n",
       "        text-align: right;\n",
       "    }\n",
       "</style>\n",
       "<table border=\"1\" class=\"dataframe\">\n",
       "  <thead>\n",
       "    <tr style=\"text-align: right;\">\n",
       "      <th></th>\n",
       "      <th>fecha</th>\n",
       "      <th>ronda</th>\n",
       "      <th>local</th>\n",
       "      <th>visitante</th>\n",
       "      <th>localscore</th>\n",
       "      <th>roadscore</th>\n",
       "      <th>Winner</th>\n",
       "      <th>Ganador</th>\n",
       "      <th>plusminus</th>\n",
       "    </tr>\n",
       "  </thead>\n",
       "  <tbody>\n",
       "    <tr>\n",
       "      <th>70</th>\n",
       "      <td>2023-12-12T18:00:00</td>\n",
       "      <td>11</td>\n",
       "      <td>Wolves Vilnius</td>\n",
       "      <td>Hapoel Shlomo Tel Aviv</td>\n",
       "      <td>81</td>\n",
       "      <td>89.0</td>\n",
       "      <td>Visitante</td>\n",
       "      <td>89.0</td>\n",
       "      <td>-8.0</td>\n",
       "    </tr>\n",
       "  </tbody>\n",
       "</table>\n",
       "</div>"
      ],
      "text/plain": [
       "                  fecha  ronda           local               visitante  \\\n",
       "70  2023-12-12T18:00:00     11  Wolves Vilnius  Hapoel Shlomo Tel Aviv   \n",
       "\n",
       "    localscore  roadscore     Winner  Ganador  plusminus  \n",
       "70          81       89.0  Visitante     89.0       -8.0  "
      ]
     },
     "execution_count": 18,
     "metadata": {},
     "output_type": "execute_result"
    }
   ],
   "source": [
    "if \"Unnamed: 0\" in ecteams.columns:\n",
    "    ecteams.drop(\"Unnamed: 0\", axis=1, inplace=True)\n",
    "ecteams.sample() #Para comprobar que ya no está la columna"
   ]
  },
  {
   "cell_type": "markdown",
   "metadata": {},
   "source": [
    "### Let's now compare it with the EL dataset that we have: You might select a sample of both of them and see what are the inconsistencies!"
   ]
  },
  {
   "cell_type": "code",
   "execution_count": 19,
   "metadata": {
    "tags": []
   },
   "outputs": [
    {
     "data": {
      "text/html": [
       "<div>\n",
       "<style scoped>\n",
       "    .dataframe tbody tr th:only-of-type {\n",
       "        vertical-align: middle;\n",
       "    }\n",
       "\n",
       "    .dataframe tbody tr th {\n",
       "        vertical-align: top;\n",
       "    }\n",
       "\n",
       "    .dataframe thead th {\n",
       "        text-align: right;\n",
       "    }\n",
       "</style>\n",
       "<table border=\"1\" class=\"dataframe\">\n",
       "  <thead>\n",
       "    <tr style=\"text-align: right;\">\n",
       "      <th></th>\n",
       "      <th>fecha</th>\n",
       "      <th>ronda</th>\n",
       "      <th>local</th>\n",
       "      <th>visitante</th>\n",
       "      <th>localscore</th>\n",
       "      <th>roadscore</th>\n",
       "      <th>Winner</th>\n",
       "      <th>Ganador</th>\n",
       "      <th>plusminus</th>\n",
       "    </tr>\n",
       "  </thead>\n",
       "  <tbody>\n",
       "    <tr>\n",
       "      <th>131</th>\n",
       "      <td>2023-10-31T20:00:00</td>\n",
       "      <td>5</td>\n",
       "      <td>Dolomiti Energia Trento</td>\n",
       "      <td>Turk Telekom Ankara</td>\n",
       "      <td>101</td>\n",
       "      <td>96.0</td>\n",
       "      <td>Local</td>\n",
       "      <td>101.0</td>\n",
       "      <td>5.0</td>\n",
       "    </tr>\n",
       "  </tbody>\n",
       "</table>\n",
       "</div>"
      ],
      "text/plain": [
       "                   fecha  ronda                    local            visitante  \\\n",
       "131  2023-10-31T20:00:00      5  Dolomiti Energia Trento  Turk Telekom Ankara   \n",
       "\n",
       "     localscore  roadscore Winner  Ganador  plusminus  \n",
       "131         101       96.0  Local    101.0        5.0  "
      ]
     },
     "execution_count": 19,
     "metadata": {},
     "output_type": "execute_result"
    }
   ],
   "source": [
    "ecteams.sample()"
   ]
  },
  {
   "cell_type": "code",
   "execution_count": 20,
   "metadata": {
    "tags": []
   },
   "outputs": [
    {
     "data": {
      "text/html": [
       "<div>\n",
       "<style scoped>\n",
       "    .dataframe tbody tr th:only-of-type {\n",
       "        vertical-align: middle;\n",
       "    }\n",
       "\n",
       "    .dataframe tbody tr th {\n",
       "        vertical-align: top;\n",
       "    }\n",
       "\n",
       "    .dataframe thead th {\n",
       "        text-align: right;\n",
       "    }\n",
       "</style>\n",
       "<table border=\"1\" class=\"dataframe\">\n",
       "  <thead>\n",
       "    <tr style=\"text-align: right;\">\n",
       "      <th></th>\n",
       "      <th>Competition</th>\n",
       "      <th>Phase</th>\n",
       "      <th>Ronda</th>\n",
       "      <th>Dia</th>\n",
       "      <th>Hora</th>\n",
       "      <th>Local</th>\n",
       "      <th>Visitante</th>\n",
       "      <th>Localscore</th>\n",
       "      <th>Roadscore</th>\n",
       "      <th>Arbitros</th>\n",
       "      <th>Plusminus</th>\n",
       "      <th>Winner</th>\n",
       "      <th>Ganador</th>\n",
       "    </tr>\n",
       "  </thead>\n",
       "  <tbody>\n",
       "    <tr>\n",
       "      <th>52</th>\n",
       "      <td>Euroleague</td>\n",
       "      <td>Regular Season</td>\n",
       "      <td>6</td>\n",
       "      <td>2023-11-03</td>\n",
       "      <td>20:30:00</td>\n",
       "      <td>FC Barcelona</td>\n",
       "      <td>Panathinaikos AKTOR Athens</td>\n",
       "      <td>80</td>\n",
       "      <td>72</td>\n",
       "      <td>['RADOVIC, SRETEN', 'LATISEVS, OLEGS', 'BISSAN...</td>\n",
       "      <td>8</td>\n",
       "      <td>FC Barcelona</td>\n",
       "      <td>Local</td>\n",
       "    </tr>\n",
       "  </tbody>\n",
       "</table>\n",
       "</div>"
      ],
      "text/plain": [
       "   Competition           Phase  Ronda         Dia      Hora         Local  \\\n",
       "52  Euroleague  Regular Season      6  2023-11-03  20:30:00  FC Barcelona   \n",
       "\n",
       "                     Visitante  Localscore  Roadscore  \\\n",
       "52  Panathinaikos AKTOR Athens          80         72   \n",
       "\n",
       "                                             Arbitros  Plusminus  \\\n",
       "52  ['RADOVIC, SRETEN', 'LATISEVS, OLEGS', 'BISSAN...          8   \n",
       "\n",
       "          Winner Ganador  \n",
       "52  FC Barcelona   Local  "
      ]
     },
     "execution_count": 20,
     "metadata": {},
     "output_type": "execute_result"
    }
   ],
   "source": [
    "elteams.sample()"
   ]
  },
  {
   "cell_type": "markdown",
   "metadata": {
    "tags": []
   },
   "source": [
    "### What are the inconsistencies that you are seeing? Write them down!:\n",
    "- Minúsculas/Mayúsculas en los títulos.\n",
    "- Diferentes idiomas.\n",
    "- Diferente cantidad de columnas.\n",
    "- Diferente orden de las columnas Plusminus, Winner, Ganador y diferentes significados.\n",
    "\n",
    "<details>\n",
    "    <summary> Expand the box to see the inconsistencies </summary>\n",
    "\n",
    "- The columns are named in lowercase and the columns in Euroleague are capitalized\n",
    "- There are some missing columns (f.e. Arbitros)\n",
    "- Fecha is not split in Dia and Hora\n",
    "- `Winner and Ganador Columns show different data` are not the same! Be extremely careful about it\n",
    "\n",
    "</details>"
   ]
  },
  {
   "cell_type": "markdown",
   "metadata": {},
   "source": [
    "As you can see there are a lot of different inconsistencies right? \n",
    "But before starting cleaning like crazy people, let's take a second to know what do we want to compare: \n",
    "\n",
    "- The CLUBS are impossible to compare, as different competitions defines different clubs\n",
    "- Both rounds (Eurocup has less rounds) and Dates (Different Dates) are also not really useful\n",
    "- We don't have information about Arbitros\n",
    "\n",
    "## Conclusion\n",
    "\n",
    "### We must take into consideration what data we DO have in both dataframes to compare it propperly and don't use time cleaning unnecessary things. \n",
    "\n",
    "In this particular case, we will need to compare: \n"
   ]
  },
  {
   "cell_type": "markdown",
   "metadata": {},
   "source": [
    "`Competition`: The main column that define one from another. \n",
    "\n",
    "Create the Competition column in the EuroCup dataframe, being the fixed value \"Eurocup\""
   ]
  },
  {
   "cell_type": "code",
   "execution_count": 21,
   "metadata": {
    "tags": []
   },
   "outputs": [
    {
     "data": {
      "text/html": [
       "<div>\n",
       "<style scoped>\n",
       "    .dataframe tbody tr th:only-of-type {\n",
       "        vertical-align: middle;\n",
       "    }\n",
       "\n",
       "    .dataframe tbody tr th {\n",
       "        vertical-align: top;\n",
       "    }\n",
       "\n",
       "    .dataframe thead th {\n",
       "        text-align: right;\n",
       "    }\n",
       "</style>\n",
       "<table border=\"1\" class=\"dataframe\">\n",
       "  <thead>\n",
       "    <tr style=\"text-align: right;\">\n",
       "      <th></th>\n",
       "      <th>fecha</th>\n",
       "      <th>ronda</th>\n",
       "      <th>local</th>\n",
       "      <th>visitante</th>\n",
       "      <th>localscore</th>\n",
       "      <th>roadscore</th>\n",
       "      <th>Winner</th>\n",
       "      <th>Ganador</th>\n",
       "      <th>plusminus</th>\n",
       "      <th>Competition</th>\n",
       "    </tr>\n",
       "  </thead>\n",
       "  <tbody>\n",
       "    <tr>\n",
       "      <th>56</th>\n",
       "      <td>2023-12-19T21:00:00</td>\n",
       "      <td>12</td>\n",
       "      <td>Dreamland Gran Canaria</td>\n",
       "      <td>Dolomiti Energia Trento</td>\n",
       "      <td>76</td>\n",
       "      <td>98.0</td>\n",
       "      <td>Visitante</td>\n",
       "      <td>98.0</td>\n",
       "      <td>-22.0</td>\n",
       "      <td>Eurocup</td>\n",
       "    </tr>\n",
       "  </tbody>\n",
       "</table>\n",
       "</div>"
      ],
      "text/plain": [
       "                  fecha  ronda                   local  \\\n",
       "56  2023-12-19T21:00:00     12  Dreamland Gran Canaria   \n",
       "\n",
       "                  visitante  localscore  roadscore     Winner  Ganador  \\\n",
       "56  Dolomiti Energia Trento          76       98.0  Visitante     98.0   \n",
       "\n",
       "    plusminus Competition  \n",
       "56      -22.0     Eurocup  "
      ]
     },
     "execution_count": 21,
     "metadata": {},
     "output_type": "execute_result"
    }
   ],
   "source": [
    "ecteams[\"Competition\"]=\"Eurocup\"\n",
    "ecteams.sample()"
   ]
  },
  {
   "cell_type": "markdown",
   "metadata": {},
   "source": [
    "`Ganador`: Being the actual values \"Local\" or \"Visitante\"\n",
    "\n",
    "**BE CAREFUL**: Before changing the correct column to \"Ganador\" from the EC dataframe, there is a \"Ganador\" column with the incorrect information: STEP BY STEP!"
   ]
  },
  {
   "cell_type": "code",
   "execution_count": 22,
   "metadata": {
    "tags": []
   },
   "outputs": [
    {
     "data": {
      "text/html": [
       "<div>\n",
       "<style scoped>\n",
       "    .dataframe tbody tr th:only-of-type {\n",
       "        vertical-align: middle;\n",
       "    }\n",
       "\n",
       "    .dataframe tbody tr th {\n",
       "        vertical-align: top;\n",
       "    }\n",
       "\n",
       "    .dataframe thead th {\n",
       "        text-align: right;\n",
       "    }\n",
       "</style>\n",
       "<table border=\"1\" class=\"dataframe\">\n",
       "  <thead>\n",
       "    <tr style=\"text-align: right;\">\n",
       "      <th></th>\n",
       "      <th>fecha</th>\n",
       "      <th>ronda</th>\n",
       "      <th>local</th>\n",
       "      <th>visitante</th>\n",
       "      <th>localscore</th>\n",
       "      <th>roadscore</th>\n",
       "      <th>Winner</th>\n",
       "      <th>plusminus</th>\n",
       "      <th>Competition</th>\n",
       "    </tr>\n",
       "  </thead>\n",
       "  <tbody>\n",
       "    <tr>\n",
       "      <th>67</th>\n",
       "      <td>2023-12-12T19:00:00</td>\n",
       "      <td>11</td>\n",
       "      <td>Aris Midea Thessaloniki</td>\n",
       "      <td>7bet-Lietkabelis Panevezys</td>\n",
       "      <td>69</td>\n",
       "      <td>60.0</td>\n",
       "      <td>Local</td>\n",
       "      <td>9.0</td>\n",
       "      <td>Eurocup</td>\n",
       "    </tr>\n",
       "  </tbody>\n",
       "</table>\n",
       "</div>"
      ],
      "text/plain": [
       "                  fecha  ronda                    local  \\\n",
       "67  2023-12-12T19:00:00     11  Aris Midea Thessaloniki   \n",
       "\n",
       "                     visitante  localscore  roadscore Winner  plusminus  \\\n",
       "67  7bet-Lietkabelis Panevezys          69       60.0  Local        9.0   \n",
       "\n",
       "   Competition  \n",
       "67     Eurocup  "
      ]
     },
     "execution_count": 22,
     "metadata": {},
     "output_type": "execute_result"
    }
   ],
   "source": [
    "#Drop the Column Ganador from the Eurocup Dataframe\n",
    "if \"Ganador\" in ecteams.columns:\n",
    "    ecteams.drop(\"Ganador\",axis=1,inplace=True)\n",
    "ecteams.sample() #Para comprobar que ya no extá la columna"
   ]
  },
  {
   "cell_type": "code",
   "execution_count": 23,
   "metadata": {
    "tags": []
   },
   "outputs": [
    {
     "data": {
      "text/html": [
       "<div>\n",
       "<style scoped>\n",
       "    .dataframe tbody tr th:only-of-type {\n",
       "        vertical-align: middle;\n",
       "    }\n",
       "\n",
       "    .dataframe tbody tr th {\n",
       "        vertical-align: top;\n",
       "    }\n",
       "\n",
       "    .dataframe thead th {\n",
       "        text-align: right;\n",
       "    }\n",
       "</style>\n",
       "<table border=\"1\" class=\"dataframe\">\n",
       "  <thead>\n",
       "    <tr style=\"text-align: right;\">\n",
       "      <th></th>\n",
       "      <th>fecha</th>\n",
       "      <th>ronda</th>\n",
       "      <th>local</th>\n",
       "      <th>visitante</th>\n",
       "      <th>localscore</th>\n",
       "      <th>roadscore</th>\n",
       "      <th>Ganador</th>\n",
       "      <th>plusminus</th>\n",
       "      <th>Competition</th>\n",
       "    </tr>\n",
       "  </thead>\n",
       "  <tbody>\n",
       "    <tr>\n",
       "      <th>164</th>\n",
       "      <td>2023-10-04T20:30:00</td>\n",
       "      <td>1</td>\n",
       "      <td>London Lions</td>\n",
       "      <td>Umana Reyer Venice</td>\n",
       "      <td>76</td>\n",
       "      <td>69.0</td>\n",
       "      <td>Local</td>\n",
       "      <td>7.0</td>\n",
       "      <td>Eurocup</td>\n",
       "    </tr>\n",
       "  </tbody>\n",
       "</table>\n",
       "</div>"
      ],
      "text/plain": [
       "                   fecha  ronda         local           visitante  localscore  \\\n",
       "164  2023-10-04T20:30:00      1  London Lions  Umana Reyer Venice          76   \n",
       "\n",
       "     roadscore Ganador  plusminus Competition  \n",
       "164       69.0   Local        7.0     Eurocup  "
      ]
     },
     "execution_count": 23,
     "metadata": {},
     "output_type": "execute_result"
    }
   ],
   "source": [
    "#Rename the column with the actual information to \"Ganador\"\n",
    "ecteams.rename(columns={\"Winner\":\"Ganador\"}, inplace=True)\n",
    "ecteams.sample()"
   ]
  },
  {
   "cell_type": "markdown",
   "metadata": {},
   "source": [
    "As seen in the first look at the dataframes, there was a problem with the columns: Are lower when they should be Capitalized, as in the Euroleague DataFrame. Change the column names to capitalize. \n",
    "\n",
    "is there a quick way to do it? \n",
    "Yes"
   ]
  },
  {
   "cell_type": "code",
   "execution_count": 24,
   "metadata": {
    "tags": []
   },
   "outputs": [
    {
     "data": {
      "text/html": [
       "<div>\n",
       "<style scoped>\n",
       "    .dataframe tbody tr th:only-of-type {\n",
       "        vertical-align: middle;\n",
       "    }\n",
       "\n",
       "    .dataframe tbody tr th {\n",
       "        vertical-align: top;\n",
       "    }\n",
       "\n",
       "    .dataframe thead th {\n",
       "        text-align: right;\n",
       "    }\n",
       "</style>\n",
       "<table border=\"1\" class=\"dataframe\">\n",
       "  <thead>\n",
       "    <tr style=\"text-align: right;\">\n",
       "      <th></th>\n",
       "      <th>Fecha</th>\n",
       "      <th>Ronda</th>\n",
       "      <th>Local</th>\n",
       "      <th>Visitante</th>\n",
       "      <th>Localscore</th>\n",
       "      <th>Roadscore</th>\n",
       "      <th>Ganador</th>\n",
       "      <th>Plusminus</th>\n",
       "      <th>Competition</th>\n",
       "    </tr>\n",
       "  </thead>\n",
       "  <tbody>\n",
       "    <tr>\n",
       "      <th>41</th>\n",
       "      <td>2023-12-27T20:00:00</td>\n",
       "      <td>13</td>\n",
       "      <td>Dolomiti Energia Trento</td>\n",
       "      <td>7bet-Lietkabelis Panevezys</td>\n",
       "      <td>76</td>\n",
       "      <td>70.0</td>\n",
       "      <td>Local</td>\n",
       "      <td>6.0</td>\n",
       "      <td>Eurocup</td>\n",
       "    </tr>\n",
       "  </tbody>\n",
       "</table>\n",
       "</div>"
      ],
      "text/plain": [
       "                  Fecha  Ronda                    Local  \\\n",
       "41  2023-12-27T20:00:00     13  Dolomiti Energia Trento   \n",
       "\n",
       "                     Visitante  Localscore  Roadscore Ganador  Plusminus  \\\n",
       "41  7bet-Lietkabelis Panevezys          76       70.0   Local        6.0   \n",
       "\n",
       "   Competition  \n",
       "41     Eurocup  "
      ]
     },
     "execution_count": 24,
     "metadata": {},
     "output_type": "execute_result"
    }
   ],
   "source": [
    "ecteams.columns = ecteams.columns.str.capitalize()\n",
    "ecteams.sample()"
   ]
  },
  {
   "cell_type": "markdown",
   "metadata": {},
   "source": [
    "Now it is time to just take the useful columns from each data! We will call the result subsets `comp_el` and `comp_ec`\n",
    "\n",
    "REMEMBER: Use the same order of the columns for each dataset. \n",
    "\n",
    "Recommended order: Competition, Localscore, Roadscore, Plusminus, Ganador. **Nothing else is useful**"
   ]
  },
  {
   "cell_type": "code",
   "execution_count": 25,
   "metadata": {
    "tags": []
   },
   "outputs": [
    {
     "data": {
      "text/html": [
       "<div>\n",
       "<style scoped>\n",
       "    .dataframe tbody tr th:only-of-type {\n",
       "        vertical-align: middle;\n",
       "    }\n",
       "\n",
       "    .dataframe tbody tr th {\n",
       "        vertical-align: top;\n",
       "    }\n",
       "\n",
       "    .dataframe thead th {\n",
       "        text-align: right;\n",
       "    }\n",
       "</style>\n",
       "<table border=\"1\" class=\"dataframe\">\n",
       "  <thead>\n",
       "    <tr style=\"text-align: right;\">\n",
       "      <th></th>\n",
       "      <th>Competition</th>\n",
       "      <th>Localscore</th>\n",
       "      <th>Roadscore</th>\n",
       "      <th>Plusminus</th>\n",
       "      <th>Ganador</th>\n",
       "    </tr>\n",
       "  </thead>\n",
       "  <tbody>\n",
       "    <tr>\n",
       "      <th>5</th>\n",
       "      <td>Eurocup</td>\n",
       "      <td>85</td>\n",
       "      <td>91.0</td>\n",
       "      <td>-6.0</td>\n",
       "      <td>Visitante</td>\n",
       "    </tr>\n",
       "  </tbody>\n",
       "</table>\n",
       "</div>"
      ],
      "text/plain": [
       "  Competition  Localscore  Roadscore  Plusminus    Ganador\n",
       "5     Eurocup          85       91.0       -6.0  Visitante"
      ]
     },
     "execution_count": 25,
     "metadata": {},
     "output_type": "execute_result"
    }
   ],
   "source": [
    "# Your code here: \n",
    "comp_ec=ecteams[[\"Competition\", \"Localscore\", \"Roadscore\", \"Plusminus\", \"Ganador\"]]\n",
    "comp_ec.sample()"
   ]
  },
  {
   "cell_type": "code",
   "execution_count": 26,
   "metadata": {
    "tags": []
   },
   "outputs": [
    {
     "data": {
      "text/html": [
       "<div>\n",
       "<style scoped>\n",
       "    .dataframe tbody tr th:only-of-type {\n",
       "        vertical-align: middle;\n",
       "    }\n",
       "\n",
       "    .dataframe tbody tr th {\n",
       "        vertical-align: top;\n",
       "    }\n",
       "\n",
       "    .dataframe thead th {\n",
       "        text-align: right;\n",
       "    }\n",
       "</style>\n",
       "<table border=\"1\" class=\"dataframe\">\n",
       "  <thead>\n",
       "    <tr style=\"text-align: right;\">\n",
       "      <th></th>\n",
       "      <th>Competition</th>\n",
       "      <th>Localscore</th>\n",
       "      <th>Roadscore</th>\n",
       "      <th>Plusminus</th>\n",
       "      <th>Ganador</th>\n",
       "    </tr>\n",
       "  </thead>\n",
       "  <tbody>\n",
       "    <tr>\n",
       "      <th>181</th>\n",
       "      <td>Euroleague</td>\n",
       "      <td>88</td>\n",
       "      <td>63</td>\n",
       "      <td>25</td>\n",
       "      <td>Local</td>\n",
       "    </tr>\n",
       "  </tbody>\n",
       "</table>\n",
       "</div>"
      ],
      "text/plain": [
       "    Competition  Localscore  Roadscore  Plusminus Ganador\n",
       "181  Euroleague          88         63         25   Local"
      ]
     },
     "execution_count": 26,
     "metadata": {},
     "output_type": "execute_result"
    }
   ],
   "source": [
    "comp_el=elteams[[\"Competition\", \"Localscore\", \"Roadscore\", \"Plusminus\", \"Ganador\"]]\n",
    "comp_el.sample()"
   ]
  },
  {
   "cell_type": "markdown",
   "metadata": {},
   "source": [
    "Antes de concatenar, hagámosle una limpieza a comp_el. Duplicados y null values."
   ]
  },
  {
   "cell_type": "code",
   "execution_count": 27,
   "metadata": {
    "tags": []
   },
   "outputs": [
    {
     "data": {
      "text/plain": [
       "Competition    0\n",
       "Localscore     0\n",
       "Roadscore      0\n",
       "Plusminus      0\n",
       "Ganador        0\n",
       "dtype: int64"
      ]
     },
     "execution_count": 27,
     "metadata": {},
     "output_type": "execute_result"
    }
   ],
   "source": [
    "comp_el.isna().sum()"
   ]
  },
  {
   "cell_type": "code",
   "execution_count": 28,
   "metadata": {
    "tags": []
   },
   "outputs": [],
   "source": [
    "comp_el = comp_el.drop_duplicates().copy() #Tuve que poner el .copy() porque daba error. Creo que por seguridad para que no modifique el original o algo así"
   ]
  },
  {
   "cell_type": "markdown",
   "metadata": {},
   "source": [
    "Time to concatenate them both! Create a concat of both Dfs, called `competition`"
   ]
  },
  {
   "cell_type": "code",
   "execution_count": 29,
   "metadata": {
    "tags": []
   },
   "outputs": [
    {
     "data": {
      "text/html": [
       "<div>\n",
       "<style scoped>\n",
       "    .dataframe tbody tr th:only-of-type {\n",
       "        vertical-align: middle;\n",
       "    }\n",
       "\n",
       "    .dataframe tbody tr th {\n",
       "        vertical-align: top;\n",
       "    }\n",
       "\n",
       "    .dataframe thead th {\n",
       "        text-align: right;\n",
       "    }\n",
       "</style>\n",
       "<table border=\"1\" class=\"dataframe\">\n",
       "  <thead>\n",
       "    <tr style=\"text-align: right;\">\n",
       "      <th></th>\n",
       "      <th>Competition</th>\n",
       "      <th>Localscore</th>\n",
       "      <th>Roadscore</th>\n",
       "      <th>Plusminus</th>\n",
       "      <th>Ganador</th>\n",
       "    </tr>\n",
       "  </thead>\n",
       "  <tbody>\n",
       "    <tr>\n",
       "      <th>0</th>\n",
       "      <td>Eurocup</td>\n",
       "      <td>111</td>\n",
       "      <td>113.0</td>\n",
       "      <td>-2.0</td>\n",
       "      <td>Visitante</td>\n",
       "    </tr>\n",
       "    <tr>\n",
       "      <th>1</th>\n",
       "      <td>Eurocup</td>\n",
       "      <td>78</td>\n",
       "      <td>97.0</td>\n",
       "      <td>-19.0</td>\n",
       "      <td>Visitante</td>\n",
       "    </tr>\n",
       "    <tr>\n",
       "      <th>2</th>\n",
       "      <td>Eurocup</td>\n",
       "      <td>66</td>\n",
       "      <td>86.0</td>\n",
       "      <td>-20.0</td>\n",
       "      <td>Visitante</td>\n",
       "    </tr>\n",
       "    <tr>\n",
       "      <th>3</th>\n",
       "      <td>Eurocup</td>\n",
       "      <td>85</td>\n",
       "      <td>92.0</td>\n",
       "      <td>-7.0</td>\n",
       "      <td>Visitante</td>\n",
       "    </tr>\n",
       "    <tr>\n",
       "      <th>4</th>\n",
       "      <td>Eurocup</td>\n",
       "      <td>64</td>\n",
       "      <td>68.0</td>\n",
       "      <td>-4.0</td>\n",
       "      <td>Visitante</td>\n",
       "    </tr>\n",
       "    <tr>\n",
       "      <th>...</th>\n",
       "      <td>...</td>\n",
       "      <td>...</td>\n",
       "      <td>...</td>\n",
       "      <td>...</td>\n",
       "      <td>...</td>\n",
       "    </tr>\n",
       "    <tr>\n",
       "      <th>368</th>\n",
       "      <td>Euroleague</td>\n",
       "      <td>92</td>\n",
       "      <td>82.0</td>\n",
       "      <td>10.0</td>\n",
       "      <td>Local</td>\n",
       "    </tr>\n",
       "    <tr>\n",
       "      <th>369</th>\n",
       "      <td>Euroleague</td>\n",
       "      <td>72</td>\n",
       "      <td>76.0</td>\n",
       "      <td>-4.0</td>\n",
       "      <td>Visitante</td>\n",
       "    </tr>\n",
       "    <tr>\n",
       "      <th>370</th>\n",
       "      <td>Euroleague</td>\n",
       "      <td>79</td>\n",
       "      <td>73.0</td>\n",
       "      <td>6.0</td>\n",
       "      <td>Local</td>\n",
       "    </tr>\n",
       "    <tr>\n",
       "      <th>371</th>\n",
       "      <td>Euroleague</td>\n",
       "      <td>88</td>\n",
       "      <td>84.0</td>\n",
       "      <td>4.0</td>\n",
       "      <td>Local</td>\n",
       "    </tr>\n",
       "    <tr>\n",
       "      <th>372</th>\n",
       "      <td>Euroleague</td>\n",
       "      <td>76</td>\n",
       "      <td>69.0</td>\n",
       "      <td>7.0</td>\n",
       "      <td>Local</td>\n",
       "    </tr>\n",
       "  </tbody>\n",
       "</table>\n",
       "<p>373 rows × 5 columns</p>\n",
       "</div>"
      ],
      "text/plain": [
       "    Competition  Localscore  Roadscore  Plusminus    Ganador\n",
       "0       Eurocup         111      113.0       -2.0  Visitante\n",
       "1       Eurocup          78       97.0      -19.0  Visitante\n",
       "2       Eurocup          66       86.0      -20.0  Visitante\n",
       "3       Eurocup          85       92.0       -7.0  Visitante\n",
       "4       Eurocup          64       68.0       -4.0  Visitante\n",
       "..          ...         ...        ...        ...        ...\n",
       "368  Euroleague          92       82.0       10.0      Local\n",
       "369  Euroleague          72       76.0       -4.0  Visitante\n",
       "370  Euroleague          79       73.0        6.0      Local\n",
       "371  Euroleague          88       84.0        4.0      Local\n",
       "372  Euroleague          76       69.0        7.0      Local\n",
       "\n",
       "[373 rows x 5 columns]"
      ]
     },
     "execution_count": 29,
     "metadata": {},
     "output_type": "execute_result"
    }
   ],
   "source": [
    "competition = pd.concat([comp_ec, comp_el], ignore_index=True)\n",
    "competition"
   ]
  },
  {
   "cell_type": "markdown",
   "metadata": {},
   "source": [
    "## Well done!\n",
    "\n",
    "Now we have the combination of both competitions in the same dataframe. Is time for the questions you must answer: "
   ]
  },
  {
   "cell_type": "markdown",
   "metadata": {},
   "source": [
    "1. How many matches have been in each competition?\n",
    "2. What are the maximum points that a local team has scored per competition? And the road team as well. \n",
    "3. Do the same operations with the average points (per competition)\n",
    "4. Can you tell me the maximum difference that has been in a match, splitted by competition? \n",
    "    - Careful: The Plusminus is both positive and negative, being negative that the Road Team has achieved the Victory. To have the absolute, create a new Column named Absolut_Plusminus. Remember: np.where is life!\n",
    "5. Also grouped by competition, give me the number of victories of the Locals and the Visitors"
   ]
  },
  {
   "cell_type": "code",
   "execution_count": 30,
   "metadata": {
    "tags": []
   },
   "outputs": [
    {
     "name": "stdout",
     "output_type": "stream",
     "text": [
      "Se jugaron 170 partidos en la Eurocup y 203 en la Euroleague\n"
     ]
    }
   ],
   "source": [
    "# 1\n",
    "cantidad_ec=len(comp_ec)\n",
    "cantidad_el=len(comp_el)\n",
    "print(f\"Se jugaron {cantidad_ec} partidos en la Eurocup y {cantidad_el} en la Euroleague\")"
   ]
  },
  {
   "cell_type": "code",
   "execution_count": 43,
   "metadata": {
    "tags": []
   },
   "outputs": [
    {
     "data": {
      "text/html": [
       "<div>\n",
       "<style scoped>\n",
       "    .dataframe tbody tr th:only-of-type {\n",
       "        vertical-align: middle;\n",
       "    }\n",
       "\n",
       "    .dataframe tbody tr th {\n",
       "        vertical-align: top;\n",
       "    }\n",
       "\n",
       "    .dataframe thead th {\n",
       "        text-align: right;\n",
       "    }\n",
       "</style>\n",
       "<table border=\"1\" class=\"dataframe\">\n",
       "  <thead>\n",
       "    <tr style=\"text-align: right;\">\n",
       "      <th></th>\n",
       "      <th>Localscore</th>\n",
       "      <th>Roadscore</th>\n",
       "    </tr>\n",
       "    <tr>\n",
       "      <th>Competition</th>\n",
       "      <th></th>\n",
       "      <th></th>\n",
       "    </tr>\n",
       "  </thead>\n",
       "  <tbody>\n",
       "    <tr>\n",
       "      <th>Eurocup</th>\n",
       "      <td>120</td>\n",
       "      <td>114.0</td>\n",
       "    </tr>\n",
       "    <tr>\n",
       "      <th>Euroleague</th>\n",
       "      <td>130</td>\n",
       "      <td>126.0</td>\n",
       "    </tr>\n",
       "  </tbody>\n",
       "</table>\n",
       "</div>"
      ],
      "text/plain": [
       "             Localscore  Roadscore\n",
       "Competition                       \n",
       "Eurocup             120      114.0\n",
       "Euroleague          130      126.0"
      ]
     },
     "execution_count": 43,
     "metadata": {},
     "output_type": "execute_result"
    }
   ],
   "source": [
    "#2\n",
    "maximum_points=competition.groupby(\"Competition\")[[\"Localscore\",\"Roadscore\"]].max()\n",
    "maximum_points"
   ]
  },
  {
   "cell_type": "code",
   "execution_count": 50,
   "metadata": {
    "tags": []
   },
   "outputs": [
    {
     "data": {
      "text/html": [
       "<div>\n",
       "<style scoped>\n",
       "    .dataframe tbody tr th:only-of-type {\n",
       "        vertical-align: middle;\n",
       "    }\n",
       "\n",
       "    .dataframe tbody tr th {\n",
       "        vertical-align: top;\n",
       "    }\n",
       "\n",
       "    .dataframe thead th {\n",
       "        text-align: right;\n",
       "    }\n",
       "</style>\n",
       "<table border=\"1\" class=\"dataframe\">\n",
       "  <thead>\n",
       "    <tr style=\"text-align: right;\">\n",
       "      <th></th>\n",
       "      <th>Localscore</th>\n",
       "      <th>Roadscore</th>\n",
       "    </tr>\n",
       "    <tr>\n",
       "      <th>Competition</th>\n",
       "      <th></th>\n",
       "      <th></th>\n",
       "    </tr>\n",
       "  </thead>\n",
       "  <tbody>\n",
       "    <tr>\n",
       "      <th>Eurocup</th>\n",
       "      <td>85.235294</td>\n",
       "      <td>83.958824</td>\n",
       "    </tr>\n",
       "    <tr>\n",
       "      <th>Euroleague</th>\n",
       "      <td>83.162562</td>\n",
       "      <td>79.389163</td>\n",
       "    </tr>\n",
       "  </tbody>\n",
       "</table>\n",
       "</div>"
      ],
      "text/plain": [
       "             Localscore  Roadscore\n",
       "Competition                       \n",
       "Eurocup       85.235294  83.958824\n",
       "Euroleague    83.162562  79.389163"
      ]
     },
     "execution_count": 50,
     "metadata": {},
     "output_type": "execute_result"
    }
   ],
   "source": [
    "#3\n",
    "average_points=competition.groupby(\"Competition\")[[\"Localscore\",\"Roadscore\"]].mean()\n",
    "average_points"
   ]
  },
  {
   "cell_type": "code",
   "execution_count": 36,
   "metadata": {},
   "outputs": [
    {
     "name": "stdout",
     "output_type": "stream",
     "text": [
      "       Localscore   Roadscore   Plusminus  Absolut_Plusminus\n",
      "count  373.000000  373.000000  373.000000         373.000000\n",
      "mean    84.107239   81.471850    2.635389          10.957105\n",
      "std     11.948333   11.663397   13.354393           8.057474\n",
      "min     55.000000   52.000000  -39.000000           1.000000\n",
      "25%     76.000000   73.000000   -6.000000           5.000000\n",
      "50%     84.000000   81.000000    4.000000           9.000000\n",
      "75%     91.000000   89.000000   11.000000          15.000000\n",
      "max    130.000000  126.000000   39.000000          39.000000\n"
     ]
    }
   ],
   "source": [
    "# 4\n",
    "competition[\"Absolut_Plusminus\"] = np.where(competition[\"Plusminus\"]<0,-competition[\"Plusminus\"],competition[\"Plusminus\"])\n",
    "print(competition.describe()) #Acá se puede ver que el min de Absolut Plusminus es >0\n"
   ]
  },
  {
   "cell_type": "code",
   "execution_count": 37,
   "metadata": {
    "tags": []
   },
   "outputs": [
    {
     "data": {
      "text/plain": [
       "Competition\n",
       "Eurocup       39.0\n",
       "Euroleague    39.0\n",
       "Name: Absolut_Plusminus, dtype: float64"
      ]
     },
     "execution_count": 37,
     "metadata": {},
     "output_type": "execute_result"
    }
   ],
   "source": [
    "diferencias=competition.groupby(\"Competition\")[\"Absolut_Plusminus\"].max()\n",
    "diferencias"
   ]
  },
  {
   "cell_type": "code",
   "execution_count": 38,
   "metadata": {
    "tags": []
   },
   "outputs": [
    {
     "data": {
      "text/html": [
       "<div>\n",
       "<style scoped>\n",
       "    .dataframe tbody tr th:only-of-type {\n",
       "        vertical-align: middle;\n",
       "    }\n",
       "\n",
       "    .dataframe tbody tr th {\n",
       "        vertical-align: top;\n",
       "    }\n",
       "\n",
       "    .dataframe thead th {\n",
       "        text-align: right;\n",
       "    }\n",
       "</style>\n",
       "<table border=\"1\" class=\"dataframe\">\n",
       "  <thead>\n",
       "    <tr style=\"text-align: right;\">\n",
       "      <th></th>\n",
       "      <th>Victorias Locales</th>\n",
       "      <th>Victorias Visitantes</th>\n",
       "    </tr>\n",
       "    <tr>\n",
       "      <th>Competition</th>\n",
       "      <th></th>\n",
       "      <th></th>\n",
       "    </tr>\n",
       "  </thead>\n",
       "  <tbody>\n",
       "    <tr>\n",
       "      <th>Eurocup</th>\n",
       "      <td>90</td>\n",
       "      <td>80</td>\n",
       "    </tr>\n",
       "    <tr>\n",
       "      <th>Euroleague</th>\n",
       "      <td>132</td>\n",
       "      <td>71</td>\n",
       "    </tr>\n",
       "  </tbody>\n",
       "</table>\n",
       "</div>"
      ],
      "text/plain": [
       "             Victorias Locales  Victorias Visitantes\n",
       "Competition                                         \n",
       "Eurocup                     90                    80\n",
       "Euroleague                 132                    71"
      ]
     },
     "execution_count": 38,
     "metadata": {},
     "output_type": "execute_result"
    }
   ],
   "source": [
    "5#\n",
    "competition[\"Victorias Locales\"] = np.where(competition[\"Ganador\"] == \"Local\", 1, 0)\n",
    "competition[\"Victorias Visitantes\"] = np.where(competition[\"Ganador\"] == \"Visitante\", 1, 0)\n",
    "victorias=competition.groupby(\"Competition\")[[\"Victorias Locales\", \"Victorias Visitantes\"]].sum()\n",
    "victorias"
   ]
  },
  {
   "cell_type": "code",
   "execution_count": 39,
   "metadata": {},
   "outputs": [],
   "source": [
    "competition.to_csv('competition_data.csv', index=False) #Para el LAB siguiente (visualization)"
   ]
  }
 ],
 "metadata": {
  "kernelspec": {
   "display_name": "Python 3 (ipykernel)",
   "language": "python",
   "name": "python3"
  },
  "language_info": {
   "codemirror_mode": {
    "name": "ipython",
    "version": 3
   },
   "file_extension": ".py",
   "mimetype": "text/x-python",
   "name": "python",
   "nbconvert_exporter": "python",
   "pygments_lexer": "ipython3",
   "version": "3.11.5"
  }
 },
 "nbformat": 4,
 "nbformat_minor": 4
}
