{
 "cells": [
  {
   "cell_type": "markdown",
   "id": "d6280529-4664-4161-abfe-61f8297f6aeb",
   "metadata": {},
   "source": [
    "## Part 1"
   ]
  },
  {
   "cell_type": "markdown",
   "id": "0e423c66-5a99-4bd9-b47e-8cd6de1bd716",
   "metadata": {},
   "source": [
    "**Null Hypothesis (Ho)**: \n",
    "\n",
    "No hay diferencia en la media de los Etching Rates para diferentes niveles de Power de los plasma beams."
   ]
  },
  {
   "cell_type": "markdown",
   "id": "87601563-b33a-4210-a9b6-2f14165ea4a8",
   "metadata": {},
   "source": [
    "**Alternate Hypothesis:** \n",
    "\n",
    "Hay diferencia significativa en la media de los Etching Rates para los diferentes niveles de Power."
   ]
  },
  {
   "cell_type": "markdown",
   "id": "98528925-5e70-40a6-80d0-ae8c5ca5a0b5",
   "metadata": {},
   "source": [
    "**What is the significance level?** \n",
    "\n",
    "Se elige α=0.05. Esto implica un 5% de riesgo de rechazar la hipótesis nula cuando esta es cierta."
   ]
  },
  {
   "cell_type": "markdown",
   "id": "e77b4e61-f80c-4b66-a439-d988744bb197",
   "metadata": {},
   "source": [
    "**What are the degrees of freedom of model, error terms, and total DoF?**\n",
    "\n",
    "Dof_Model=2\n",
    "\n",
    "DoF_Error=12\n",
    "\n",
    "Dof_Total=14"
   ]
  },
  {
   "cell_type": "markdown",
   "id": "609f088f-3b0a-4e3e-995d-6be7bbaaee76",
   "metadata": {},
   "source": [
    "## Part 2"
   ]
  },
  {
   "cell_type": "code",
   "execution_count": 1,
   "id": "d775d8b1-160d-459c-9228-38a358543795",
   "metadata": {},
   "outputs": [],
   "source": [
    "import statsmodels.api as sm\n",
    "from statsmodels.formula.api import ols\n",
    "import pandas as pd"
   ]
  },
  {
   "cell_type": "code",
   "execution_count": 2,
   "id": "b2328104-983e-4d3d-9c42-bdbc8fa438bf",
   "metadata": {},
   "outputs": [
    {
     "data": {
      "text/html": [
       "<div>\n",
       "<style scoped>\n",
       "    .dataframe tbody tr th:only-of-type {\n",
       "        vertical-align: middle;\n",
       "    }\n",
       "\n",
       "    .dataframe tbody tr th {\n",
       "        vertical-align: top;\n",
       "    }\n",
       "\n",
       "    .dataframe thead th {\n",
       "        text-align: right;\n",
       "    }\n",
       "</style>\n",
       "<table border=\"1\" class=\"dataframe\">\n",
       "  <thead>\n",
       "    <tr style=\"text-align: right;\">\n",
       "      <th></th>\n",
       "      <th>Power</th>\n",
       "      <th>Etching Rate</th>\n",
       "    </tr>\n",
       "  </thead>\n",
       "  <tbody>\n",
       "    <tr>\n",
       "      <th>0</th>\n",
       "      <td>160 W</td>\n",
       "      <td>5.43</td>\n",
       "    </tr>\n",
       "    <tr>\n",
       "      <th>1</th>\n",
       "      <td>180 W</td>\n",
       "      <td>6.24</td>\n",
       "    </tr>\n",
       "    <tr>\n",
       "      <th>2</th>\n",
       "      <td>200 W</td>\n",
       "      <td>8.79</td>\n",
       "    </tr>\n",
       "    <tr>\n",
       "      <th>3</th>\n",
       "      <td>160 W</td>\n",
       "      <td>5.71</td>\n",
       "    </tr>\n",
       "    <tr>\n",
       "      <th>4</th>\n",
       "      <td>180 W</td>\n",
       "      <td>6.71</td>\n",
       "    </tr>\n",
       "    <tr>\n",
       "      <th>5</th>\n",
       "      <td>200 W</td>\n",
       "      <td>9.20</td>\n",
       "    </tr>\n",
       "    <tr>\n",
       "      <th>6</th>\n",
       "      <td>160 W</td>\n",
       "      <td>6.22</td>\n",
       "    </tr>\n",
       "    <tr>\n",
       "      <th>7</th>\n",
       "      <td>180 W</td>\n",
       "      <td>5.98</td>\n",
       "    </tr>\n",
       "    <tr>\n",
       "      <th>8</th>\n",
       "      <td>200 W</td>\n",
       "      <td>7.90</td>\n",
       "    </tr>\n",
       "    <tr>\n",
       "      <th>9</th>\n",
       "      <td>160 W</td>\n",
       "      <td>6.01</td>\n",
       "    </tr>\n",
       "    <tr>\n",
       "      <th>10</th>\n",
       "      <td>180 W</td>\n",
       "      <td>5.66</td>\n",
       "    </tr>\n",
       "    <tr>\n",
       "      <th>11</th>\n",
       "      <td>200 W</td>\n",
       "      <td>8.15</td>\n",
       "    </tr>\n",
       "    <tr>\n",
       "      <th>12</th>\n",
       "      <td>160 W</td>\n",
       "      <td>5.59</td>\n",
       "    </tr>\n",
       "    <tr>\n",
       "      <th>13</th>\n",
       "      <td>180 W</td>\n",
       "      <td>6.60</td>\n",
       "    </tr>\n",
       "    <tr>\n",
       "      <th>14</th>\n",
       "      <td>200 W</td>\n",
       "      <td>7.55</td>\n",
       "    </tr>\n",
       "  </tbody>\n",
       "</table>\n",
       "</div>"
      ],
      "text/plain": [
       "   Power   Etching Rate\n",
       "0   160 W          5.43\n",
       "1   180 W          6.24\n",
       "2   200 W          8.79\n",
       "3   160 W          5.71\n",
       "4   180 W          6.71\n",
       "5   200 W          9.20\n",
       "6   160 W          6.22\n",
       "7   180 W          5.98\n",
       "8   200 W          7.90\n",
       "9   160 W          6.01\n",
       "10  180 W          5.66\n",
       "11  200 W          8.15\n",
       "12  160 W          5.59\n",
       "13  180 W          6.60\n",
       "14  200 W          7.55"
      ]
     },
     "execution_count": 2,
     "metadata": {},
     "output_type": "execute_result"
    }
   ],
   "source": [
    "data=pd.read_excel('data/anova_lab_data.xlsx', sheet_name='data_collected')\n",
    "data"
   ]
  },
  {
   "cell_type": "code",
   "execution_count": 3,
   "id": "591ab307-ef5a-4d01-a37f-7ad335c3747d",
   "metadata": {},
   "outputs": [
    {
     "data": {
      "text/plain": [
       "Index(['Power ', 'Etching Rate'], dtype='object')"
      ]
     },
     "execution_count": 3,
     "metadata": {},
     "output_type": "execute_result"
    }
   ],
   "source": [
    "data.columns"
   ]
  },
  {
   "cell_type": "markdown",
   "id": "4105244c-194b-422e-b50a-190b8688749f",
   "metadata": {},
   "source": [
    "Renombramos las columnas para que funcione el modelo"
   ]
  },
  {
   "cell_type": "code",
   "execution_count": 4,
   "id": "dc936fbd-d7fa-41c0-8dd5-240e3b9c4b0d",
   "metadata": {},
   "outputs": [
    {
     "data": {
      "text/plain": [
       "Index(['Power', 'Etching_Rate'], dtype='object')"
      ]
     },
     "execution_count": 4,
     "metadata": {},
     "output_type": "execute_result"
    }
   ],
   "source": [
    "data.rename(columns={'Power ':'Power', 'Etching Rate':'Etching_Rate'}, inplace=True)\n",
    "data.columns"
   ]
  },
  {
   "cell_type": "code",
   "execution_count": 5,
   "id": "8a04368c-70a8-4b1a-b3f2-fd2b8023a154",
   "metadata": {},
   "outputs": [
    {
     "name": "stdout",
     "output_type": "stream",
     "text": [
      "            df     sum_sq   mean_sq          F    PR(>F)\n",
      "C(Power)   2.0  18.176653  9.088327  36.878955  0.000008\n",
      "Residual  12.0   2.957240  0.246437        NaN       NaN\n"
     ]
    }
   ],
   "source": [
    "model = ols('Etching_Rate ~ C(Power)',data=data).fit()\n",
    "table = sm.stats.anova_lm(model)\n",
    "print(table)"
   ]
  },
  {
   "cell_type": "markdown",
   "id": "2f7561c6-3cd4-4980-94a4-de769d26a102",
   "metadata": {},
   "source": [
    "### Conclusions"
   ]
  },
  {
   "cell_type": "markdown",
   "id": "86d51328-071b-473a-a0cc-120e08fc8593",
   "metadata": {},
   "source": [
    "Los resultados del ANOVA muestran un p-valor<α=0.05. Esto implica que se puede rechazar la Hipótesis Nula (Ho), es decir que\n",
    "hay diferencia significativa en la media de los Etching Rates para los diferentes niveles de Power."
   ]
  },
  {
   "cell_type": "markdown",
   "id": "a6d8c05d-85a3-46c3-a8db-c9905b31fa95",
   "metadata": {},
   "source": [
    "El F_estadístico que dio el modelo es ~ 36.88. Si vamos a la distribution table, utilizando el F_estadístico, el α y los grados de libertad, se llega a que el F_crítico es de 3.89 aproximadamente."
   ]
  },
  {
   "cell_type": "markdown",
   "id": "fcb57628-090b-4b9a-9cf4-9c28ddae336d",
   "metadata": {},
   "source": [
    "Por otra parte:\n",
    "\n",
    "F_estadístico > F_crítico --> Nuevamente se rechaza Ho."
   ]
  },
  {
   "cell_type": "markdown",
   "id": "05138298-7512-473d-8df5-25e115c5bf01",
   "metadata": {},
   "source": [
    "**Resumen:**\n",
    "- α=0.05\n",
    "- p-valor<α\n",
    "- Grados de Libertad:\n",
    "  - Dof_Model=2            \n",
    "  - DoF_Error=12\n",
    "  - Dof_Total=14\n",
    "- F_estadístico=36.88\n",
    "- F_crítico=3.89"
   ]
  }
 ],
 "metadata": {
  "kernelspec": {
   "display_name": "Python 3 (ipykernel)",
   "language": "python",
   "name": "python3"
  },
  "language_info": {
   "codemirror_mode": {
    "name": "ipython",
    "version": 3
   },
   "file_extension": ".py",
   "mimetype": "text/x-python",
   "name": "python",
   "nbconvert_exporter": "python",
   "pygments_lexer": "ipython3",
   "version": "3.11.7"
  }
 },
 "nbformat": 4,
 "nbformat_minor": 5
}
