{
 "cells": [
  {
   "cell_type": "markdown",
   "id": "62c53925-9533-476a-8d97-01937d652d57",
   "metadata": {},
   "source": [
    "### Lab Python 5-1 | Customer Analysis Round 1"
   ]
  },
  {
   "cell_type": "code",
   "execution_count": 1,
   "id": "26c950bf-f7e7-41ff-96cd-3359121e249c",
   "metadata": {},
   "outputs": [],
   "source": [
    "import pandas as pd\n",
    "import numpy as np"
   ]
  },
  {
   "cell_type": "code",
   "execution_count": 2,
   "id": "3ac6d579-50f7-4854-89f6-2194a7215008",
   "metadata": {},
   "outputs": [],
   "source": [
    "#Read the three files into python as dataframes\n",
    "df1=pd.read_csv(\"Data/file1.csv\")\n",
    "df2=pd.read_csv(\"Data/file2.csv\")\n",
    "df3=pd.read_csv(\"Data/file3.csv\")"
   ]
  },
  {
   "cell_type": "code",
   "execution_count": 3,
   "id": "9bacb88a-9c16-42f4-9950-c6ea38141ff5",
   "metadata": {},
   "outputs": [
    {
     "name": "stdout",
     "output_type": "stream",
     "text": [
      "(4008, 11)\n",
      "(996, 11)\n",
      "(7070, 11)\n"
     ]
    }
   ],
   "source": [
    "#Show the DataFrame's shape\n",
    "print(df1.shape)\n",
    "print(df2.shape)\n",
    "print(df3.shape)"
   ]
  },
  {
   "cell_type": "code",
   "execution_count": 4,
   "id": "fd2ddc82-24ad-4cfe-8cad-6af466b65ae1",
   "metadata": {},
   "outputs": [
    {
     "data": {
      "text/html": [
       "<div>\n",
       "<style scoped>\n",
       "    .dataframe tbody tr th:only-of-type {\n",
       "        vertical-align: middle;\n",
       "    }\n",
       "\n",
       "    .dataframe tbody tr th {\n",
       "        vertical-align: top;\n",
       "    }\n",
       "\n",
       "    .dataframe thead th {\n",
       "        text-align: right;\n",
       "    }\n",
       "</style>\n",
       "<table border=\"1\" class=\"dataframe\">\n",
       "  <thead>\n",
       "    <tr style=\"text-align: right;\">\n",
       "      <th></th>\n",
       "      <th>Customer</th>\n",
       "      <th>ST</th>\n",
       "      <th>GENDER</th>\n",
       "      <th>Education</th>\n",
       "      <th>Customer Lifetime Value</th>\n",
       "      <th>Income</th>\n",
       "      <th>Monthly Premium Auto</th>\n",
       "      <th>Number of Open Complaints</th>\n",
       "      <th>Policy Type</th>\n",
       "      <th>Vehicle Class</th>\n",
       "      <th>Total Claim Amount</th>\n",
       "    </tr>\n",
       "  </thead>\n",
       "  <tbody>\n",
       "    <tr>\n",
       "      <th>1596</th>\n",
       "      <td>NaN</td>\n",
       "      <td>NaN</td>\n",
       "      <td>NaN</td>\n",
       "      <td>NaN</td>\n",
       "      <td>NaN</td>\n",
       "      <td>NaN</td>\n",
       "      <td>NaN</td>\n",
       "      <td>NaN</td>\n",
       "      <td>NaN</td>\n",
       "      <td>NaN</td>\n",
       "      <td>NaN</td>\n",
       "    </tr>\n",
       "  </tbody>\n",
       "</table>\n",
       "</div>"
      ],
      "text/plain": [
       "     Customer   ST GENDER Education Customer Lifetime Value  Income  \\\n",
       "1596      NaN  NaN    NaN       NaN                     NaN     NaN   \n",
       "\n",
       "      Monthly Premium Auto Number of Open Complaints Policy Type  \\\n",
       "1596                   NaN                       NaN         NaN   \n",
       "\n",
       "     Vehicle Class  Total Claim Amount  \n",
       "1596           NaN                 NaN  "
      ]
     },
     "execution_count": 4,
     "metadata": {},
     "output_type": "execute_result"
    }
   ],
   "source": [
    "df1.sample()"
   ]
  },
  {
   "cell_type": "code",
   "execution_count": 5,
   "id": "e0485dfd-b728-4e27-a95a-cfd78f85e2f5",
   "metadata": {},
   "outputs": [],
   "source": [
    "#Standardize header names\n",
    "#Paso los títulos de las columnas a minúsculas y cambio los espacios por barras bajas a modo de respetar el PEP 8 de Python.\n",
    "df1.columns=df1.columns.str.lower().str.replace(\" \", \"_\")\n",
    "df2.columns=df2.columns.str.lower().str.replace(\" \", \"_\")\n",
    "df3.columns=df3.columns.str.lower().str.replace(\" \", \"_\")"
   ]
  },
  {
   "cell_type": "code",
   "execution_count": 6,
   "id": "681ef6d7-78b9-47c8-af19-abdfd77a687d",
   "metadata": {},
   "outputs": [
    {
     "data": {
      "text/html": [
       "<div>\n",
       "<style scoped>\n",
       "    .dataframe tbody tr th:only-of-type {\n",
       "        vertical-align: middle;\n",
       "    }\n",
       "\n",
       "    .dataframe tbody tr th {\n",
       "        vertical-align: top;\n",
       "    }\n",
       "\n",
       "    .dataframe thead th {\n",
       "        text-align: right;\n",
       "    }\n",
       "</style>\n",
       "<table border=\"1\" class=\"dataframe\">\n",
       "  <thead>\n",
       "    <tr style=\"text-align: right;\">\n",
       "      <th></th>\n",
       "      <th>customer</th>\n",
       "      <th>st</th>\n",
       "      <th>gender</th>\n",
       "      <th>education</th>\n",
       "      <th>customer_lifetime_value</th>\n",
       "      <th>income</th>\n",
       "      <th>monthly_premium_auto</th>\n",
       "      <th>number_of_open_complaints</th>\n",
       "      <th>policy_type</th>\n",
       "      <th>vehicle_class</th>\n",
       "      <th>total_claim_amount</th>\n",
       "    </tr>\n",
       "  </thead>\n",
       "  <tbody>\n",
       "    <tr>\n",
       "      <th>2665</th>\n",
       "      <td>NaN</td>\n",
       "      <td>NaN</td>\n",
       "      <td>NaN</td>\n",
       "      <td>NaN</td>\n",
       "      <td>NaN</td>\n",
       "      <td>NaN</td>\n",
       "      <td>NaN</td>\n",
       "      <td>NaN</td>\n",
       "      <td>NaN</td>\n",
       "      <td>NaN</td>\n",
       "      <td>NaN</td>\n",
       "    </tr>\n",
       "  </tbody>\n",
       "</table>\n",
       "</div>"
      ],
      "text/plain": [
       "     customer   st gender education customer_lifetime_value  income  \\\n",
       "2665      NaN  NaN    NaN       NaN                     NaN     NaN   \n",
       "\n",
       "      monthly_premium_auto number_of_open_complaints policy_type  \\\n",
       "2665                   NaN                       NaN         NaN   \n",
       "\n",
       "     vehicle_class  total_claim_amount  \n",
       "2665           NaN                 NaN  "
      ]
     },
     "execution_count": 6,
     "metadata": {},
     "output_type": "execute_result"
    }
   ],
   "source": [
    "df1.sample()"
   ]
  },
  {
   "cell_type": "code",
   "execution_count": 7,
   "id": "d3f1f8fb-08e6-4ba2-905c-8a587682e0ad",
   "metadata": {},
   "outputs": [],
   "source": [
    "df1.rename(columns={\"st\":\"state\"}, inplace=True)\n",
    "df2.rename(columns={\"st\":\"state\"}, inplace=True)\n",
    "# df3 ya lo tiene bien."
   ]
  },
  {
   "cell_type": "code",
   "execution_count": 8,
   "id": "1eb78f3a-5ab2-4c9b-b59a-468e3b4c5a8d",
   "metadata": {},
   "outputs": [
    {
     "data": {
      "text/html": [
       "<div>\n",
       "<style scoped>\n",
       "    .dataframe tbody tr th:only-of-type {\n",
       "        vertical-align: middle;\n",
       "    }\n",
       "\n",
       "    .dataframe tbody tr th {\n",
       "        vertical-align: top;\n",
       "    }\n",
       "\n",
       "    .dataframe thead th {\n",
       "        text-align: right;\n",
       "    }\n",
       "</style>\n",
       "<table border=\"1\" class=\"dataframe\">\n",
       "  <thead>\n",
       "    <tr style=\"text-align: right;\">\n",
       "      <th></th>\n",
       "      <th>customer</th>\n",
       "      <th>state</th>\n",
       "      <th>gender</th>\n",
       "      <th>education</th>\n",
       "      <th>customer_lifetime_value</th>\n",
       "      <th>income</th>\n",
       "      <th>monthly_premium_auto</th>\n",
       "      <th>number_of_open_complaints</th>\n",
       "      <th>policy_type</th>\n",
       "      <th>vehicle_class</th>\n",
       "      <th>total_claim_amount</th>\n",
       "    </tr>\n",
       "  </thead>\n",
       "  <tbody>\n",
       "    <tr>\n",
       "      <th>3812</th>\n",
       "      <td>NaN</td>\n",
       "      <td>NaN</td>\n",
       "      <td>NaN</td>\n",
       "      <td>NaN</td>\n",
       "      <td>NaN</td>\n",
       "      <td>NaN</td>\n",
       "      <td>NaN</td>\n",
       "      <td>NaN</td>\n",
       "      <td>NaN</td>\n",
       "      <td>NaN</td>\n",
       "      <td>NaN</td>\n",
       "    </tr>\n",
       "  </tbody>\n",
       "</table>\n",
       "</div>"
      ],
      "text/plain": [
       "     customer state gender education customer_lifetime_value  income  \\\n",
       "3812      NaN   NaN    NaN       NaN                     NaN     NaN   \n",
       "\n",
       "      monthly_premium_auto number_of_open_complaints policy_type  \\\n",
       "3812                   NaN                       NaN         NaN   \n",
       "\n",
       "     vehicle_class  total_claim_amount  \n",
       "3812           NaN                 NaN  "
      ]
     },
     "execution_count": 8,
     "metadata": {},
     "output_type": "execute_result"
    }
   ],
   "source": [
    "df1.sample()"
   ]
  },
  {
   "cell_type": "code",
   "execution_count": 9,
   "id": "9ec3b838-2b3f-4245-986f-613b87da52e3",
   "metadata": {},
   "outputs": [
    {
     "data": {
      "text/plain": [
       "Index(['customer', 'state', 'customer_lifetime_value', 'education', 'gender',\n",
       "       'income', 'monthly_premium_auto', 'number_of_open_complaints',\n",
       "       'policy_type', 'total_claim_amount', 'vehicle_class'],\n",
       "      dtype='object')"
      ]
     },
     "execution_count": 9,
     "metadata": {},
     "output_type": "execute_result"
    }
   ],
   "source": [
    "df3.columns"
   ]
  },
  {
   "cell_type": "code",
   "execution_count": 10,
   "id": "f780639b-133b-4b4b-bc23-db3d25c12a4e",
   "metadata": {},
   "outputs": [
    {
     "name": "stdout",
     "output_type": "stream",
     "text": [
      "Index(['customer', 'state', 'gender', 'education', 'customer_lifetime_value',\n",
      "       'income', 'monthly_premium_auto', 'number_of_open_complaints',\n",
      "       'policy_type', 'vehicle_class', 'total_claim_amount'],\n",
      "      dtype='object')\n",
      "Index(['customer', 'state', 'gender', 'education', 'customer_lifetime_value',\n",
      "       'income', 'monthly_premium_auto', 'number_of_open_complaints',\n",
      "       'policy_type', 'vehicle_class', 'total_claim_amount'],\n",
      "      dtype='object')\n",
      "Index(['customer', 'state', 'gender', 'education', 'customer_lifetime_value',\n",
      "       'income', 'monthly_premium_auto', 'number_of_open_complaints',\n",
      "       'policy_type', 'vehicle_class', 'total_claim_amount'],\n",
      "      dtype='object')\n"
     ]
    }
   ],
   "source": [
    "#Rearrange the columns in each dataframe as needed\n",
    "#Dado que los 3 files tienen las mismas columnas pero en diferentes órdenes, elijo reordenar las columnas de df2 y df3 para que queden como en df1 así después se puede concatenar correctamente.\n",
    "df2=df2[df1.columns]\n",
    "df3=df3[df1.columns]\n",
    "\n",
    "print(df1.columns)\n",
    "print(df2.columns)\n",
    "print(df3.columns)"
   ]
  },
  {
   "cell_type": "code",
   "execution_count": 11,
   "id": "834aeaee-22da-47ba-b9b2-e44d5732ea50",
   "metadata": {},
   "outputs": [
    {
     "data": {
      "text/plain": [
       "True"
      ]
     },
     "execution_count": 11,
     "metadata": {},
     "output_type": "execute_result"
    }
   ],
   "source": [
    "#Expresión booleana para corroborar\n",
    "booleana= df1.columns.equals(df2.columns) and df1.columns.equals(df3.columns)\n",
    "booleana"
   ]
  },
  {
   "cell_type": "markdown",
   "id": "dd18869e-b384-4af2-820c-9a58bdaa100e",
   "metadata": {},
   "source": [
    "Chequeemos si los shapes de los DataFrames luego de todos los cambios siguen siendo iguales a los calculados inicialmente:\n"
   ]
  },
  {
   "cell_type": "code",
   "execution_count": 12,
   "id": "f82df264-a7ec-4db3-87a3-c1ec39601a11",
   "metadata": {},
   "outputs": [
    {
     "data": {
      "text/plain": [
       "(4008, 11)"
      ]
     },
     "execution_count": 12,
     "metadata": {},
     "output_type": "execute_result"
    }
   ],
   "source": [
    "df1.shape"
   ]
  },
  {
   "cell_type": "code",
   "execution_count": 13,
   "id": "a472cd4d-3def-4ce2-9a27-7f5c3abd995b",
   "metadata": {},
   "outputs": [
    {
     "data": {
      "text/plain": [
       "(996, 11)"
      ]
     },
     "execution_count": 13,
     "metadata": {},
     "output_type": "execute_result"
    }
   ],
   "source": [
    "df2.shape"
   ]
  },
  {
   "cell_type": "code",
   "execution_count": 14,
   "id": "08dbaccc-782a-46f0-9b5f-f56cc9270d2f",
   "metadata": {},
   "outputs": [
    {
     "data": {
      "text/plain": [
       "(7070, 11)"
      ]
     },
     "execution_count": 14,
     "metadata": {},
     "output_type": "execute_result"
    }
   ],
   "source": [
    "df3.shape"
   ]
  },
  {
   "cell_type": "code",
   "execution_count": 15,
   "id": "a684ee23-233f-4df2-93f6-d8b6d68eba71",
   "metadata": {},
   "outputs": [
    {
     "name": "stdout",
     "output_type": "stream",
     "text": [
      "✓\n"
     ]
    }
   ],
   "source": [
    "print(\"\\u2713\")"
   ]
  },
  {
   "cell_type": "code",
   "execution_count": 16,
   "id": "a23601a2-be6e-4475-85e2-02064e77c427",
   "metadata": {},
   "outputs": [
    {
     "data": {
      "text/plain": [
       "(12074, 11)"
      ]
     },
     "execution_count": 16,
     "metadata": {},
     "output_type": "execute_result"
    }
   ],
   "source": [
    "# Concatenate the 3 DataFrames\n",
    "los3=pd.concat([df1, df2, df3], axis=0) \n",
    "los3.shape"
   ]
  },
  {
   "cell_type": "code",
   "execution_count": 17,
   "id": "d477b42b-817c-47ae-ba87-8741d6fbcd05",
   "metadata": {},
   "outputs": [
    {
     "data": {
      "text/html": [
       "<div>\n",
       "<style scoped>\n",
       "    .dataframe tbody tr th:only-of-type {\n",
       "        vertical-align: middle;\n",
       "    }\n",
       "\n",
       "    .dataframe tbody tr th {\n",
       "        vertical-align: top;\n",
       "    }\n",
       "\n",
       "    .dataframe thead th {\n",
       "        text-align: right;\n",
       "    }\n",
       "</style>\n",
       "<table border=\"1\" class=\"dataframe\">\n",
       "  <thead>\n",
       "    <tr style=\"text-align: right;\">\n",
       "      <th></th>\n",
       "      <th>customer</th>\n",
       "      <th>state</th>\n",
       "      <th>gender</th>\n",
       "      <th>education</th>\n",
       "      <th>customer_lifetime_value</th>\n",
       "      <th>income</th>\n",
       "      <th>monthly_premium_auto</th>\n",
       "      <th>number_of_open_complaints</th>\n",
       "      <th>policy_type</th>\n",
       "      <th>vehicle_class</th>\n",
       "      <th>total_claim_amount</th>\n",
       "    </tr>\n",
       "  </thead>\n",
       "  <tbody>\n",
       "    <tr>\n",
       "      <th>4523</th>\n",
       "      <td>YG71375</td>\n",
       "      <td>Nevada</td>\n",
       "      <td>F</td>\n",
       "      <td>College</td>\n",
       "      <td>5964.345179</td>\n",
       "      <td>98078.0</td>\n",
       "      <td>73.0</td>\n",
       "      <td>0</td>\n",
       "      <td>Personal Auto</td>\n",
       "      <td>Four-Door Car</td>\n",
       "      <td>418.689402</td>\n",
       "    </tr>\n",
       "  </tbody>\n",
       "</table>\n",
       "</div>"
      ],
      "text/plain": [
       "     customer   state gender education customer_lifetime_value   income  \\\n",
       "4523  YG71375  Nevada      F   College             5964.345179  98078.0   \n",
       "\n",
       "      monthly_premium_auto number_of_open_complaints    policy_type  \\\n",
       "4523                  73.0                         0  Personal Auto   \n",
       "\n",
       "      vehicle_class  total_claim_amount  \n",
       "4523  Four-Door Car          418.689402  "
      ]
     },
     "execution_count": 17,
     "metadata": {},
     "output_type": "execute_result"
    }
   ],
   "source": [
    "# Which columns are numerical?\n",
    "los3.sample()"
   ]
  },
  {
   "cell_type": "code",
   "execution_count": 18,
   "id": "933db32a-f217-4041-ae04-94090a5b871a",
   "metadata": {},
   "outputs": [
    {
     "data": {
      "text/plain": [
       "customer                      object\n",
       "state                         object\n",
       "gender                        object\n",
       "education                     object\n",
       "customer_lifetime_value       object\n",
       "income                       float64\n",
       "monthly_premium_auto         float64\n",
       "number_of_open_complaints     object\n",
       "policy_type                   object\n",
       "vehicle_class                 object\n",
       "total_claim_amount           float64\n",
       "dtype: object"
      ]
     },
     "execution_count": 18,
     "metadata": {},
     "output_type": "execute_result"
    }
   ],
   "source": [
    "los3.dtypes"
   ]
  },
  {
   "cell_type": "markdown",
   "id": "43c5ef38-c544-43f7-89fd-0e5214a49065",
   "metadata": {},
   "source": [
    "Las que seguro son numerical son las que aparecen en float64 en el output de la celda de arriba (income, monthly_premium_auto y total_claim_amount).\n",
    "Luego hay 2 que son dudosas..\n",
    "customer_lifetime_value y number_of_open_complaints. Estrictamente no son numéricas ya que Python las interpreta como object. Sin embargo, los humanos sabemos que sí lo son (Humanos 1 - Programas+ AIs 0). Por ejemplo, la de customer_lifetime_values en algunos casos tiene \"%\"s, eso podría estar afectando."
   ]
  },
  {
   "cell_type": "code",
   "execution_count": 19,
   "id": "3fb400e5-6468-47ed-be89-72bd3b30c89f",
   "metadata": {},
   "outputs": [
    {
     "name": "stdout",
     "output_type": "stream",
     "text": [
      "['income', 'monthly_premium_auto', 'total_claim_amount']\n"
     ]
    }
   ],
   "source": [
    "#Por las dudas\n",
    "por_las_dudas=los3._get_numeric_data().columns.tolist()\n",
    "print(por_las_dudas)"
   ]
  },
  {
   "cell_type": "code",
   "execution_count": 20,
   "id": "cdf59a8c-87df-4838-880a-f46caebdf0d2",
   "metadata": {},
   "outputs": [
    {
     "data": {
      "text/plain": [
       "['customer',\n",
       " 'state',\n",
       " 'gender',\n",
       " 'education',\n",
       " 'customer_lifetime_value',\n",
       " 'number_of_open_complaints',\n",
       " 'policy_type',\n",
       " 'vehicle_class']"
      ]
     },
     "execution_count": 20,
     "metadata": {},
     "output_type": "execute_result"
    }
   ],
   "source": [
    "# Which columns are categorical?\n",
    "cate_cols=los3.select_dtypes(\"object\").columns.tolist()\n",
    "cate_cols"
   ]
  },
  {
   "cell_type": "code",
   "execution_count": 21,
   "id": "b9dae349-2b15-451d-b16d-b42ff1309998",
   "metadata": {},
   "outputs": [],
   "source": [
    "# Understand the meaning of all columns\n",
    "\n",
    "#customer: ID del cliente\n",
    "#state: estado (dentro de Estados Unidos) de residencia del cliente\n",
    "#gender: género del cliente. f para female y m para male (solo aparecen esos 2)\n",
    "#education: nivel educativo del cliente\n",
    "#customer_lifetime_value: valor total que aporta el cliente a la empresa\n",
    "#income: ingreso generado por el cliente\n",
    "#monthly_premium_auto: es la cantidad que paga el cliente a un proveedor de seguros \n",
    "#number_of_open_complaints: cantidad actual de quejas abiertos del cliente con la empresa\n",
    "#policy_type: tipo de póliza de seguro\n",
    "#vehicle_class: clase del vehículo del cliente\n",
    "#total claim amount: el monto total reclamado por el cliente para la cobertura del seguro"
   ]
  },
  {
   "cell_type": "markdown",
   "id": "c862bfca-0ad6-465a-b21c-3dc8c795944e",
   "metadata": {},
   "source": [
    "Perform the data cleaning operations mentioned so far in class"
   ]
  },
  {
   "cell_type": "code",
   "execution_count": 22,
   "id": "7f4cfda7-9452-447f-ac32-4b52276633a1",
   "metadata": {},
   "outputs": [
    {
     "data": {
      "text/plain": [
       "Index(['customer', 'state', 'gender', 'customer_lifetime_value', 'income',\n",
       "       'monthly_premium_auto', 'policy_type', 'vehicle_class',\n",
       "       'total_claim_amount'],\n",
       "      dtype='object')"
      ]
     },
     "execution_count": 22,
     "metadata": {},
     "output_type": "execute_result"
    }
   ],
   "source": [
    "#Delete the column education and the number of open complaints from the dataframe.\n",
    "los3=los3.drop([\"education\", \"number_of_open_complaints\"], axis=1)\n",
    "los3.columns"
   ]
  },
  {
   "cell_type": "code",
   "execution_count": 23,
   "id": "b457ab12-fead-445b-a14c-3fcba2fde8cb",
   "metadata": {},
   "outputs": [
    {
     "data": {
      "text/plain": [
       "0                NaN\n",
       "1       6.979536e+07\n",
       "2       1.288743e+08\n",
       "3       7.645862e+07\n",
       "4       5.363076e+07\n",
       "            ...     \n",
       "7065    2.340599e+06\n",
       "7066    3.096511e+05\n",
       "7067    8.163890e+05\n",
       "7068    7.524442e+05\n",
       "7069    2.611837e+05\n",
       "Name: customer_lifetime_value, Length: 12074, dtype: float64"
      ]
     },
     "execution_count": 23,
     "metadata": {},
     "output_type": "execute_result"
    }
   ],
   "source": [
    "#Con ayuda de Sandra\n",
    "def clean_customer_lifetime_value(value):\n",
    "    if isinstance(value,str):\n",
    "        #Remove percentage sign\n",
    "        value = value.replace(\"%\",\"\")\n",
    "        #Transform str to float\n",
    "        value = float(value)\n",
    "    value = value*100\n",
    "    return value\n",
    "los3[\"customer_lifetime_value\"] = los3[\"customer_lifetime_value\"].apply(clean_customer_lifetime_value)\n",
    "los3[\"customer_lifetime_value\"]"
   ]
  },
  {
   "cell_type": "code",
   "execution_count": 24,
   "id": "b2dfde29-f69d-44f5-a49c-b8f95e0ebef8",
   "metadata": {},
   "outputs": [
    {
     "name": "stdout",
     "output_type": "stream",
     "text": [
      "float64\n"
     ]
    }
   ],
   "source": [
    "print(los3[\"customer_lifetime_value\"].dtypes)"
   ]
  },
  {
   "cell_type": "markdown",
   "id": "725d46eb-06e3-4468-a346-b89c07ea149a",
   "metadata": {},
   "source": [
    "Ahora dio float64."
   ]
  },
  {
   "cell_type": "code",
   "execution_count": 25,
   "id": "3843adf7-72e9-4877-936d-e0ba530284e4",
   "metadata": {},
   "outputs": [
    {
     "data": {
      "text/plain": [
       "customer                   2937\n",
       "state                      2937\n",
       "gender                     3059\n",
       "customer_lifetime_value    2944\n",
       "income                     2937\n",
       "monthly_premium_auto       2937\n",
       "policy_type                2937\n",
       "vehicle_class              2937\n",
       "total_claim_amount         2937\n",
       "dtype: int64"
      ]
     },
     "execution_count": 25,
     "metadata": {},
     "output_type": "execute_result"
    }
   ],
   "source": [
    "los3.isna().sum()"
   ]
  },
  {
   "cell_type": "code",
   "execution_count": 26,
   "id": "501104da-bfa6-4daf-8daf-15bdf8df0ff0",
   "metadata": {},
   "outputs": [
    {
     "name": "stdout",
     "output_type": "stream",
     "text": [
      "9135\n"
     ]
    }
   ],
   "source": [
    "#Check for duplicate rows in the data and remove if any.\n",
    "los3=los3.drop_duplicates()\n",
    "print(los3.shape[0])"
   ]
  },
  {
   "cell_type": "markdown",
   "id": "d3c35a82-08e8-45f1-8f21-66b0b8afde29",
   "metadata": {},
   "source": [
    "Hubieron duplicados pues shape[0] disminuyó."
   ]
  },
  {
   "cell_type": "code",
   "execution_count": 27,
   "id": "c8fe4fbe-9ac6-47b7-bbdc-c1f28b2fe510",
   "metadata": {},
   "outputs": [
    {
     "data": {
      "text/html": [
       "<div>\n",
       "<style scoped>\n",
       "    .dataframe tbody tr th:only-of-type {\n",
       "        vertical-align: middle;\n",
       "    }\n",
       "\n",
       "    .dataframe tbody tr th {\n",
       "        vertical-align: top;\n",
       "    }\n",
       "\n",
       "    .dataframe thead th {\n",
       "        text-align: right;\n",
       "    }\n",
       "</style>\n",
       "<table border=\"1\" class=\"dataframe\">\n",
       "  <thead>\n",
       "    <tr style=\"text-align: right;\">\n",
       "      <th></th>\n",
       "      <th>customer</th>\n",
       "      <th>state</th>\n",
       "      <th>gender</th>\n",
       "      <th>customer_lifetime_value</th>\n",
       "      <th>income</th>\n",
       "      <th>monthly_premium_auto</th>\n",
       "      <th>policy_type</th>\n",
       "      <th>vehicle_class</th>\n",
       "      <th>total_claim_amount</th>\n",
       "    </tr>\n",
       "  </thead>\n",
       "  <tbody>\n",
       "    <tr>\n",
       "      <th>0</th>\n",
       "      <td>RB50392</td>\n",
       "      <td>Washington</td>\n",
       "      <td>NaN</td>\n",
       "      <td>NaN</td>\n",
       "      <td>0.0</td>\n",
       "      <td>1000.0</td>\n",
       "      <td>Personal Auto</td>\n",
       "      <td>Four-Door Car</td>\n",
       "      <td>2.704934</td>\n",
       "    </tr>\n",
       "    <tr>\n",
       "      <th>1</th>\n",
       "      <td>QZ44356</td>\n",
       "      <td>Arizona</td>\n",
       "      <td>F</td>\n",
       "      <td>6.979536e+07</td>\n",
       "      <td>0.0</td>\n",
       "      <td>94.0</td>\n",
       "      <td>Personal Auto</td>\n",
       "      <td>Four-Door Car</td>\n",
       "      <td>1131.464935</td>\n",
       "    </tr>\n",
       "    <tr>\n",
       "      <th>3</th>\n",
       "      <td>WW63253</td>\n",
       "      <td>California</td>\n",
       "      <td>M</td>\n",
       "      <td>7.645862e+07</td>\n",
       "      <td>0.0</td>\n",
       "      <td>106.0</td>\n",
       "      <td>Corporate Auto</td>\n",
       "      <td>SUV</td>\n",
       "      <td>529.881344</td>\n",
       "    </tr>\n",
       "    <tr>\n",
       "      <th>7</th>\n",
       "      <td>CF85061</td>\n",
       "      <td>Arizona</td>\n",
       "      <td>M</td>\n",
       "      <td>7.216100e+07</td>\n",
       "      <td>0.0</td>\n",
       "      <td>101.0</td>\n",
       "      <td>Corporate Auto</td>\n",
       "      <td>Four-Door Car</td>\n",
       "      <td>363.029680</td>\n",
       "    </tr>\n",
       "    <tr>\n",
       "      <th>10</th>\n",
       "      <td>SX51350</td>\n",
       "      <td>California</td>\n",
       "      <td>M</td>\n",
       "      <td>4.738992e+07</td>\n",
       "      <td>0.0</td>\n",
       "      <td>67.0</td>\n",
       "      <td>Personal Auto</td>\n",
       "      <td>Four-Door Car</td>\n",
       "      <td>482.400000</td>\n",
       "    </tr>\n",
       "    <tr>\n",
       "      <th>...</th>\n",
       "      <td>...</td>\n",
       "      <td>...</td>\n",
       "      <td>...</td>\n",
       "      <td>...</td>\n",
       "      <td>...</td>\n",
       "      <td>...</td>\n",
       "      <td>...</td>\n",
       "      <td>...</td>\n",
       "      <td>...</td>\n",
       "    </tr>\n",
       "    <tr>\n",
       "      <th>7059</th>\n",
       "      <td>WZ45103</td>\n",
       "      <td>California</td>\n",
       "      <td>F</td>\n",
       "      <td>5.678050e+05</td>\n",
       "      <td>0.0</td>\n",
       "      <td>76.0</td>\n",
       "      <td>Personal Auto</td>\n",
       "      <td>Four-Door Car</td>\n",
       "      <td>364.800000</td>\n",
       "    </tr>\n",
       "    <tr>\n",
       "      <th>7061</th>\n",
       "      <td>RX91025</td>\n",
       "      <td>California</td>\n",
       "      <td>M</td>\n",
       "      <td>1.987226e+06</td>\n",
       "      <td>0.0</td>\n",
       "      <td>185.0</td>\n",
       "      <td>Personal Auto</td>\n",
       "      <td>SUV</td>\n",
       "      <td>1950.725547</td>\n",
       "    </tr>\n",
       "    <tr>\n",
       "      <th>7062</th>\n",
       "      <td>AC13887</td>\n",
       "      <td>California</td>\n",
       "      <td>M</td>\n",
       "      <td>4.628995e+05</td>\n",
       "      <td>0.0</td>\n",
       "      <td>67.0</td>\n",
       "      <td>Corporate Auto</td>\n",
       "      <td>Two-Door Car</td>\n",
       "      <td>482.400000</td>\n",
       "    </tr>\n",
       "    <tr>\n",
       "      <th>7067</th>\n",
       "      <td>TD14365</td>\n",
       "      <td>California</td>\n",
       "      <td>M</td>\n",
       "      <td>8.163890e+05</td>\n",
       "      <td>0.0</td>\n",
       "      <td>85.0</td>\n",
       "      <td>Corporate Auto</td>\n",
       "      <td>Four-Door Car</td>\n",
       "      <td>790.784983</td>\n",
       "    </tr>\n",
       "    <tr>\n",
       "      <th>7069</th>\n",
       "      <td>Y167826</td>\n",
       "      <td>California</td>\n",
       "      <td>M</td>\n",
       "      <td>2.611837e+05</td>\n",
       "      <td>0.0</td>\n",
       "      <td>77.0</td>\n",
       "      <td>Corporate Auto</td>\n",
       "      <td>Two-Door Car</td>\n",
       "      <td>369.600000</td>\n",
       "    </tr>\n",
       "  </tbody>\n",
       "</table>\n",
       "<p>2294 rows × 9 columns</p>\n",
       "</div>"
      ],
      "text/plain": [
       "     customer       state gender  customer_lifetime_value  income  \\\n",
       "0     RB50392  Washington    NaN                      NaN     0.0   \n",
       "1     QZ44356     Arizona      F             6.979536e+07     0.0   \n",
       "3     WW63253  California      M             7.645862e+07     0.0   \n",
       "7     CF85061     Arizona      M             7.216100e+07     0.0   \n",
       "10    SX51350  California      M             4.738992e+07     0.0   \n",
       "...       ...         ...    ...                      ...     ...   \n",
       "7059  WZ45103  California      F             5.678050e+05     0.0   \n",
       "7061  RX91025  California      M             1.987226e+06     0.0   \n",
       "7062  AC13887  California      M             4.628995e+05     0.0   \n",
       "7067  TD14365  California      M             8.163890e+05     0.0   \n",
       "7069  Y167826  California      M             2.611837e+05     0.0   \n",
       "\n",
       "      monthly_premium_auto     policy_type  vehicle_class  total_claim_amount  \n",
       "0                   1000.0   Personal Auto  Four-Door Car            2.704934  \n",
       "1                     94.0   Personal Auto  Four-Door Car         1131.464935  \n",
       "3                    106.0  Corporate Auto            SUV          529.881344  \n",
       "7                    101.0  Corporate Auto  Four-Door Car          363.029680  \n",
       "10                    67.0   Personal Auto  Four-Door Car          482.400000  \n",
       "...                    ...             ...            ...                 ...  \n",
       "7059                  76.0   Personal Auto  Four-Door Car          364.800000  \n",
       "7061                 185.0   Personal Auto            SUV         1950.725547  \n",
       "7062                  67.0  Corporate Auto   Two-Door Car          482.400000  \n",
       "7067                  85.0  Corporate Auto  Four-Door Car          790.784983  \n",
       "7069                  77.0  Corporate Auto   Two-Door Car          369.600000  \n",
       "\n",
       "[2294 rows x 9 columns]"
      ]
     },
     "execution_count": 27,
     "metadata": {},
     "output_type": "execute_result"
    }
   ],
   "source": [
    "#Filter out the data for customers who have an income of 0 or less.\n",
    "filtrados=los3[los3[\"income\"]<=0]\n",
    "filtrados"
   ]
  },
  {
   "cell_type": "code",
   "execution_count": 28,
   "id": "45f45d94-b73d-45b3-977b-9e399fca5f8b",
   "metadata": {},
   "outputs": [
    {
     "data": {
      "text/plain": [
       "0"
      ]
     },
     "execution_count": 28,
     "metadata": {},
     "output_type": "execute_result"
    }
   ],
   "source": [
    "#Veamos si hay negativos (puestos por error)\n",
    "negativos= los3[los3[\"income\"]<0]\n",
    "negativos.shape[0]"
   ]
  },
  {
   "cell_type": "markdown",
   "id": "cebef3a9-9e47-4341-a105-129eb0482c5e",
   "metadata": {},
   "source": [
    "No hay, por lo que hay 2294 observaciones con Income=0."
   ]
  },
  {
   "cell_type": "markdown",
   "id": "09b55c44-8801-491b-a295-e77c97d07e5b",
   "metadata": {},
   "source": [
    "Voy a corregir los valores de \"gender\" para que queden como \"f\" o \"m\" (poseriormente se tratarán los NaNs)"
   ]
  },
  {
   "cell_type": "code",
   "execution_count": 30,
   "id": "f5dd9477-0d2f-40cd-bfbb-b51c78e7d8a0",
   "metadata": {},
   "outputs": [
    {
     "data": {
      "text/plain": [
       "array([nan, 'F', 'M', 'Femal', 'Male', 'female'], dtype=object)"
      ]
     },
     "execution_count": 30,
     "metadata": {},
     "output_type": "execute_result"
    }
   ],
   "source": [
    "los3[\"gender\"].unique()"
   ]
  },
  {
   "cell_type": "code",
   "execution_count": 31,
   "id": "64faf1db-c59d-48b5-b78b-683fcc371a0e",
   "metadata": {},
   "outputs": [],
   "source": [
    "los3[\"gender\"]=los3[\"gender\"].str.lower() \n",
    "los3[\"gender\"].replace({\"female\": \"f\",\"femal\":\"f\", \"male\":'m'}, inplace=True)"
   ]
  },
  {
   "cell_type": "code",
   "execution_count": 32,
   "id": "777430bc-d59e-4025-8d38-57a397bdf53d",
   "metadata": {},
   "outputs": [
    {
     "data": {
      "text/plain": [
       "array([nan, 'f', 'm'], dtype=object)"
      ]
     },
     "execution_count": 32,
     "metadata": {},
     "output_type": "execute_result"
    }
   ],
   "source": [
    "los3[\"gender\"].unique()"
   ]
  },
  {
   "cell_type": "code",
   "execution_count": 33,
   "id": "41b10bad-8fce-41d6-95c3-7fe1e04d51ed",
   "metadata": {},
   "outputs": [
    {
     "data": {
      "text/plain": [
       "customer                     1\n",
       "state                        1\n",
       "gender                     123\n",
       "customer_lifetime_value      8\n",
       "income                       1\n",
       "monthly_premium_auto         1\n",
       "policy_type                  1\n",
       "vehicle_class                1\n",
       "total_claim_amount           1\n",
       "dtype: int64"
      ]
     },
     "execution_count": 33,
     "metadata": {},
     "output_type": "execute_result"
    }
   ],
   "source": [
    "#Check and deal with NaN values\n",
    "los3.isna().sum()"
   ]
  },
  {
   "cell_type": "code",
   "execution_count": 34,
   "id": "0ba05f3b-fe2d-4c70-9a8e-1fa3cb02e6b9",
   "metadata": {},
   "outputs": [
    {
     "name": "stdout",
     "output_type": "stream",
     "text": [
      "customer                   0.010947\n",
      "state                      0.010947\n",
      "gender                     1.346470\n",
      "customer_lifetime_value    0.087575\n",
      "income                     0.010947\n",
      "monthly_premium_auto       0.010947\n",
      "policy_type                0.010947\n",
      "vehicle_class              0.010947\n",
      "total_claim_amount         0.010947\n",
      "dtype: float64\n"
     ]
    }
   ],
   "source": [
    "nulos_en_porcentaje=(los3.isna().sum()/len(los3))*100\n",
    "print(nulos_en_porcentaje)"
   ]
  },
  {
   "cell_type": "markdown",
   "id": "8022a4e7-297d-4c49-96ce-60043de25f9b",
   "metadata": {},
   "source": [
    "La columna que tiene mayor porcentaje de nulos tiene ~1.35%, el cual es un valor pequeño. Se procede a eliminar todas las observaciones con nulos del DataFrame (no es necesario que se imputen valores ni se eliminen columnas porque los porcentajes son muy chicos)."
   ]
  },
  {
   "cell_type": "code",
   "execution_count": 35,
   "id": "8b8f235c-b283-4a09-9528-b7e0c69b9b1d",
   "metadata": {},
   "outputs": [],
   "source": [
    "los3.dropna(inplace=True)"
   ]
  },
  {
   "cell_type": "code",
   "execution_count": 36,
   "id": "643a0cc3-4049-49e8-b9e2-c791c1ad1b77",
   "metadata": {},
   "outputs": [
    {
     "data": {
      "text/plain": [
       "customer                   0\n",
       "state                      0\n",
       "gender                     0\n",
       "customer_lifetime_value    0\n",
       "income                     0\n",
       "monthly_premium_auto       0\n",
       "policy_type                0\n",
       "vehicle_class              0\n",
       "total_claim_amount         0\n",
       "dtype: int64"
      ]
     },
     "execution_count": 36,
     "metadata": {},
     "output_type": "execute_result"
    }
   ],
   "source": [
    "los3.isna().sum()"
   ]
  },
  {
   "cell_type": "code",
   "execution_count": 37,
   "id": "0bf1b51d-351f-482a-ad6d-a00b22dd37a5",
   "metadata": {},
   "outputs": [
    {
     "data": {
      "text/plain": [
       "9007"
      ]
     },
     "execution_count": 37,
     "metadata": {},
     "output_type": "execute_result"
    }
   ],
   "source": [
    "los3.shape[0]"
   ]
  },
  {
   "cell_type": "markdown",
   "id": "aae49353-4993-4723-9d9b-372a22fecbda",
   "metadata": {},
   "source": [
    "Datetime format - Extract the months from the dataset marketing_customer_analysis.csv and store in a separate column. Then filter the data to show only the information for the first quarter , ie. January, February and March. _Hint_: If data from March does not exist, consider only January and February."
   ]
  },
  {
   "cell_type": "code",
   "execution_count": 38,
   "id": "1111bc29-e468-4360-8e4f-cf78200d0592",
   "metadata": {},
   "outputs": [
    {
     "data": {
      "text/html": [
       "<div>\n",
       "<style scoped>\n",
       "    .dataframe tbody tr th:only-of-type {\n",
       "        vertical-align: middle;\n",
       "    }\n",
       "\n",
       "    .dataframe tbody tr th {\n",
       "        vertical-align: top;\n",
       "    }\n",
       "\n",
       "    .dataframe thead th {\n",
       "        text-align: right;\n",
       "    }\n",
       "</style>\n",
       "<table border=\"1\" class=\"dataframe\">\n",
       "  <thead>\n",
       "    <tr style=\"text-align: right;\">\n",
       "      <th></th>\n",
       "      <th>Unnamed: 0</th>\n",
       "      <th>Customer</th>\n",
       "      <th>State</th>\n",
       "      <th>Customer Lifetime Value</th>\n",
       "      <th>Response</th>\n",
       "      <th>Coverage</th>\n",
       "      <th>Education</th>\n",
       "      <th>Effective To Date</th>\n",
       "      <th>EmploymentStatus</th>\n",
       "      <th>Gender</th>\n",
       "      <th>...</th>\n",
       "      <th>Number of Open Complaints</th>\n",
       "      <th>Number of Policies</th>\n",
       "      <th>Policy Type</th>\n",
       "      <th>Policy</th>\n",
       "      <th>Renew Offer Type</th>\n",
       "      <th>Sales Channel</th>\n",
       "      <th>Total Claim Amount</th>\n",
       "      <th>Vehicle Class</th>\n",
       "      <th>Vehicle Size</th>\n",
       "      <th>Vehicle Type</th>\n",
       "    </tr>\n",
       "  </thead>\n",
       "  <tbody>\n",
       "    <tr>\n",
       "      <th>7479</th>\n",
       "      <td>7479</td>\n",
       "      <td>KF80172</td>\n",
       "      <td>Nevada</td>\n",
       "      <td>2647.519741</td>\n",
       "      <td>Yes</td>\n",
       "      <td>Basic</td>\n",
       "      <td>College</td>\n",
       "      <td>2/20/11</td>\n",
       "      <td>Employed</td>\n",
       "      <td>M</td>\n",
       "      <td>...</td>\n",
       "      <td>0.0</td>\n",
       "      <td>1</td>\n",
       "      <td>Personal Auto</td>\n",
       "      <td>Personal L3</td>\n",
       "      <td>Offer2</td>\n",
       "      <td>Agent</td>\n",
       "      <td>300.056383</td>\n",
       "      <td>Four-Door Car</td>\n",
       "      <td>Medsize</td>\n",
       "      <td>NaN</td>\n",
       "    </tr>\n",
       "  </tbody>\n",
       "</table>\n",
       "<p>1 rows × 26 columns</p>\n",
       "</div>"
      ],
      "text/plain": [
       "      Unnamed: 0 Customer   State  Customer Lifetime Value Response Coverage  \\\n",
       "7479        7479  KF80172  Nevada              2647.519741      Yes    Basic   \n",
       "\n",
       "     Education Effective To Date EmploymentStatus Gender  ...  \\\n",
       "7479   College           2/20/11         Employed      M  ...   \n",
       "\n",
       "      Number of Open Complaints Number of Policies    Policy Type  \\\n",
       "7479                        0.0                  1  Personal Auto   \n",
       "\n",
       "           Policy  Renew Offer Type  Sales Channel  Total Claim Amount  \\\n",
       "7479  Personal L3            Offer2          Agent          300.056383   \n",
       "\n",
       "      Vehicle Class Vehicle Size Vehicle Type  \n",
       "7479  Four-Door Car      Medsize          NaN  \n",
       "\n",
       "[1 rows x 26 columns]"
      ]
     },
     "execution_count": 38,
     "metadata": {},
     "output_type": "execute_result"
    }
   ],
   "source": [
    "mktg=pd.read_csv(\"Data/marketing_customer_analysis.csv\")\n",
    "mktg.sample()"
   ]
  },
  {
   "cell_type": "code",
   "execution_count": 39,
   "id": "eda5ea75-79e3-4eba-8072-ea130541984f",
   "metadata": {},
   "outputs": [
    {
     "data": {
      "text/plain": [
       "Index(['Unnamed: 0', 'Customer', 'State', 'Customer Lifetime Value',\n",
       "       'Response', 'Coverage', 'Education', 'Effective To Date',\n",
       "       'EmploymentStatus', 'Gender', 'Income', 'Location Code',\n",
       "       'Marital Status', 'Monthly Premium Auto', 'Months Since Last Claim',\n",
       "       'Months Since Policy Inception', 'Number of Open Complaints',\n",
       "       'Number of Policies', 'Policy Type', 'Policy', 'Renew Offer Type',\n",
       "       'Sales Channel', 'Total Claim Amount', 'Vehicle Class', 'Vehicle Size',\n",
       "       'Vehicle Type'],\n",
       "      dtype='object')"
      ]
     },
     "execution_count": 39,
     "metadata": {},
     "output_type": "execute_result"
    }
   ],
   "source": [
    "mktg.columns"
   ]
  },
  {
   "cell_type": "code",
   "execution_count": 40,
   "id": "c62515c7-3065-4681-a50d-1026511ec7d0",
   "metadata": {},
   "outputs": [
    {
     "data": {
      "text/html": [
       "<div>\n",
       "<style scoped>\n",
       "    .dataframe tbody tr th:only-of-type {\n",
       "        vertical-align: middle;\n",
       "    }\n",
       "\n",
       "    .dataframe tbody tr th {\n",
       "        vertical-align: top;\n",
       "    }\n",
       "\n",
       "    .dataframe thead th {\n",
       "        text-align: right;\n",
       "    }\n",
       "</style>\n",
       "<table border=\"1\" class=\"dataframe\">\n",
       "  <thead>\n",
       "    <tr style=\"text-align: right;\">\n",
       "      <th></th>\n",
       "      <th>Unnamed: 0</th>\n",
       "      <th>Customer</th>\n",
       "      <th>State</th>\n",
       "      <th>Customer Lifetime Value</th>\n",
       "      <th>Response</th>\n",
       "      <th>Coverage</th>\n",
       "      <th>Education</th>\n",
       "      <th>Effective To Date</th>\n",
       "      <th>EmploymentStatus</th>\n",
       "      <th>Gender</th>\n",
       "      <th>...</th>\n",
       "      <th>Number of Policies</th>\n",
       "      <th>Policy Type</th>\n",
       "      <th>Policy</th>\n",
       "      <th>Renew Offer Type</th>\n",
       "      <th>Sales Channel</th>\n",
       "      <th>Total Claim Amount</th>\n",
       "      <th>Vehicle Class</th>\n",
       "      <th>Vehicle Size</th>\n",
       "      <th>Vehicle Type</th>\n",
       "      <th>month</th>\n",
       "    </tr>\n",
       "  </thead>\n",
       "  <tbody>\n",
       "    <tr>\n",
       "      <th>9153</th>\n",
       "      <td>9153</td>\n",
       "      <td>FX26050</td>\n",
       "      <td>Oregon</td>\n",
       "      <td>22712.02364</td>\n",
       "      <td>No</td>\n",
       "      <td>Basic</td>\n",
       "      <td>Doctor</td>\n",
       "      <td>1/16/11</td>\n",
       "      <td>Disabled</td>\n",
       "      <td>M</td>\n",
       "      <td>...</td>\n",
       "      <td>2</td>\n",
       "      <td>Special Auto</td>\n",
       "      <td>Special L1</td>\n",
       "      <td>Offer4</td>\n",
       "      <td>Agent</td>\n",
       "      <td>68.019973</td>\n",
       "      <td>Two-Door Car</td>\n",
       "      <td>Medsize</td>\n",
       "      <td>NaN</td>\n",
       "      <td>1</td>\n",
       "    </tr>\n",
       "  </tbody>\n",
       "</table>\n",
       "<p>1 rows × 27 columns</p>\n",
       "</div>"
      ],
      "text/plain": [
       "      Unnamed: 0 Customer   State  Customer Lifetime Value Response Coverage  \\\n",
       "9153        9153  FX26050  Oregon              22712.02364       No    Basic   \n",
       "\n",
       "     Education Effective To Date EmploymentStatus Gender  ...  \\\n",
       "9153    Doctor           1/16/11         Disabled      M  ...   \n",
       "\n",
       "      Number of Policies   Policy Type      Policy  Renew Offer Type  \\\n",
       "9153                   2  Special Auto  Special L1            Offer4   \n",
       "\n",
       "      Sales Channel  Total Claim Amount  Vehicle Class  Vehicle Size  \\\n",
       "9153          Agent           68.019973   Two-Door Car       Medsize   \n",
       "\n",
       "     Vehicle Type month  \n",
       "9153          NaN     1  \n",
       "\n",
       "[1 rows x 27 columns]"
      ]
     },
     "execution_count": 40,
     "metadata": {},
     "output_type": "execute_result"
    }
   ],
   "source": [
    "mktg[\"month\"] = pd.DatetimeIndex(mktg[\"Effective To Date\"]).month\n",
    "mktg.sample()"
   ]
  },
  {
   "cell_type": "code",
   "execution_count": 41,
   "id": "9d7cd5e8-7cd1-49df-bc32-1cede0864e5d",
   "metadata": {},
   "outputs": [
    {
     "data": {
      "text/plain": [
       "array([2, 1])"
      ]
     },
     "execution_count": 41,
     "metadata": {},
     "output_type": "execute_result"
    }
   ],
   "source": [
    "mktg.month.unique()\n",
    "#En el output solo aparecen los meses 1 y 2, es decir Enero y Febrero."
   ]
  },
  {
   "cell_type": "code",
   "execution_count": 42,
   "id": "2ab0695c-22e0-4cd4-88f0-6623a6776a1e",
   "metadata": {},
   "outputs": [
    {
     "data": {
      "text/html": [
       "<div>\n",
       "<style scoped>\n",
       "    .dataframe tbody tr th:only-of-type {\n",
       "        vertical-align: middle;\n",
       "    }\n",
       "\n",
       "    .dataframe tbody tr th {\n",
       "        vertical-align: top;\n",
       "    }\n",
       "\n",
       "    .dataframe thead th {\n",
       "        text-align: right;\n",
       "    }\n",
       "</style>\n",
       "<table border=\"1\" class=\"dataframe\">\n",
       "  <thead>\n",
       "    <tr style=\"text-align: right;\">\n",
       "      <th></th>\n",
       "      <th>Unnamed: 0</th>\n",
       "      <th>Customer</th>\n",
       "      <th>State</th>\n",
       "      <th>Customer Lifetime Value</th>\n",
       "      <th>Response</th>\n",
       "      <th>Coverage</th>\n",
       "      <th>Education</th>\n",
       "      <th>Effective To Date</th>\n",
       "      <th>EmploymentStatus</th>\n",
       "      <th>Gender</th>\n",
       "      <th>...</th>\n",
       "      <th>Number of Policies</th>\n",
       "      <th>Policy Type</th>\n",
       "      <th>Policy</th>\n",
       "      <th>Renew Offer Type</th>\n",
       "      <th>Sales Channel</th>\n",
       "      <th>Total Claim Amount</th>\n",
       "      <th>Vehicle Class</th>\n",
       "      <th>Vehicle Size</th>\n",
       "      <th>Vehicle Type</th>\n",
       "      <th>month</th>\n",
       "    </tr>\n",
       "  </thead>\n",
       "  <tbody>\n",
       "    <tr>\n",
       "      <th>0</th>\n",
       "      <td>0</td>\n",
       "      <td>DK49336</td>\n",
       "      <td>Arizona</td>\n",
       "      <td>4809.216960</td>\n",
       "      <td>No</td>\n",
       "      <td>Basic</td>\n",
       "      <td>College</td>\n",
       "      <td>2/18/11</td>\n",
       "      <td>Employed</td>\n",
       "      <td>M</td>\n",
       "      <td>...</td>\n",
       "      <td>9</td>\n",
       "      <td>Corporate Auto</td>\n",
       "      <td>Corporate L3</td>\n",
       "      <td>Offer3</td>\n",
       "      <td>Agent</td>\n",
       "      <td>292.800000</td>\n",
       "      <td>Four-Door Car</td>\n",
       "      <td>Medsize</td>\n",
       "      <td>NaN</td>\n",
       "      <td>2</td>\n",
       "    </tr>\n",
       "    <tr>\n",
       "      <th>1</th>\n",
       "      <td>1</td>\n",
       "      <td>KX64629</td>\n",
       "      <td>California</td>\n",
       "      <td>2228.525238</td>\n",
       "      <td>No</td>\n",
       "      <td>Basic</td>\n",
       "      <td>College</td>\n",
       "      <td>1/18/11</td>\n",
       "      <td>Unemployed</td>\n",
       "      <td>F</td>\n",
       "      <td>...</td>\n",
       "      <td>1</td>\n",
       "      <td>Personal Auto</td>\n",
       "      <td>Personal L3</td>\n",
       "      <td>Offer4</td>\n",
       "      <td>Call Center</td>\n",
       "      <td>744.924331</td>\n",
       "      <td>Four-Door Car</td>\n",
       "      <td>Medsize</td>\n",
       "      <td>NaN</td>\n",
       "      <td>1</td>\n",
       "    </tr>\n",
       "    <tr>\n",
       "      <th>2</th>\n",
       "      <td>2</td>\n",
       "      <td>LZ68649</td>\n",
       "      <td>Washington</td>\n",
       "      <td>14947.917300</td>\n",
       "      <td>No</td>\n",
       "      <td>Basic</td>\n",
       "      <td>Bachelor</td>\n",
       "      <td>2/10/11</td>\n",
       "      <td>Employed</td>\n",
       "      <td>M</td>\n",
       "      <td>...</td>\n",
       "      <td>2</td>\n",
       "      <td>Personal Auto</td>\n",
       "      <td>Personal L3</td>\n",
       "      <td>Offer3</td>\n",
       "      <td>Call Center</td>\n",
       "      <td>480.000000</td>\n",
       "      <td>SUV</td>\n",
       "      <td>Medsize</td>\n",
       "      <td>A</td>\n",
       "      <td>2</td>\n",
       "    </tr>\n",
       "    <tr>\n",
       "      <th>3</th>\n",
       "      <td>3</td>\n",
       "      <td>XL78013</td>\n",
       "      <td>Oregon</td>\n",
       "      <td>22332.439460</td>\n",
       "      <td>Yes</td>\n",
       "      <td>Extended</td>\n",
       "      <td>College</td>\n",
       "      <td>1/11/11</td>\n",
       "      <td>Employed</td>\n",
       "      <td>M</td>\n",
       "      <td>...</td>\n",
       "      <td>2</td>\n",
       "      <td>Corporate Auto</td>\n",
       "      <td>Corporate L3</td>\n",
       "      <td>Offer2</td>\n",
       "      <td>Branch</td>\n",
       "      <td>484.013411</td>\n",
       "      <td>Four-Door Car</td>\n",
       "      <td>Medsize</td>\n",
       "      <td>A</td>\n",
       "      <td>1</td>\n",
       "    </tr>\n",
       "    <tr>\n",
       "      <th>4</th>\n",
       "      <td>4</td>\n",
       "      <td>QA50777</td>\n",
       "      <td>Oregon</td>\n",
       "      <td>9025.067525</td>\n",
       "      <td>No</td>\n",
       "      <td>Premium</td>\n",
       "      <td>Bachelor</td>\n",
       "      <td>1/17/11</td>\n",
       "      <td>Medical Leave</td>\n",
       "      <td>F</td>\n",
       "      <td>...</td>\n",
       "      <td>7</td>\n",
       "      <td>Personal Auto</td>\n",
       "      <td>Personal L2</td>\n",
       "      <td>Offer1</td>\n",
       "      <td>Branch</td>\n",
       "      <td>707.925645</td>\n",
       "      <td>Four-Door Car</td>\n",
       "      <td>Medsize</td>\n",
       "      <td>NaN</td>\n",
       "      <td>1</td>\n",
       "    </tr>\n",
       "    <tr>\n",
       "      <th>...</th>\n",
       "      <td>...</td>\n",
       "      <td>...</td>\n",
       "      <td>...</td>\n",
       "      <td>...</td>\n",
       "      <td>...</td>\n",
       "      <td>...</td>\n",
       "      <td>...</td>\n",
       "      <td>...</td>\n",
       "      <td>...</td>\n",
       "      <td>...</td>\n",
       "      <td>...</td>\n",
       "      <td>...</td>\n",
       "      <td>...</td>\n",
       "      <td>...</td>\n",
       "      <td>...</td>\n",
       "      <td>...</td>\n",
       "      <td>...</td>\n",
       "      <td>...</td>\n",
       "      <td>...</td>\n",
       "      <td>...</td>\n",
       "      <td>...</td>\n",
       "    </tr>\n",
       "    <tr>\n",
       "      <th>10905</th>\n",
       "      <td>10905</td>\n",
       "      <td>FE99816</td>\n",
       "      <td>Nevada</td>\n",
       "      <td>15563.369440</td>\n",
       "      <td>No</td>\n",
       "      <td>Premium</td>\n",
       "      <td>Bachelor</td>\n",
       "      <td>1/19/11</td>\n",
       "      <td>Unemployed</td>\n",
       "      <td>F</td>\n",
       "      <td>...</td>\n",
       "      <td>7</td>\n",
       "      <td>Personal Auto</td>\n",
       "      <td>Personal L1</td>\n",
       "      <td>Offer3</td>\n",
       "      <td>Web</td>\n",
       "      <td>1214.400000</td>\n",
       "      <td>Luxury Car</td>\n",
       "      <td>Medsize</td>\n",
       "      <td>A</td>\n",
       "      <td>1</td>\n",
       "    </tr>\n",
       "    <tr>\n",
       "      <th>10906</th>\n",
       "      <td>10906</td>\n",
       "      <td>KX53892</td>\n",
       "      <td>Oregon</td>\n",
       "      <td>5259.444853</td>\n",
       "      <td>No</td>\n",
       "      <td>Basic</td>\n",
       "      <td>College</td>\n",
       "      <td>1/6/11</td>\n",
       "      <td>Employed</td>\n",
       "      <td>F</td>\n",
       "      <td>...</td>\n",
       "      <td>6</td>\n",
       "      <td>Personal Auto</td>\n",
       "      <td>Personal L3</td>\n",
       "      <td>Offer2</td>\n",
       "      <td>Branch</td>\n",
       "      <td>273.018929</td>\n",
       "      <td>Four-Door Car</td>\n",
       "      <td>Medsize</td>\n",
       "      <td>A</td>\n",
       "      <td>1</td>\n",
       "    </tr>\n",
       "    <tr>\n",
       "      <th>10907</th>\n",
       "      <td>10907</td>\n",
       "      <td>TL39050</td>\n",
       "      <td>Arizona</td>\n",
       "      <td>23893.304100</td>\n",
       "      <td>No</td>\n",
       "      <td>Extended</td>\n",
       "      <td>Bachelor</td>\n",
       "      <td>2/6/11</td>\n",
       "      <td>Employed</td>\n",
       "      <td>F</td>\n",
       "      <td>...</td>\n",
       "      <td>2</td>\n",
       "      <td>Corporate Auto</td>\n",
       "      <td>Corporate L3</td>\n",
       "      <td>Offer1</td>\n",
       "      <td>Web</td>\n",
       "      <td>381.306996</td>\n",
       "      <td>Luxury SUV</td>\n",
       "      <td>Medsize</td>\n",
       "      <td>NaN</td>\n",
       "      <td>2</td>\n",
       "    </tr>\n",
       "    <tr>\n",
       "      <th>10908</th>\n",
       "      <td>10908</td>\n",
       "      <td>WA60547</td>\n",
       "      <td>California</td>\n",
       "      <td>11971.977650</td>\n",
       "      <td>No</td>\n",
       "      <td>Premium</td>\n",
       "      <td>College</td>\n",
       "      <td>2/13/11</td>\n",
       "      <td>Employed</td>\n",
       "      <td>F</td>\n",
       "      <td>...</td>\n",
       "      <td>6</td>\n",
       "      <td>Personal Auto</td>\n",
       "      <td>Personal L1</td>\n",
       "      <td>Offer1</td>\n",
       "      <td>Branch</td>\n",
       "      <td>618.288849</td>\n",
       "      <td>SUV</td>\n",
       "      <td>Medsize</td>\n",
       "      <td>A</td>\n",
       "      <td>2</td>\n",
       "    </tr>\n",
       "    <tr>\n",
       "      <th>10909</th>\n",
       "      <td>10909</td>\n",
       "      <td>IV32877</td>\n",
       "      <td>NaN</td>\n",
       "      <td>6857.519928</td>\n",
       "      <td>NaN</td>\n",
       "      <td>Basic</td>\n",
       "      <td>Bachelor</td>\n",
       "      <td>1/8/11</td>\n",
       "      <td>Unemployed</td>\n",
       "      <td>M</td>\n",
       "      <td>...</td>\n",
       "      <td>3</td>\n",
       "      <td>Personal Auto</td>\n",
       "      <td>Personal L1</td>\n",
       "      <td>Offer4</td>\n",
       "      <td>Web</td>\n",
       "      <td>1021.719397</td>\n",
       "      <td>SUV</td>\n",
       "      <td>Medsize</td>\n",
       "      <td>NaN</td>\n",
       "      <td>1</td>\n",
       "    </tr>\n",
       "  </tbody>\n",
       "</table>\n",
       "<p>10910 rows × 27 columns</p>\n",
       "</div>"
      ],
      "text/plain": [
       "       Unnamed: 0 Customer       State  Customer Lifetime Value Response  \\\n",
       "0               0  DK49336     Arizona              4809.216960       No   \n",
       "1               1  KX64629  California              2228.525238       No   \n",
       "2               2  LZ68649  Washington             14947.917300       No   \n",
       "3               3  XL78013      Oregon             22332.439460      Yes   \n",
       "4               4  QA50777      Oregon              9025.067525       No   \n",
       "...           ...      ...         ...                      ...      ...   \n",
       "10905       10905  FE99816      Nevada             15563.369440       No   \n",
       "10906       10906  KX53892      Oregon              5259.444853       No   \n",
       "10907       10907  TL39050     Arizona             23893.304100       No   \n",
       "10908       10908  WA60547  California             11971.977650       No   \n",
       "10909       10909  IV32877         NaN              6857.519928      NaN   \n",
       "\n",
       "       Coverage Education Effective To Date EmploymentStatus Gender  ...  \\\n",
       "0         Basic   College           2/18/11         Employed      M  ...   \n",
       "1         Basic   College           1/18/11       Unemployed      F  ...   \n",
       "2         Basic  Bachelor           2/10/11         Employed      M  ...   \n",
       "3      Extended   College           1/11/11         Employed      M  ...   \n",
       "4       Premium  Bachelor           1/17/11    Medical Leave      F  ...   \n",
       "...         ...       ...               ...              ...    ...  ...   \n",
       "10905   Premium  Bachelor           1/19/11       Unemployed      F  ...   \n",
       "10906     Basic   College            1/6/11         Employed      F  ...   \n",
       "10907  Extended  Bachelor            2/6/11         Employed      F  ...   \n",
       "10908   Premium   College           2/13/11         Employed      F  ...   \n",
       "10909     Basic  Bachelor            1/8/11       Unemployed      M  ...   \n",
       "\n",
       "       Number of Policies     Policy Type        Policy  Renew Offer Type  \\\n",
       "0                       9  Corporate Auto  Corporate L3            Offer3   \n",
       "1                       1   Personal Auto   Personal L3            Offer4   \n",
       "2                       2   Personal Auto   Personal L3            Offer3   \n",
       "3                       2  Corporate Auto  Corporate L3            Offer2   \n",
       "4                       7   Personal Auto   Personal L2            Offer1   \n",
       "...                   ...             ...           ...               ...   \n",
       "10905                   7   Personal Auto   Personal L1            Offer3   \n",
       "10906                   6   Personal Auto   Personal L3            Offer2   \n",
       "10907                   2  Corporate Auto  Corporate L3            Offer1   \n",
       "10908                   6   Personal Auto   Personal L1            Offer1   \n",
       "10909                   3   Personal Auto   Personal L1            Offer4   \n",
       "\n",
       "       Sales Channel  Total Claim Amount  Vehicle Class  Vehicle Size  \\\n",
       "0              Agent          292.800000  Four-Door Car       Medsize   \n",
       "1        Call Center          744.924331  Four-Door Car       Medsize   \n",
       "2        Call Center          480.000000            SUV       Medsize   \n",
       "3             Branch          484.013411  Four-Door Car       Medsize   \n",
       "4             Branch          707.925645  Four-Door Car       Medsize   \n",
       "...              ...                 ...            ...           ...   \n",
       "10905            Web         1214.400000     Luxury Car       Medsize   \n",
       "10906         Branch          273.018929  Four-Door Car       Medsize   \n",
       "10907            Web          381.306996     Luxury SUV       Medsize   \n",
       "10908         Branch          618.288849            SUV       Medsize   \n",
       "10909            Web         1021.719397            SUV       Medsize   \n",
       "\n",
       "      Vehicle Type month  \n",
       "0              NaN     2  \n",
       "1              NaN     1  \n",
       "2                A     2  \n",
       "3                A     1  \n",
       "4              NaN     1  \n",
       "...            ...   ...  \n",
       "10905            A     1  \n",
       "10906            A     1  \n",
       "10907          NaN     2  \n",
       "10908            A     2  \n",
       "10909          NaN     1  \n",
       "\n",
       "[10910 rows x 27 columns]"
      ]
     },
     "execution_count": 42,
     "metadata": {},
     "output_type": "execute_result"
    }
   ],
   "source": [
    "mktg[(mktg[\"month\"]==1) | (mktg[\"month\"]==2)]"
   ]
  },
  {
   "cell_type": "code",
   "execution_count": 43,
   "id": "72838c75-68a8-4d5b-a093-dca9a6cb20cf",
   "metadata": {},
   "outputs": [
    {
     "name": "stdout",
     "output_type": "stream",
     "text": [
      "object\n"
     ]
    }
   ],
   "source": [
    "print(mktg[\"Effective To Date\"].dtypes)"
   ]
  },
  {
   "cell_type": "code",
   "execution_count": 44,
   "id": "97bf6804-eba6-4c04-97c1-68eca5a0ec50",
   "metadata": {},
   "outputs": [
    {
     "data": {
      "text/plain": [
       "'2/14/11'"
      ]
     },
     "execution_count": 44,
     "metadata": {},
     "output_type": "execute_result"
    }
   ],
   "source": [
    "mktg[\"Effective To Date\"][5]"
   ]
  },
  {
   "cell_type": "markdown",
   "id": "3295f1bc-d5a4-469d-9c64-9711ad3c3b39",
   "metadata": {},
   "source": [
    "BONUS: Put all the previously mentioned data transformations into one or more functions."
   ]
  },
  {
   "cell_type": "code",
   "execution_count": 45,
   "id": "67c1141e-57fa-4b91-9586-41dedb1a8544",
   "metadata": {},
   "outputs": [],
   "source": [
    "#Standardize heather names\n",
    "def titulos_cols(df):\n",
    "    df.columns = df.columns.str.lower().str.replace(\" \", \"_\")\n",
    "    return df"
   ]
  },
  {
   "cell_type": "code",
   "execution_count": 46,
   "id": "79ef7027-fa4f-404c-8416-804137ef82a1",
   "metadata": {},
   "outputs": [],
   "source": [
    "#Rearrange columns in each DataFrame\n",
    "def reordenar_cols(df, df_fijo):\n",
    "    return df[df_fijo.columns]"
   ]
  },
  {
   "cell_type": "code",
   "execution_count": 47,
   "id": "9d06e936-fb73-4be5-bfc7-b7a70e6e40f7",
   "metadata": {},
   "outputs": [
    {
     "data": {
      "text/plain": [
       "1       6.979536e+09\n",
       "2       1.288743e+10\n",
       "3       7.645862e+09\n",
       "4       5.363076e+09\n",
       "5       8.256298e+09\n",
       "            ...     \n",
       "7065    2.340599e+08\n",
       "7066    3.096511e+07\n",
       "7067    8.163890e+07\n",
       "7068    7.524442e+07\n",
       "7069    2.611837e+07\n",
       "Name: customer_lifetime_value, Length: 9007, dtype: float64"
      ]
     },
     "execution_count": 47,
     "metadata": {},
     "output_type": "execute_result"
    }
   ],
   "source": [
    "#Esta se utilizó anteriormente\n",
    "def clean_customer_lifetime_value(value):\n",
    "    if isinstance(value,str):\n",
    "        #Remove percentage sign\n",
    "        value = value.replace(\"%\",\"\")\n",
    "        #Transform str to float\n",
    "        value = float(value)\n",
    "    value = value*100\n",
    "    return value\n",
    "los3[\"customer_lifetime_value\"] = los3[\"customer_lifetime_value\"].apply(clean_customer_lifetime_value)\n",
    "los3[\"customer_lifetime_value\"]"
   ]
  },
  {
   "cell_type": "code",
   "execution_count": 48,
   "id": "b643359f-efc7-47c4-af50-1ccac4b96c95",
   "metadata": {},
   "outputs": [],
   "source": [
    "#Eliminar duplicados\n",
    "def eliminar_duplicados(df):\n",
    "    return df.drop_duplicates()"
   ]
  },
  {
   "cell_type": "code",
   "execution_count": 49,
   "id": "9885f7b1-726a-4f25-a6c6-d6f1ff793241",
   "metadata": {},
   "outputs": [],
   "source": [
    "#Eliminar nulos\n",
    "def eliminar_nulos(df):\n",
    "    return df.dropna(inplace=True)"
   ]
  }
 ],
 "metadata": {
  "kernelspec": {
   "display_name": "Python 3 (ipykernel)",
   "language": "python",
   "name": "python3"
  },
  "language_info": {
   "codemirror_mode": {
    "name": "ipython",
    "version": 3
   },
   "file_extension": ".py",
   "mimetype": "text/x-python",
   "name": "python",
   "nbconvert_exporter": "python",
   "pygments_lexer": "ipython3",
   "version": "3.11.7"
  }
 },
 "nbformat": 4,
 "nbformat_minor": 5
}
