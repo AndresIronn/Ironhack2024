{
 "cells": [
  {
   "cell_type": "markdown",
   "id": "63c0fff7-88f3-4341-9ecb-edbfa9cc57f4",
   "metadata": {},
   "source": [
    "###### Andrés Genta"
   ]
  },
  {
   "cell_type": "code",
   "execution_count": 34,
   "id": "f7004063-b169-47a2-b6ce-50bcbee424f8",
   "metadata": {
    "tags": []
   },
   "outputs": [],
   "source": [
    "import numpy as np "
   ]
  },
  {
   "cell_type": "code",
   "execution_count": 35,
   "id": "6485ad23-7c4b-427b-977d-8278b57ded0c",
   "metadata": {
    "tags": []
   },
   "outputs": [
    {
     "name": "stdout",
     "output_type": "stream",
     "text": [
      "1.24.3\n"
     ]
    },
    {
     "data": {
      "text/plain": [
       "'\\n1.15.2\\n'"
      ]
     },
     "execution_count": 35,
     "metadata": {},
     "output_type": "execute_result"
    }
   ],
   "source": [
    "print(np.version.version) \n",
    "\"\"\"\n",
    "1.15.2\n",
    "\"\"\""
   ]
  },
  {
   "cell_type": "code",
   "execution_count": 36,
   "id": "97dc2521-0b82-4c39-9424-c60129587f4f",
   "metadata": {
    "tags": []
   },
   "outputs": [],
   "source": [
    "a=np.random.randint(10, size=(2,3,5))"
   ]
  },
  {
   "cell_type": "markdown",
   "id": "593f6926-70b0-4847-a249-3284cc4c9ab1",
   "metadata": {},
   "source": [
    "### Formas de generar random arrays:\n",
    "1) random.randint()\n",
    "2) random.random()\n",
    "3) random.rand()   "
   ]
  },
  {
   "cell_type": "code",
   "execution_count": 37,
   "id": "0176211d-d593-46ee-85e5-eb280a73e1ff",
   "metadata": {
    "tags": []
   },
   "outputs": [
    {
     "name": "stdout",
     "output_type": "stream",
     "text": [
      "[[[1 3 1 5 4]\n",
      "  [7 4 1 0 3]\n",
      "  [1 1 3 8 1]]\n",
      "\n",
      " [[3 6 4 7 1]\n",
      "  [8 0 1 6 1]\n",
      "  [9 3 4 7 9]]]\n"
     ]
    }
   ],
   "source": [
    "print(a)"
   ]
  },
  {
   "cell_type": "code",
   "execution_count": 38,
   "id": "1ac61038-7610-4120-9145-5e2b93a1ad5c",
   "metadata": {
    "tags": []
   },
   "outputs": [],
   "source": [
    "b=np.ones((5,2,3))"
   ]
  },
  {
   "cell_type": "code",
   "execution_count": 39,
   "id": "2ecaf34d-f26e-43fb-8ad3-157967cc3afc",
   "metadata": {
    "tags": []
   },
   "outputs": [
    {
     "name": "stdout",
     "output_type": "stream",
     "text": [
      "[[[1. 1. 1.]\n",
      "  [1. 1. 1.]]\n",
      "\n",
      " [[1. 1. 1.]\n",
      "  [1. 1. 1.]]\n",
      "\n",
      " [[1. 1. 1.]\n",
      "  [1. 1. 1.]]\n",
      "\n",
      " [[1. 1. 1.]\n",
      "  [1. 1. 1.]]\n",
      "\n",
      " [[1. 1. 1.]\n",
      "  [1. 1. 1.]]]\n"
     ]
    }
   ],
   "source": [
    "print(b)"
   ]
  },
  {
   "cell_type": "code",
   "execution_count": 40,
   "id": "a008d7fb-042d-43b7-bb90-76ba7e4dae78",
   "metadata": {
    "tags": []
   },
   "outputs": [
    {
     "name": "stdout",
     "output_type": "stream",
     "text": [
      "True\n"
     ]
    }
   ],
   "source": [
    "if a.size==b.size:\n",
    "    print(True)"
   ]
  },
  {
   "cell_type": "markdown",
   "id": "9b70440b-28b3-44ac-801f-f98f327a7f15",
   "metadata": {},
   "source": [
    "### 8)"
   ]
  },
  {
   "cell_type": "markdown",
   "id": "915735f1-c639-4bb7-ac84-0761e4845b5f",
   "metadata": {
    "tags": []
   },
   "source": [
    "No es posible sumar \"a\" con \"b\" ya que tienen diferentes shapes."
   ]
  },
  {
   "cell_type": "code",
   "execution_count": 41,
   "id": "addc3e28-f275-4c80-aaa3-34718df1dbf9",
   "metadata": {
    "tags": []
   },
   "outputs": [
    {
     "data": {
      "text/plain": [
       "(2, 3, 5)"
      ]
     },
     "execution_count": 41,
     "metadata": {},
     "output_type": "execute_result"
    }
   ],
   "source": [
    "c=np.transpose(b,(1,2,0))  \n",
    "c.shape"
   ]
  },
  {
   "cell_type": "markdown",
   "id": "0eb11832-232c-4eff-b4f6-fccbebce95e5",
   "metadata": {},
   "source": [
    "Con el vector (1,2,0) indico que la transposición sea de la forma (a,b,c) con a<b y b<c."
   ]
  },
  {
   "cell_type": "code",
   "execution_count": 42,
   "id": "9c7a53d7-bf04-4a61-8d5f-56dad975c895",
   "metadata": {
    "tags": []
   },
   "outputs": [
    {
     "name": "stdout",
     "output_type": "stream",
     "text": [
      "[[[ 2.  4.  2.  6.  5.]\n",
      "  [ 8.  5.  2.  1.  4.]\n",
      "  [ 2.  2.  4.  9.  2.]]\n",
      "\n",
      " [[ 4.  7.  5.  8.  2.]\n",
      "  [ 9.  1.  2.  7.  2.]\n",
      "  [10.  4.  5.  8. 10.]]]\n",
      "<class 'numpy.ndarray'>\n"
     ]
    },
    {
     "data": {
      "text/plain": [
       "(2, 3, 5)"
      ]
     },
     "execution_count": 42,
     "metadata": {},
     "output_type": "execute_result"
    }
   ],
   "source": [
    "d=a+c\n",
    "print(d)\n",
    "print(type(d))\n",
    "d.shape"
   ]
  },
  {
   "cell_type": "markdown",
   "id": "d1456ac9-9da0-4e59-9d4e-cde57d337dba",
   "metadata": {},
   "source": [
    "Fue posible que se realice la suma porque luego de la transposición, ambos arrays quedaron con el mismo shape."
   ]
  },
  {
   "cell_type": "code",
   "execution_count": 43,
   "id": "e6b7c963-acda-400b-839d-7412bb9007ac",
   "metadata": {
    "tags": []
   },
   "outputs": [
    {
     "name": "stdout",
     "output_type": "stream",
     "text": [
      "[[[1 3 1 5 4]\n",
      "  [7 4 1 0 3]\n",
      "  [1 1 3 8 1]]\n",
      "\n",
      " [[3 6 4 7 1]\n",
      "  [8 0 1 6 1]\n",
      "  [9 3 4 7 9]]]\n",
      "[[[ 2.  4.  2.  6.  5.]\n",
      "  [ 8.  5.  2.  1.  4.]\n",
      "  [ 2.  2.  4.  9.  2.]]\n",
      "\n",
      " [[ 4.  7.  5.  8.  2.]\n",
      "  [ 9.  1.  2.  7.  2.]\n",
      "  [10.  4.  5.  8. 10.]]]\n"
     ]
    }
   ],
   "source": [
    "print(a)\n",
    "print(d)"
   ]
  },
  {
   "cell_type": "markdown",
   "id": "99f9e155-f15e-43b6-83e2-b89b5416bd06",
   "metadata": {
    "tags": []
   },
   "source": [
    "Cada elemento del array \"d\" es superior a su correspondiente elemento en \"a\" por un valor de 1, dado que a \"a\" se le sumó el array de ones."
   ]
  },
  {
   "cell_type": "code",
   "execution_count": 44,
   "id": "535b9e4b-5743-4845-86e9-16ab6386979a",
   "metadata": {
    "tags": []
   },
   "outputs": [
    {
     "data": {
      "text/plain": [
       "array([[[1., 3., 1., 5., 4.],\n",
       "        [7., 4., 1., 0., 3.],\n",
       "        [1., 1., 3., 8., 1.]],\n",
       "\n",
       "       [[3., 6., 4., 7., 1.],\n",
       "        [8., 0., 1., 6., 1.],\n",
       "        [9., 3., 4., 7., 9.]]])"
      ]
     },
     "execution_count": 44,
     "metadata": {},
     "output_type": "execute_result"
    }
   ],
   "source": [
    "e=a*c\n",
    "e"
   ]
  },
  {
   "cell_type": "code",
   "execution_count": 45,
   "id": "1159d8a7-1335-4485-9e63-fe577849ce4d",
   "metadata": {
    "tags": []
   },
   "outputs": [
    {
     "name": "stdout",
     "output_type": "stream",
     "text": [
      "Equality Comparison Result:\n",
      "[[[ True  True  True  True  True]\n",
      "  [ True  True  True  True  True]\n",
      "  [ True  True  True  True  True]]\n",
      "\n",
      " [[ True  True  True  True  True]\n",
      "  [ True  True  True  True  True]\n",
      "  [ True  True  True  True  True]]]\n"
     ]
    }
   ],
   "source": [
    "equal_result = (a == e)       #Son iguales pues el resultado solo está compuesto con elementos=True\n",
    "print(\"Equality Comparison Result:\")\n",
    "print(equal_result)"
   ]
  },
  {
   "cell_type": "code",
   "execution_count": 46,
   "id": "370c2476-fc63-460c-bd6f-f3bba15d06b3",
   "metadata": {
    "tags": []
   },
   "outputs": [
    {
     "data": {
      "text/plain": [
       "10.0"
      ]
     },
     "execution_count": 46,
     "metadata": {},
     "output_type": "execute_result"
    }
   ],
   "source": [
    "d_max=np.max(d)\n",
    "d_max"
   ]
  },
  {
   "cell_type": "code",
   "execution_count": 47,
   "id": "d37aba87-9120-4407-b8d5-0ce73aa1aa78",
   "metadata": {
    "tags": []
   },
   "outputs": [
    {
     "data": {
      "text/plain": [
       "1.0"
      ]
     },
     "execution_count": 47,
     "metadata": {},
     "output_type": "execute_result"
    }
   ],
   "source": [
    "d_min=np.min(d)\n",
    "d_min"
   ]
  },
  {
   "cell_type": "code",
   "execution_count": 48,
   "id": "fb8e60e6-f382-4fb9-81db-b2f32f9a0c61",
   "metadata": {
    "tags": []
   },
   "outputs": [
    {
     "data": {
      "text/plain": [
       "4.733333333333333"
      ]
     },
     "execution_count": 48,
     "metadata": {},
     "output_type": "execute_result"
    }
   ],
   "source": [
    "d_mean=np.mean(d)\n",
    "d_mean"
   ]
  },
  {
   "cell_type": "markdown",
   "id": "f0499c30-0bf8-4f0e-8202-0157b14bdd9f",
   "metadata": {},
   "source": [
    "### 15)"
   ]
  },
  {
   "cell_type": "code",
   "execution_count": 49,
   "id": "b0cef9c3-afda-4305-bb45-cf1910e46839",
   "metadata": {
    "tags": []
   },
   "outputs": [
    {
     "name": "stdout",
     "output_type": "stream",
     "text": [
      "[[[1. 3. 1. 5. 4.]\n",
      "  [7. 4. 1. 0. 3.]\n",
      "  [1. 1. 3. 8. 1.]]\n",
      "\n",
      " [[3. 6. 4. 7. 1.]\n",
      "  [8. 0. 1. 6. 1.]\n",
      "  [9. 3. 4. 7. 9.]]]\n"
     ]
    }
   ],
   "source": [
    "f=np.empty([2,3,5])   #No entiendo, porque no me da una matriz vacía\n",
    "print(f)"
   ]
  },
  {
   "cell_type": "markdown",
   "id": "3d9da4dd-ac63-4757-8e0b-6ab3cf8b00fc",
   "metadata": {},
   "source": [
    "### 16)"
   ]
  },
  {
   "cell_type": "code",
   "execution_count": 50,
   "id": "86bc4631-6a4a-4080-91be-1379c47e93de",
   "metadata": {
    "tags": []
   },
   "outputs": [],
   "source": [
    "f[(d > d_min) & (d < d_mean)] = 25\n",
    "f[(d > d_mean) & (d < d_max)] = 75\n",
    "f[d == d_mean] = 50\n",
    "f[d == d_min] = 0\n",
    "f[d == d_max] = 100\n"
   ]
  },
  {
   "cell_type": "code",
   "execution_count": 51,
   "id": "dd21e1d1-c792-41b1-8de8-f52a39903866",
   "metadata": {
    "tags": []
   },
   "outputs": [
    {
     "data": {
      "text/plain": [
       "array([[[ 25.,  25.,  25.,  75.,  75.],\n",
       "        [ 75.,  75.,  25.,   0.,  25.],\n",
       "        [ 25.,  25.,  25.,  75.,  25.]],\n",
       "\n",
       "       [[ 25.,  75.,  75.,  75.,  25.],\n",
       "        [ 75.,   0.,  25.,  75.,  25.],\n",
       "        [100.,  25.,  75.,  75., 100.]]])"
      ]
     },
     "execution_count": 51,
     "metadata": {},
     "output_type": "execute_result"
    }
   ],
   "source": [
    "f"
   ]
  },
  {
   "cell_type": "markdown",
   "id": "4eec6466-ff21-4b62-b32c-f785a99260cc",
   "metadata": {},
   "source": [
    "### 17)"
   ]
  },
  {
   "cell_type": "code",
   "execution_count": 52,
   "id": "9f945c64-a9df-41ba-a7c8-afd0a078c2c9",
   "metadata": {
    "tags": []
   },
   "outputs": [
    {
     "name": "stdout",
     "output_type": "stream",
     "text": [
      "[[[ 2.  4.  2.  6.  5.]\n",
      "  [ 8.  5.  2.  1.  4.]\n",
      "  [ 2.  2.  4.  9.  2.]]\n",
      "\n",
      " [[ 4.  7.  5.  8.  2.]\n",
      "  [ 9.  1.  2.  7.  2.]\n",
      "  [10.  4.  5.  8. 10.]]]\n",
      "[[[ 25.  25.  25.  75.  75.]\n",
      "  [ 75.  75.  25.   0.  25.]\n",
      "  [ 25.  25.  25.  75.  25.]]\n",
      "\n",
      " [[ 25.  75.  75.  75.  25.]\n",
      "  [ 75.   0.  25.  75.  25.]\n",
      "  [100.  25.  75.  75. 100.]]]\n"
     ]
    }
   ],
   "source": [
    "print(d)\n",
    "print(f)"
   ]
  },
  {
   "cell_type": "markdown",
   "id": "0b57f4ad-bdc0-4aad-adba-a4511908b08c",
   "metadata": {
    "tags": []
   },
   "source": [
    "##### Obtuve lo esperado. \n",
    "##### Obs: No obtuve ningún elemento en \"f\" de valor 50 porque el mean de \"d\" es ~ 4.73 y los elementos de \"d\"         están en enteros."
   ]
  },
  {
   "cell_type": "markdown",
   "id": "13b1b86c-e31f-473f-aaee-7ea31471317f",
   "metadata": {},
   "source": [
    "### 18) **BONUS**"
   ]
  },
  {
   "cell_type": "code",
   "execution_count": 53,
   "id": "fc7e1883-b509-492b-8cd2-e7755907aee3",
   "metadata": {
    "tags": []
   },
   "outputs": [
    {
     "name": "stdout",
     "output_type": "stream",
     "text": [
      "[[[25.0, 25.0, 25.0, 75.0, 75.0], [75.0, 75.0, 25.0, 0.0, 25.0], [25.0, 25.0, 25.0, 75.0, 25.0]], [[25.0, 75.0, 75.0, 75.0, 25.0], [75.0, 0.0, 25.0, 75.0, 25.0], [100.0, 25.0, 75.0, 75.0, 100.0]]]\n"
     ]
    },
    {
     "data": {
      "text/plain": [
       "list"
      ]
     },
     "execution_count": 53,
     "metadata": {},
     "output_type": "execute_result"
    }
   ],
   "source": [
    "f_en_lista=f.tolist()\n",
    "print(f_en_lista)\n",
    "type(f_en_lista)\n"
   ]
  },
  {
   "cell_type": "code",
   "execution_count": 54,
   "id": "a208055c-af69-4308-a9e8-7ca6e06d225c",
   "metadata": {
    "tags": []
   },
   "outputs": [
    {
     "name": "stdout",
     "output_type": "stream",
     "text": [
      "[25.0, 25.0, 25.0, 75.0, 75.0, 75.0, 75.0, 25.0, 0.0, 25.0, 25.0, 25.0, 25.0, 75.0, 25.0, 25.0, 75.0, 75.0, 75.0, 25.0, 75.0, 0.0, 25.0, 75.0, 25.0, 100.0, 25.0, 75.0, 75.0, 100.0]\n",
      "['B', 'B', 'B', 'D', 'D', 'D', 'D', 'B', 'A', 'B', 'B', 'B', 'B', 'D', 'B', 'B', 'D', 'D', 'D', 'B', 'D', 'A', 'B', 'D', 'B', 'E', 'B', 'D', 'D', 'E']\n"
     ]
    }
   ],
   "source": [
    "f_nuevo=[]\n",
    "for matriz in f_en_lista:\n",
    "    for lista in matriz:\n",
    "        for elem in lista:\n",
    "            f_nuevo.append(elem)\n",
    "print(f_nuevo)\n",
    "\n",
    "for i in range(len(f_nuevo)):\n",
    "    if f_nuevo[i]==0:\n",
    "        f_nuevo[i]=\"A\"\n",
    "    elif f_nuevo[i]==25.0:\n",
    "        f_nuevo[i]=\"B\"\n",
    "    elif f_nuevo[i]==50:\n",
    "        f_nuevo[i]=\"C\"\n",
    "    elif f_nuevo[i]==75:\n",
    "        f_nuevo[i]=\"D\"\n",
    "    else:\n",
    "        f_nuevo[i]=\"E\"\n",
    "    \n",
    "print(f_nuevo)\n",
    "            "
   ]
  },
  {
   "cell_type": "code",
   "execution_count": 55,
   "id": "39e31ab0-8e79-4bc8-a6d0-dddcaaeeded2",
   "metadata": {
    "tags": []
   },
   "outputs": [
    {
     "name": "stdout",
     "output_type": "stream",
     "text": [
      "[[['B' 'B' 'B' 'D' 'D']\n",
      "  ['D' 'D' 'B' 'A' 'B']\n",
      "  ['B' 'B' 'B' 'D' 'B']]\n",
      "\n",
      " [['B' 'D' 'D' 'D' 'B']\n",
      "  ['D' 'A' 'B' 'D' 'B']\n",
      "  ['E' 'B' 'D' 'D' 'E']]]\n"
     ]
    },
    {
     "data": {
      "text/plain": [
       "(2, 3, 5)"
      ]
     },
     "execution_count": 55,
     "metadata": {},
     "output_type": "execute_result"
    }
   ],
   "source": [
    "f_final=np.resize(f_nuevo,(2,3,5))\n",
    "print(f_final)\n",
    "f_final.shape"
   ]
  },
  {
   "cell_type": "markdown",
   "id": "f2f4574c-8c21-48cf-8309-2404a71a57fa",
   "metadata": {},
   "source": [
    "### Lo primero que hice fue pasar \"f\" a lista porque numpy es para trabajar con números. Luego de tenerlo en type lista, en realidad quedó como una lista con listas, por lo que hice 3 fors combinados para pasarlo a una única lista (me queda más cómodo hacerlo así que con las list comprehensions). Después cambié los números por las letras correspondientes y lo transformé en un array haciéndole un resize para que quede con el shape original de f."
   ]
  }
 ],
 "metadata": {
  "kernelspec": {
   "display_name": "Python 3 (ipykernel)",
   "language": "python",
   "name": "python3"
  },
  "language_info": {
   "codemirror_mode": {
    "name": "ipython",
    "version": 3
   },
   "file_extension": ".py",
   "mimetype": "text/x-python",
   "name": "python",
   "nbconvert_exporter": "python",
   "pygments_lexer": "ipython3",
   "version": "3.11.5"
  }
 },
 "nbformat": 4,
 "nbformat_minor": 5
}
